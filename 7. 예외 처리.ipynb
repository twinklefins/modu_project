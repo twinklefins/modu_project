{
 "cells": [
  {
   "cell_type": "code",
   "execution_count": 1,
   "id": "67e5281b",
   "metadata": {},
   "outputs": [
    {
     "ename": "SyntaxError",
     "evalue": "unterminated string literal (detected at line 1) (855599258.py, line 1)",
     "output_type": "error",
     "traceback": [
      "  \u001b[36mCell\u001b[39m\u001b[36m \u001b[39m\u001b[32mIn[1]\u001b[39m\u001b[32m, line 1\u001b[39m\n\u001b[31m    \u001b[39m\u001b[31mprint('안녕하세요\")\u001b[39m\n          ^\n\u001b[31mSyntaxError\u001b[39m\u001b[31m:\u001b[39m unterminated string literal (detected at line 1)\n"
     ]
    }
   ],
   "source": [
    "print('안녕하세요\")"
   ]
  },
  {
   "cell_type": "code",
   "execution_count": 2,
   "id": "da4f2e0b",
   "metadata": {},
   "outputs": [
    {
     "ename": "NameError",
     "evalue": "name 'list_a' is not defined",
     "output_type": "error",
     "traceback": [
      "\u001b[31m---------------------------------------------------------------------------\u001b[39m",
      "\u001b[31mNameError\u001b[39m                                 Traceback (most recent call last)",
      "\u001b[36mCell\u001b[39m\u001b[36m \u001b[39m\u001b[32mIn[2]\u001b[39m\u001b[32m, line 1\u001b[39m\n\u001b[32m----> \u001b[39m\u001b[32m1\u001b[39m \u001b[43mlist_a\u001b[49m[\u001b[32m0\u001b[39m]\n",
      "\u001b[31mNameError\u001b[39m: name 'list_a' is not defined"
     ]
    }
   ],
   "source": [
    "list_a[0]"
   ]
  },
  {
   "cell_type": "code",
   "execution_count": 3,
   "id": "f723aec3",
   "metadata": {},
   "outputs": [
    {
     "name": "stdout",
     "output_type": "stream",
     "text": [
      "입력한 정수는 5입니다.\n"
     ]
    }
   ],
   "source": [
    "# 정수를 입력 받아서 출력하는 코드\n",
    "num = int(input('정수를 입력하세요 : '))\n",
    "\n",
    "print(f'입력한 정수는 {num}입니다.')"
   ]
  },
  {
   "cell_type": "code",
   "execution_count": 4,
   "id": "0e9c6507",
   "metadata": {},
   "outputs": [
    {
     "ename": "ValueError",
     "evalue": "invalid literal for int() with base 10: '유주'",
     "output_type": "error",
     "traceback": [
      "\u001b[31m---------------------------------------------------------------------------\u001b[39m",
      "\u001b[31mValueError\u001b[39m                                Traceback (most recent call last)",
      "\u001b[36mCell\u001b[39m\u001b[36m \u001b[39m\u001b[32mIn[4]\u001b[39m\u001b[32m, line 2\u001b[39m\n\u001b[32m      1\u001b[39m \u001b[38;5;66;03m# 각자의 이름을 입력해서 일부러 에러를 내보세요.\u001b[39;00m\n\u001b[32m----> \u001b[39m\u001b[32m2\u001b[39m num = \u001b[38;5;28;43mint\u001b[39;49m\u001b[43m(\u001b[49m\u001b[38;5;28;43minput\u001b[39;49m\u001b[43m(\u001b[49m\u001b[33;43m'\u001b[39;49m\u001b[33;43m정수를 입력하세요 : \u001b[39;49m\u001b[33;43m'\u001b[39;49m\u001b[43m)\u001b[49m\u001b[43m)\u001b[49m\n\u001b[32m      4\u001b[39m \u001b[38;5;28mprint\u001b[39m(\u001b[33mf\u001b[39m\u001b[33m'\u001b[39m\u001b[33m입력한 정수는 \u001b[39m\u001b[38;5;132;01m{\u001b[39;00mnum\u001b[38;5;132;01m}\u001b[39;00m\u001b[33m입니다.\u001b[39m\u001b[33m'\u001b[39m)\n",
      "\u001b[31mValueError\u001b[39m: invalid literal for int() with base 10: '유주'"
     ]
    }
   ],
   "source": [
    "# 각자의 이름을 입력해서 일부러 에러를 내보세요.\n",
    "num = int(input('정수를 입력하세요 : '))\n",
    "\n",
    "print(f'입력한 정수는 {num}입니다.')"
   ]
  },
  {
   "cell_type": "code",
   "execution_count": null,
   "id": "12c6515c",
   "metadata": {},
   "outputs": [],
   "source": [
    "# 정수가 아닌 값을 입력해서 예외 처리를 잘 하는지 확인해 보세요.  \n",
    "num = input('정수를 입력하세요 : ')  # int() 함수 제거\n",
    "\n",
    "# 입력값이 정수일 때만\n",
    "# Q. 아래의 빈 코드를 채워보세요. \n",
    "if # [[YOUR CODE]]\n",
    "    print(f'입력한 정수는 {num}입니다.')\n",
    "\n",
    "# 입력값이 정수가 아닐 때\n",
    "else:\n",
    "    print('정수가 아닙니다.')"
   ]
  },
  {
   "cell_type": "code",
   "execution_count": 10,
   "id": "66b49ec8",
   "metadata": {},
   "outputs": [
    {
     "name": "stdout",
     "output_type": "stream",
     "text": [
      "입력한 정수는 23423입니다.\n"
     ]
    }
   ],
   "source": [
    "# 정수가 아닌 값을 입력해서 예외 처리를 잘 하는지 확인해 보세요.  \n",
    "num = input('정수를 입력하세요 : ')  # int() 함수 제거\n",
    "\n",
    "# 입력값이 정수일 때만\n",
    "# Q. 아래의 빈 코드를 채워보세요. \n",
    "if num.isdigit():\n",
    "    print(f'입력한 정수는 {num}입니다.')\n",
    "\n",
    "# 입력값이 정수가 아닐 때\n",
    "else:\n",
    "    print('정수가 아닙니다.')"
   ]
  },
  {
   "cell_type": "code",
   "execution_count": 11,
   "id": "f43bfc29",
   "metadata": {},
   "outputs": [
    {
     "name": "stdout",
     "output_type": "stream",
     "text": [
      "1\n",
      "3\n",
      "5\n",
      "7\n",
      "9\n"
     ]
    }
   ],
   "source": [
    "# lstrip 함수의 예시\n",
    "ex = ['-1', '-3', '-5', '-7', '-9']\n",
    "\n",
    "for i in range(len(ex)):\n",
    "    print(ex[i].lstrip(\"-\"))"
   ]
  },
  {
   "cell_type": "code",
   "execution_count": null,
   "id": "1754a722",
   "metadata": {},
   "outputs": [],
   "source": [
    "# 정수가 아닌 값을 입력해서 예외 처리를 잘 하는지 확인해 보세요.  \n",
    "num = input('정수를 입력하세요 : ')  # int() 함수 제거\n",
    "\n",
    "# 입력값이 0과 양의 정수일 때\n",
    "# Q. 아래의 빈 코드를 채워보세요. \n",
    "if # [[YOUR CODE]]\n",
    "    print(f'입력한 정수는 {num}입니다.')\n",
    "    \n",
    "# 입력값이 음의 정수일 때\n",
    "# Q. 아래의 빈 코드를 채워보세요. \n",
    "elif # [[YOUR CODE]]\n",
    "    print(f'입력한 정수는 {num}입니다.')\n",
    "\n",
    "# 입력값이 정수가 아닐 때\n",
    "else:\n",
    "    print('정수가 아닙니다.')"
   ]
  },
  {
   "cell_type": "code",
   "execution_count": 18,
   "id": "95f27936",
   "metadata": {},
   "outputs": [
    {
     "name": "stdout",
     "output_type": "stream",
     "text": [
      "입력한 정수는 -5입니다.\n"
     ]
    }
   ],
   "source": [
    "# 정수가 아닌 값을 입력해서 예외 처리를 잘 하는지 확인해 보세요.  \n",
    "num = input('정수를 입력하세요 : ')  # int() 함수 제거\n",
    "\n",
    "# 입력값이 0과 양의 정수일 때\n",
    "# Q. 아래의 빈 코드를 채워보세요. \n",
    "if num.isdigit():\n",
    "    print(f'입력한 정수는 {num}입니다.')\n",
    "    \n",
    "# 입력값이 음의 정수일 때\n",
    "# Q. 아래의 빈 코드를 채워보세요. \n",
    "elif num.lstrip('-').isdigit():\n",
    "    print(f'입력한 정수는 {num}입니다.')\n",
    "\n",
    "# 입력값이 정수가 아닐 때\n",
    "else:\n",
    "    print('정수가 아닙니다.')"
   ]
  },
  {
   "cell_type": "code",
   "execution_count": 19,
   "id": "f04e5706",
   "metadata": {},
   "outputs": [
    {
     "name": "stdout",
     "output_type": "stream",
     "text": [
      "입력한 수는 -0.25입니다.\n"
     ]
    }
   ],
   "source": [
    "# try - except 구문 \n",
    "# 시도할 코드\n",
    "try:\n",
    "    # 예외 걱정 없이 입력값에 float 함수를 씌움\n",
    "    num = float(input('수를 입력하세요 : '))\n",
    "    print(f'입력한 수는 {num}입니다.')\n",
    "\n",
    "# try에서 예외가 발생했을 때 실행할 코드\n",
    "except:\n",
    "    print('수가 아닙니다.')"
   ]
  },
  {
   "cell_type": "code",
   "execution_count": 21,
   "id": "cae6b703",
   "metadata": {},
   "outputs": [
    {
     "name": "stdout",
     "output_type": "stream",
     "text": [
      "끝!\n"
     ]
    }
   ],
   "source": [
    "# try - except - pass 구문 \n",
    "# 오류를 발생하는 입력값을 넣어봅시다.\n",
    "\n",
    "# 시도할 코드\n",
    "try:\n",
    "    # 예외 걱정 없이 입력값에 float 함수를 씌움\n",
    "    num = float(input('수를 입력하세요 : '))\n",
    "    print(f'입력한 수는 {num}입니다.')\n",
    "\n",
    "# try에서 예외가 발생했을 때 실행할 코드\n",
    "except:\n",
    "    pass\n",
    "\n",
    "print('끝!')"
   ]
  },
  {
   "cell_type": "code",
   "execution_count": 23,
   "id": "43aeb44e",
   "metadata": {},
   "outputs": [
    {
     "name": "stdout",
     "output_type": "stream",
     "text": [
      "입력한 수는 88.0입니다.\n"
     ]
    }
   ],
   "source": [
    "# try - except - else 구문 \n",
    "\n",
    "# 시도할 코드\n",
    "try:\n",
    "    # 예외 걱정 없이 입력값에 float 함수를 씌움\n",
    "    num = float(input('수를 입력하세요 : '))\n",
    "\n",
    "# try에서 예외가 발생했을 때 실행할 코드\n",
    "except:\n",
    "    print('수가 아닙니다.')\n",
    "\n",
    "# try에서 예외가 발생하지 않을 때 실행할 코드\n",
    "else:\n",
    "    print(f'입력한 수는 {num}입니다.')"
   ]
  },
  {
   "cell_type": "code",
   "execution_count": null,
   "id": "da34934d",
   "metadata": {},
   "outputs": [],
   "source": [
    "# try - except - else - finally 구문 \n",
    "\n",
    "# Q. 위에서 배운 코드를 바탕으로 아래의 빈 코드를 채워보세요. \n",
    "# 시도할 코드 \n",
    "try:\n",
    "    # 예외 걱정 없이 입력값에 float 함수를 씌움\n",
    "    num = float(input('수를 입력하세요 : '))\n",
    "\n",
    "# try에서 예외가 발생했을 때 실행할 코드\n",
    "except:\n",
    "    print('수가 아닙니다.')\n",
    "\n",
    "# try에서 예외가 발생하지 않았다면 실행할 코드\n",
    "else:\n",
    "    print(f'입력한 수는 {num}입니다.')\n",
    "\n",
    "# finally 구문 추가\n",
    "finally:\n",
    "    print('*' * 25)\n",
    "    print('프로그램이 끝났습니다.')"
   ]
  },
  {
   "cell_type": "code",
   "execution_count": 24,
   "id": "50498e2c",
   "metadata": {},
   "outputs": [
    {
     "ename": "SyntaxError",
     "evalue": "incomplete input (2945140180.py, line 3)",
     "output_type": "error",
     "traceback": [
      "  \u001b[36mCell\u001b[39m\u001b[36m \u001b[39m\u001b[32mIn[24]\u001b[39m\u001b[32m, line 3\u001b[39m\n\u001b[31m    \u001b[39m\u001b[31mprint('오류가 날까?')\u001b[39m\n                    ^\n\u001b[31mSyntaxError\u001b[39m\u001b[31m:\u001b[39m incomplete input\n"
     ]
    }
   ],
   "source": [
    "# try 구문만 실행해보기\n",
    "try:\n",
    "    print('오류가 날까?')"
   ]
  },
  {
   "cell_type": "code",
   "execution_count": 25,
   "id": "853a6e52",
   "metadata": {},
   "outputs": [
    {
     "ename": "Exception",
     "evalue": "에러를 일부러 발생시킴",
     "output_type": "error",
     "traceback": [
      "\u001b[31m---------------------------------------------------------------------------\u001b[39m",
      "\u001b[31mException\u001b[39m                                 Traceback (most recent call last)",
      "\u001b[36mCell\u001b[39m\u001b[36m \u001b[39m\u001b[32mIn[25]\u001b[39m\u001b[32m, line 2\u001b[39m\n\u001b[32m      1\u001b[39m \u001b[38;5;66;03m# 에러를 일부러 발생시켜 봅시다.\u001b[39;00m\n\u001b[32m----> \u001b[39m\u001b[32m2\u001b[39m \u001b[38;5;28;01mraise\u001b[39;00m \u001b[38;5;167;01mException\u001b[39;00m(\u001b[33m'\u001b[39m\u001b[33m에러를 일부러 발생시킴\u001b[39m\u001b[33m'\u001b[39m)\n",
      "\u001b[31mException\u001b[39m: 에러를 일부러 발생시킴"
     ]
    }
   ],
   "source": [
    "# 에러를 일부러 발생시켜 봅시다.\n",
    "raise Exception('에러를 일부러 발생시킴')"
   ]
  },
  {
   "cell_type": "code",
   "execution_count": 26,
   "id": "c5675a4b",
   "metadata": {},
   "outputs": [
    {
     "ename": "NameError",
     "evalue": "name 'a' is not defined",
     "output_type": "error",
     "traceback": [
      "\u001b[31m---------------------------------------------------------------------------\u001b[39m",
      "\u001b[31mNameError\u001b[39m                                 Traceback (most recent call last)",
      "\u001b[36mCell\u001b[39m\u001b[36m \u001b[39m\u001b[32mIn[26]\u001b[39m\u001b[32m, line 2\u001b[39m\n\u001b[32m      1\u001b[39m \u001b[38;5;66;03m# NameError\u001b[39;00m\n\u001b[32m----> \u001b[39m\u001b[32m2\u001b[39m \u001b[38;5;28mprint\u001b[39m(\u001b[43ma\u001b[49m)\n",
      "\u001b[31mNameError\u001b[39m: name 'a' is not defined"
     ]
    }
   ],
   "source": [
    "# NameError\n",
    "print(a)"
   ]
  },
  {
   "cell_type": "code",
   "execution_count": 27,
   "id": "b88b39ab",
   "metadata": {},
   "outputs": [
    {
     "ename": "ZeroDivisionError",
     "evalue": "division by zero",
     "output_type": "error",
     "traceback": [
      "\u001b[31m---------------------------------------------------------------------------\u001b[39m",
      "\u001b[31mZeroDivisionError\u001b[39m                         Traceback (most recent call last)",
      "\u001b[36mCell\u001b[39m\u001b[36m \u001b[39m\u001b[32mIn[27]\u001b[39m\u001b[32m, line 2\u001b[39m\n\u001b[32m      1\u001b[39m \u001b[38;5;66;03m# ZeroDivisionError\u001b[39;00m\n\u001b[32m----> \u001b[39m\u001b[32m2\u001b[39m \u001b[38;5;28mprint\u001b[39m(\u001b[32;43m10\u001b[39;49m\u001b[43m \u001b[49m\u001b[43m/\u001b[49m\u001b[43m \u001b[49m\u001b[32;43m0\u001b[39;49m)\n",
      "\u001b[31mZeroDivisionError\u001b[39m: division by zero"
     ]
    }
   ],
   "source": [
    "# ZeroDivisionError\n",
    "print(10 / 0)"
   ]
  },
  {
   "cell_type": "code",
   "execution_count": 28,
   "id": "775d66a7",
   "metadata": {},
   "outputs": [
    {
     "ename": "IndexError",
     "evalue": "list index out of range",
     "output_type": "error",
     "traceback": [
      "\u001b[31m---------------------------------------------------------------------------\u001b[39m",
      "\u001b[31mIndexError\u001b[39m                                Traceback (most recent call last)",
      "\u001b[36mCell\u001b[39m\u001b[36m \u001b[39m\u001b[32mIn[28]\u001b[39m\u001b[32m, line 3\u001b[39m\n\u001b[32m      1\u001b[39m \u001b[38;5;66;03m# IndexError\u001b[39;00m\n\u001b[32m      2\u001b[39m a = [\u001b[32m10\u001b[39m, \u001b[32m20\u001b[39m, \u001b[32m30\u001b[39m]\n\u001b[32m----> \u001b[39m\u001b[32m3\u001b[39m \u001b[38;5;28mprint\u001b[39m(\u001b[43ma\u001b[49m\u001b[43m[\u001b[49m\u001b[32;43m4\u001b[39;49m\u001b[43m]\u001b[49m)\n",
      "\u001b[31mIndexError\u001b[39m: list index out of range"
     ]
    }
   ],
   "source": [
    "# IndexError\n",
    "a = [10, 20, 30]\n",
    "print(a[4])"
   ]
  },
  {
   "cell_type": "code",
   "execution_count": 29,
   "id": "ad31666d",
   "metadata": {},
   "outputs": [
    {
     "ename": "ValueError",
     "evalue": "list.remove(x): x not in list",
     "output_type": "error",
     "traceback": [
      "\u001b[31m---------------------------------------------------------------------------\u001b[39m",
      "\u001b[31mValueError\u001b[39m                                Traceback (most recent call last)",
      "\u001b[36mCell\u001b[39m\u001b[36m \u001b[39m\u001b[32mIn[29]\u001b[39m\u001b[32m, line 3\u001b[39m\n\u001b[32m      1\u001b[39m \u001b[38;5;66;03m# ValueError\u001b[39;00m\n\u001b[32m      2\u001b[39m a = [\u001b[32m10\u001b[39m, \u001b[32m20\u001b[39m, \u001b[32m30\u001b[39m]\n\u001b[32m----> \u001b[39m\u001b[32m3\u001b[39m \u001b[43ma\u001b[49m\u001b[43m.\u001b[49m\u001b[43mremove\u001b[49m\u001b[43m(\u001b[49m\u001b[32;43m40\u001b[39;49m\u001b[43m)\u001b[49m\n",
      "\u001b[31mValueError\u001b[39m: list.remove(x): x not in list"
     ]
    }
   ],
   "source": [
    "# ValueError\n",
    "a = [10, 20, 30]\n",
    "a.remove(40)"
   ]
  },
  {
   "cell_type": "code",
   "execution_count": 30,
   "id": "91d0c111",
   "metadata": {},
   "outputs": [
    {
     "ename": "KeyError",
     "evalue": "'Park'",
     "output_type": "error",
     "traceback": [
      "\u001b[31m---------------------------------------------------------------------------\u001b[39m",
      "\u001b[31mKeyError\u001b[39m                                  Traceback (most recent call last)",
      "\u001b[36mCell\u001b[39m\u001b[36m \u001b[39m\u001b[32mIn[30]\u001b[39m\u001b[32m, line 3\u001b[39m\n\u001b[32m      1\u001b[39m \u001b[38;5;66;03m# KeyError\u001b[39;00m\n\u001b[32m      2\u001b[39m mydict = {\u001b[33m'\u001b[39m\u001b[33mKim\u001b[39m\u001b[33m'\u001b[39m: \u001b[32m1\u001b[39m, \u001b[33m'\u001b[39m\u001b[33mLee\u001b[39m\u001b[33m'\u001b[39m: \u001b[32m2\u001b[39m}\n\u001b[32m----> \u001b[39m\u001b[32m3\u001b[39m \u001b[38;5;28mprint\u001b[39m(\u001b[43mmydict\u001b[49m\u001b[43m[\u001b[49m\u001b[33;43m'\u001b[39;49m\u001b[33;43mPark\u001b[39;49m\u001b[33;43m'\u001b[39;49m\u001b[43m]\u001b[49m)\n",
      "\u001b[31mKeyError\u001b[39m: 'Park'"
     ]
    }
   ],
   "source": [
    "# KeyError\n",
    "mydict = {'Kim': 1, 'Lee': 2}\n",
    "print(mydict['Park'])"
   ]
  },
  {
   "cell_type": "code",
   "execution_count": 31,
   "id": "1b16376c",
   "metadata": {},
   "outputs": [
    {
     "name": "stdout",
     "output_type": "stream",
     "text": [
      "None\n"
     ]
    }
   ],
   "source": [
    "print(mydict.get('Park'))"
   ]
  },
  {
   "cell_type": "code",
   "execution_count": 32,
   "id": "b7495946",
   "metadata": {},
   "outputs": [
    {
     "ename": "AttributeError",
     "evalue": "module 'time' has no attribute 'month'",
     "output_type": "error",
     "traceback": [
      "\u001b[31m---------------------------------------------------------------------------\u001b[39m",
      "\u001b[31mAttributeError\u001b[39m                            Traceback (most recent call last)",
      "\u001b[36mCell\u001b[39m\u001b[36m \u001b[39m\u001b[32mIn[32]\u001b[39m\u001b[32m, line 3\u001b[39m\n\u001b[32m      1\u001b[39m \u001b[38;5;66;03m# AttributeError\u001b[39;00m\n\u001b[32m      2\u001b[39m \u001b[38;5;28;01mimport\u001b[39;00m\u001b[38;5;250m \u001b[39m\u001b[34;01mtime\u001b[39;00m\n\u001b[32m----> \u001b[39m\u001b[32m3\u001b[39m \u001b[43mtime\u001b[49m\u001b[43m.\u001b[49m\u001b[43mmonth\u001b[49m()\n",
      "\u001b[31mAttributeError\u001b[39m: module 'time' has no attribute 'month'"
     ]
    }
   ],
   "source": [
    "# AttributeError\n",
    "import time\n",
    "time.month()"
   ]
  },
  {
   "cell_type": "code",
   "execution_count": 33,
   "id": "34bf6052",
   "metadata": {},
   "outputs": [
    {
     "ename": "FileNotFoundError",
     "evalue": "[Errno 2] No such file or directory: 'ex.txt'",
     "output_type": "error",
     "traceback": [
      "\u001b[31m---------------------------------------------------------------------------\u001b[39m",
      "\u001b[31mFileNotFoundError\u001b[39m                         Traceback (most recent call last)",
      "\u001b[36mCell\u001b[39m\u001b[36m \u001b[39m\u001b[32mIn[33]\u001b[39m\u001b[32m, line 1\u001b[39m\n\u001b[32m----> \u001b[39m\u001b[32m1\u001b[39m f = \u001b[38;5;28;43mopen\u001b[39;49m\u001b[43m(\u001b[49m\u001b[33;43m'\u001b[39;49m\u001b[33;43mex.txt\u001b[39;49m\u001b[33;43m'\u001b[39;49m\u001b[43m,\u001b[49m\u001b[43m \u001b[49m\u001b[33;43m'\u001b[39;49m\u001b[33;43mr\u001b[39;49m\u001b[33;43m'\u001b[39;49m\u001b[43m)\u001b[49m\n",
      "\u001b[36mFile \u001b[39m\u001b[32m/opt/homebrew/lib/python3.12/site-packages/IPython/core/interactiveshell.py:343\u001b[39m, in \u001b[36m_modified_open\u001b[39m\u001b[34m(file, *args, **kwargs)\u001b[39m\n\u001b[32m    336\u001b[39m \u001b[38;5;28;01mif\u001b[39;00m file \u001b[38;5;129;01min\u001b[39;00m {\u001b[32m0\u001b[39m, \u001b[32m1\u001b[39m, \u001b[32m2\u001b[39m}:\n\u001b[32m    337\u001b[39m     \u001b[38;5;28;01mraise\u001b[39;00m \u001b[38;5;167;01mValueError\u001b[39;00m(\n\u001b[32m    338\u001b[39m         \u001b[33mf\u001b[39m\u001b[33m\"\u001b[39m\u001b[33mIPython won\u001b[39m\u001b[33m'\u001b[39m\u001b[33mt let you open fd=\u001b[39m\u001b[38;5;132;01m{\u001b[39;00mfile\u001b[38;5;132;01m}\u001b[39;00m\u001b[33m by default \u001b[39m\u001b[33m\"\u001b[39m\n\u001b[32m    339\u001b[39m         \u001b[33m\"\u001b[39m\u001b[33mas it is likely to crash IPython. If you know what you are doing, \u001b[39m\u001b[33m\"\u001b[39m\n\u001b[32m    340\u001b[39m         \u001b[33m\"\u001b[39m\u001b[33myou can use builtins\u001b[39m\u001b[33m'\u001b[39m\u001b[33m open.\u001b[39m\u001b[33m\"\u001b[39m\n\u001b[32m    341\u001b[39m     )\n\u001b[32m--> \u001b[39m\u001b[32m343\u001b[39m \u001b[38;5;28;01mreturn\u001b[39;00m \u001b[43mio_open\u001b[49m\u001b[43m(\u001b[49m\u001b[43mfile\u001b[49m\u001b[43m,\u001b[49m\u001b[43m \u001b[49m\u001b[43m*\u001b[49m\u001b[43margs\u001b[49m\u001b[43m,\u001b[49m\u001b[43m \u001b[49m\u001b[43m*\u001b[49m\u001b[43m*\u001b[49m\u001b[43mkwargs\u001b[49m\u001b[43m)\u001b[49m\n",
      "\u001b[31mFileNotFoundError\u001b[39m: [Errno 2] No such file or directory: 'ex.txt'"
     ]
    }
   ],
   "source": [
    "f = open('ex.txt', 'r')"
   ]
  },
  {
   "cell_type": "code",
   "execution_count": 34,
   "id": "96d89a6a",
   "metadata": {},
   "outputs": [
    {
     "ename": "TypeError",
     "evalue": "can only concatenate list (not \"str\") to list",
     "output_type": "error",
     "traceback": [
      "\u001b[31m---------------------------------------------------------------------------\u001b[39m",
      "\u001b[31mTypeError\u001b[39m                                 Traceback (most recent call last)",
      "\u001b[36mCell\u001b[39m\u001b[36m \u001b[39m\u001b[32mIn[34]\u001b[39m\u001b[32m, line 4\u001b[39m\n\u001b[32m      2\u001b[39m a = [\u001b[32m1\u001b[39m, \u001b[32m2\u001b[39m]\n\u001b[32m      3\u001b[39m b = \u001b[33m\"\u001b[39m\u001b[33mHello\u001b[39m\u001b[33m\"\u001b[39m\n\u001b[32m----> \u001b[39m\u001b[32m4\u001b[39m \u001b[38;5;28mprint\u001b[39m(\u001b[43ma\u001b[49m\u001b[43m \u001b[49m\u001b[43m+\u001b[49m\u001b[43m \u001b[49m\u001b[43mb\u001b[49m)\n",
      "\u001b[31mTypeError\u001b[39m: can only concatenate list (not \"str\") to list"
     ]
    }
   ],
   "source": [
    "# TypeError\n",
    "a = [1, 2]\n",
    "b = \"Hello\"\n",
    "print(a + b)"
   ]
  },
  {
   "cell_type": "code",
   "execution_count": 35,
   "id": "b4bce260",
   "metadata": {},
   "outputs": [
    {
     "ename": "TypeError",
     "evalue": "일부러 오류를 내봤습니다",
     "output_type": "error",
     "traceback": [
      "\u001b[31m---------------------------------------------------------------------------\u001b[39m",
      "\u001b[31mTypeError\u001b[39m                                 Traceback (most recent call last)",
      "\u001b[36mCell\u001b[39m\u001b[36m \u001b[39m\u001b[32mIn[35]\u001b[39m\u001b[32m, line 2\u001b[39m\n\u001b[32m      1\u001b[39m \u001b[38;5;66;03m# TypeError 내보기\u001b[39;00m\n\u001b[32m----> \u001b[39m\u001b[32m2\u001b[39m \u001b[38;5;28;01mraise\u001b[39;00m \u001b[38;5;167;01mTypeError\u001b[39;00m(\u001b[33m'\u001b[39m\u001b[33m일부러 오류를 내봤습니다\u001b[39m\u001b[33m'\u001b[39m)\n",
      "\u001b[31mTypeError\u001b[39m: 일부러 오류를 내봤습니다"
     ]
    }
   ],
   "source": [
    "# TypeError 내보기\n",
    "raise TypeError('일부러 오류를 내봤습니다')"
   ]
  },
  {
   "cell_type": "code",
   "execution_count": 36,
   "id": "ce843ae8",
   "metadata": {},
   "outputs": [
    {
     "ename": "FileNotFoundError",
     "evalue": "파일을 찾을 수 없습니다.",
     "output_type": "error",
     "traceback": [
      "\u001b[31m---------------------------------------------------------------------------\u001b[39m",
      "\u001b[31mFileNotFoundError\u001b[39m                         Traceback (most recent call last)",
      "\u001b[36mCell\u001b[39m\u001b[36m \u001b[39m\u001b[32mIn[36]\u001b[39m\u001b[32m, line 3\u001b[39m\n\u001b[32m      1\u001b[39m \u001b[38;5;66;03m# FileNotFoundError 내보기\u001b[39;00m\n\u001b[32m      2\u001b[39m \u001b[38;5;66;03m# Q. 에러 메시지는 원하는 대로 작성해보세요! \u001b[39;00m\n\u001b[32m----> \u001b[39m\u001b[32m3\u001b[39m \u001b[38;5;28;01mraise\u001b[39;00m \u001b[38;5;167;01mFileNotFoundError\u001b[39;00m(\u001b[33m'\u001b[39m\u001b[33m파일을 찾을 수 없습니다.\u001b[39m\u001b[33m'\u001b[39m)\n",
      "\u001b[31mFileNotFoundError\u001b[39m: 파일을 찾을 수 없습니다."
     ]
    }
   ],
   "source": [
    "# FileNotFoundError 내보기\n",
    "# Q. 에러 메시지는 원하는 대로 작성해보세요! \n",
    "raise FileNotFoundError('파일을 찾을 수 없습니다.')"
   ]
  },
  {
   "cell_type": "code",
   "execution_count": null,
   "id": "d44097ad",
   "metadata": {},
   "outputs": [],
   "source": [
    "# 실습퀴즈1. 예외처리 try - finally \n",
    "# 햄버거의 갯수만 입력 받는 프로그램을 작성해주세요!  \n",
    "\n",
    "menu = input(\"메뉴를 입력해주세요!\")\n",
    "menu_count = int(input(\"갯수를 입력해주세요!\"))\n",
    "\n",
    "try:\n",
    "    #[[YOUR CODE]]\n",
    "\n",
    "finally:\n",
    "    #[[YOUR CODE]]"
   ]
  },
  {
   "cell_type": "code",
   "execution_count": 41,
   "id": "8f4ee0bb",
   "metadata": {},
   "outputs": [
    {
     "name": "stdout",
     "output_type": "stream",
     "text": [
      "주문하신 햄버거의 갯수는 3개입니다.\n"
     ]
    }
   ],
   "source": [
    "# 실습퀴즈1. 예외처리 try - finally \n",
    "# 햄버거의 갯수만 입력 받는 프로그램을 작성해주세요!  \n",
    "\n",
    "menu = input(\"메뉴를 입력해주세요!\")\n",
    "menu_count = int(input(\"갯수를 입력해주세요!\"))\n",
    "\n",
    "try:\n",
    "    if menu !=\"햄버거\":\n",
    "        raise Exception(\"햄버거만 주문 가능합니다.\")\n",
    "\n",
    "finally:\n",
    "    print(f'주문하신 {menu}의 갯수는 {menu_count}개입니다.')"
   ]
  },
  {
   "cell_type": "code",
   "execution_count": null,
   "id": "cca4be7c",
   "metadata": {},
   "outputs": [],
   "source": [
    "# 실습퀴즈2. 예외처리 try - except - else - finally\n",
    "\n",
    "try: \n",
    "    #[[YOUR CODE]]\n",
    "except:\n",
    "    #[[YOUR CODE]]\n",
    "else:\n",
    "    #[[YOUR CODE]]\n",
    "finally:\n",
    "    #[[YOUR CODE]]"
   ]
  },
  {
   "cell_type": "code",
   "execution_count": 43,
   "id": "7f3fcfb1",
   "metadata": {},
   "outputs": [
    {
     "name": "stdout",
     "output_type": "stream",
     "text": [
      "숫자가 아닙니다.\n",
      "사랑해요\n"
     ]
    }
   ],
   "source": [
    "# 실습퀴즈2. 예외처리 try - except - else - finally\n",
    "\n",
    "try: \n",
    "    num = float(input('숫자를 입력하세요: '))\n",
    "except:\n",
    "    print('숫자가 아닙니다.')\n",
    "else:\n",
    "    print(f'입력한 숫자는 {num}입니다.')\n",
    "finally:\n",
    "    print('사랑해요')"
   ]
  },
  {
   "cell_type": "code",
   "execution_count": null,
   "id": "79e6820f",
   "metadata": {},
   "outputs": [],
   "source": [
    "# 실습퀴즈3. 예외 처리 try - except\n",
    "#리스트에 원하는 값이 포함되어 있는지 확인하는 함수입니다. 빈칸을 채워보세요. \n",
    "\n",
    "def list_finder(list, elt):\n",
    "    try: \n",
    "        idx = # list.index()를 활용해보세요.\n",
    "        # [[YOUR CODE]] \n",
    "    except ValueError:\n",
    "        # [[YOUR CODE]] \n",
    "    except Exception as e:\n",
    "        # [[YOUR CODE]] \n",
    "\n",
    "# 결과 확인 함수\n",
    "print(list_finder([10, 9, 8], 8))  \n",
    "print(list_finder([25, 7, 8], 10000))  \n",
    "print(list_finder([100, 2, 15, 28, 0, \"a-z가-하\"], \"a-z가-하\"))"
   ]
  },
  {
   "cell_type": "code",
   "execution_count": 2,
   "id": "1dc2ec92",
   "metadata": {},
   "outputs": [
    {
     "name": "stdout",
     "output_type": "stream",
     "text": [
      "인덱스 2에서 8를 찾았습니다.\n",
      "10000를 찾지 못했습니다.\n",
      "인덱스 5에서 a-z가-하를 찾았습니다.\n"
     ]
    }
   ],
   "source": [
    "# 실습퀴즈3. 예외 처리 try - except\n",
    "#리스트에 원하는 값이 포함되어 있는지 확인하는 함수입니다. 빈칸을 채워보세요. \n",
    "\n",
    "def list_finder(list, elt):\n",
    "    try: \n",
    "        idx = list.index(elt)\n",
    "        return f'인덱스 {idx}에서 {elt}를 찾았습니다.'\n",
    "    except ValueError:\n",
    "        return f'{elt}를 찾지 못했습니다.'\n",
    "    except Exception as e:\n",
    "        return f'알 수 없는 오류가 발생했습니다.: {e}'\n",
    "\n",
    "# 결과 확인 함수\n",
    "print(list_finder([10, 9, 8], 8))\n",
    "print(list_finder([25, 7, 8], 10000))  \n",
    "print(list_finder([100, 2, 15, 28, 0, \"a-z가-하\"], \"a-z가-하\"))"
   ]
  }
 ],
 "metadata": {
  "kernelspec": {
   "display_name": "Python 3",
   "language": "python",
   "name": "python3"
  },
  "language_info": {
   "codemirror_mode": {
    "name": "ipython",
    "version": 3
   },
   "file_extension": ".py",
   "mimetype": "text/x-python",
   "name": "python",
   "nbconvert_exporter": "python",
   "pygments_lexer": "ipython3",
   "version": "3.12.3"
  }
 },
 "nbformat": 4,
 "nbformat_minor": 5
}
