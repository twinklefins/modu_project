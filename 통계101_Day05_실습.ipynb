{
 "cells": [
  {
   "cell_type": "code",
   "execution_count": 18,
   "id": "40fbf746",
   "metadata": {},
   "outputs": [
    {
     "name": "stdout",
     "output_type": "stream",
     "text": [
      "Requirement already satisfied: statsmodels in /Library/Frameworks/Python.framework/Versions/3.13/lib/python3.13/site-packages (0.14.5)\n",
      "Requirement already satisfied: numpy<3,>=1.22.3 in /Library/Frameworks/Python.framework/Versions/3.13/lib/python3.13/site-packages (from statsmodels) (2.2.6)\n",
      "Requirement already satisfied: scipy!=1.9.2,>=1.8 in /Library/Frameworks/Python.framework/Versions/3.13/lib/python3.13/site-packages (from statsmodels) (1.16.1)\n",
      "Requirement already satisfied: pandas!=2.1.0,>=1.4 in /Library/Frameworks/Python.framework/Versions/3.13/lib/python3.13/site-packages (from statsmodels) (2.3.1)\n",
      "Requirement already satisfied: patsy>=0.5.6 in /Library/Frameworks/Python.framework/Versions/3.13/lib/python3.13/site-packages (from statsmodels) (1.0.1)\n",
      "Requirement already satisfied: packaging>=21.3 in /Library/Frameworks/Python.framework/Versions/3.13/lib/python3.13/site-packages (from statsmodels) (25.0)\n",
      "Requirement already satisfied: python-dateutil>=2.8.2 in /Library/Frameworks/Python.framework/Versions/3.13/lib/python3.13/site-packages (from pandas!=2.1.0,>=1.4->statsmodels) (2.9.0.post0)\n",
      "Requirement already satisfied: pytz>=2020.1 in /Library/Frameworks/Python.framework/Versions/3.13/lib/python3.13/site-packages (from pandas!=2.1.0,>=1.4->statsmodels) (2025.2)\n",
      "Requirement already satisfied: tzdata>=2022.7 in /Library/Frameworks/Python.framework/Versions/3.13/lib/python3.13/site-packages (from pandas!=2.1.0,>=1.4->statsmodels) (2025.2)\n",
      "Requirement already satisfied: six>=1.5 in /Library/Frameworks/Python.framework/Versions/3.13/lib/python3.13/site-packages (from python-dateutil>=2.8.2->pandas!=2.1.0,>=1.4->statsmodels) (1.17.0)\n",
      "\n",
      "\u001b[1m[\u001b[0m\u001b[34;49mnotice\u001b[0m\u001b[1;39;49m]\u001b[0m\u001b[39;49m A new release of pip is available: \u001b[0m\u001b[31;49m25.1.1\u001b[0m\u001b[39;49m -> \u001b[0m\u001b[32;49m25.2\u001b[0m\n",
      "\u001b[1m[\u001b[0m\u001b[34;49mnotice\u001b[0m\u001b[1;39;49m]\u001b[0m\u001b[39;49m To update, run: \u001b[0m\u001b[32;49mpip3 install --upgrade pip\u001b[0m\n"
     ]
    }
   ],
   "source": [
    "# 필요 라이브러리 설치\n",
    "!pip3 install statsmodels"
   ]
  },
  {
   "cell_type": "code",
   "execution_count": 19,
   "id": "cb690139",
   "metadata": {},
   "outputs": [],
   "source": [
    "# 라이브러리와 폰트를 로드\n",
    "import pandas as pd\n",
    "import numpy as np\n",
    "import scipy.stats as stats\n",
    "import matplotlib.pyplot as plt\n",
    "import seaborn as sns\n",
    "import statsmodels.api as sm\n",
    "\n",
    "# MacOS에서는 기본 한글 폰트로 AppleGothic 사용\n",
    "plt.rcParams['font.family'] = 'AppleGothic'\n",
    "plt.rcParams['axes.unicode_minus'] = False  # 마이너스 깨짐 방지"
   ]
  },
  {
   "cell_type": "code",
   "execution_count": 20,
   "id": "77c8dc83",
   "metadata": {},
   "outputs": [
    {
     "data": {
      "text/html": [
       "<div>\n",
       "<style scoped>\n",
       "    .dataframe tbody tr th:only-of-type {\n",
       "        vertical-align: middle;\n",
       "    }\n",
       "\n",
       "    .dataframe tbody tr th {\n",
       "        vertical-align: top;\n",
       "    }\n",
       "\n",
       "    .dataframe thead th {\n",
       "        text-align: right;\n",
       "    }\n",
       "</style>\n",
       "<table border=\"1\" class=\"dataframe\">\n",
       "  <thead>\n",
       "    <tr style=\"text-align: right;\">\n",
       "      <th></th>\n",
       "      <th>total_bill</th>\n",
       "      <th>tip</th>\n",
       "      <th>sex</th>\n",
       "      <th>smoker</th>\n",
       "      <th>day</th>\n",
       "      <th>time</th>\n",
       "      <th>size</th>\n",
       "    </tr>\n",
       "  </thead>\n",
       "  <tbody>\n",
       "    <tr>\n",
       "      <th>0</th>\n",
       "      <td>16.99</td>\n",
       "      <td>1.01</td>\n",
       "      <td>Female</td>\n",
       "      <td>No</td>\n",
       "      <td>Sun</td>\n",
       "      <td>Dinner</td>\n",
       "      <td>2</td>\n",
       "    </tr>\n",
       "    <tr>\n",
       "      <th>1</th>\n",
       "      <td>10.34</td>\n",
       "      <td>1.66</td>\n",
       "      <td>Male</td>\n",
       "      <td>No</td>\n",
       "      <td>Sun</td>\n",
       "      <td>Dinner</td>\n",
       "      <td>3</td>\n",
       "    </tr>\n",
       "    <tr>\n",
       "      <th>2</th>\n",
       "      <td>21.01</td>\n",
       "      <td>3.50</td>\n",
       "      <td>Male</td>\n",
       "      <td>No</td>\n",
       "      <td>Sun</td>\n",
       "      <td>Dinner</td>\n",
       "      <td>3</td>\n",
       "    </tr>\n",
       "    <tr>\n",
       "      <th>3</th>\n",
       "      <td>23.68</td>\n",
       "      <td>3.31</td>\n",
       "      <td>Male</td>\n",
       "      <td>No</td>\n",
       "      <td>Sun</td>\n",
       "      <td>Dinner</td>\n",
       "      <td>2</td>\n",
       "    </tr>\n",
       "    <tr>\n",
       "      <th>4</th>\n",
       "      <td>24.59</td>\n",
       "      <td>3.61</td>\n",
       "      <td>Female</td>\n",
       "      <td>No</td>\n",
       "      <td>Sun</td>\n",
       "      <td>Dinner</td>\n",
       "      <td>4</td>\n",
       "    </tr>\n",
       "  </tbody>\n",
       "</table>\n",
       "</div>"
      ],
      "text/plain": [
       "   total_bill   tip     sex smoker  day    time  size\n",
       "0       16.99  1.01  Female     No  Sun  Dinner     2\n",
       "1       10.34  1.66    Male     No  Sun  Dinner     3\n",
       "2       21.01  3.50    Male     No  Sun  Dinner     3\n",
       "3       23.68  3.31    Male     No  Sun  Dinner     2\n",
       "4       24.59  3.61  Female     No  Sun  Dinner     4"
      ]
     },
     "execution_count": 20,
     "metadata": {},
     "output_type": "execute_result"
    }
   ],
   "source": [
    "# 실습용 'tips' 데이터셋을 불러옵니다.\n",
    "tips = sns.load_dataset('tips')\n",
    "tips.head()"
   ]
  },
  {
   "cell_type": "markdown",
   "id": "b2744d18",
   "metadata": {},
   "source": [
    "### 📝 Statsmodels 사용법\n",
    "\n",
    "1.  **데이터 분리 (X, y)**: 분석할 데이터를 **독립변수 `X`**(설명하는 변수들, DataFrame)와 **종속변수 `y`**(알고싶은 결과, Series)로 직접 나눕니다.\n",
    "2.  **데이터 가공**:\n",
    "    - **더미 변수 생성**: `pd.get_dummies()` 함수를 사용해 문자(범주형) 데이터를 0과 1로 이루어진 숫자 데이터로 직접 변환합니다.\n",
    "    - **상수항(Intercept) 추가**: **가장 중요한 단계입니다.** 회귀식의 y절편(`b`ใน `y=ax+b`)을 계산하기 위해 `sm.add_constant(X)`를 사용하여 X 데이터에 상수항 컬럼을 **수동으로 추가**해야 합니다.\n",
    "3.  **모델 학습**: `sm.OLS(y, X)` 또는 `sm.Logit(y, X)` 함수에 준비된 `y`와 `X` 데이터를 전달하여 모델을 학습시킵니다.\n",
    "\n",
    "이제 이 3단계를 따라 모든 문제를 해결해 봅시다.\n",
    "\n",
    "## 문제 1 (난이도: 하): 다중회귀분석의 첫걸음\n",
    "\n",
    "> **🎯 목표:** 여러 개의 원인(독립변수)을 동시에 고려하여 결과를 예측하는 **다중회귀분석**을 파이썬 배열 방식으로 구현합니다.\n",
    "\n",
    "### 💡 핵심 개념:\n",
    "\n",
    "단순회귀가 하나의 원인(`X`)으로 결과를 설명했다면, **다중회귀**는 **여러 개의 원인(`X1, X2, ...`)**을 동시에 고려하여 결과를 더 정교하게 설명하는 방법입니다. 이때 각 원인의 영향력(계수)은 **'다른 원인들이 모두 동일하다고 통제했을 때'**의 순수한 영향력을 의미합니다.\n",
    "\n",
    "### 📌 수행 과제:\n",
    "\n",
    "1. `tips` 데이터셋에서 `tip`을 종속변수(y)로, `total_bill`과 `size`를 독립변수(X)로 분리하세요.\n",
    "2. 독립변수(X)에 상수항을 추가하세요.\n",
    "3. `sm.OLS`를 사용하여 다중회귀 모델을 학습시키고, `.summary()`로 결과를 확인하세요.\n",
    "4. 결과표를 보고 `total_bill`과 `size`의 계수(coef)가 각각 무엇을 의미하는지 해석해 보세요.\n"
   ]
  },
  {
   "cell_type": "code",
   "execution_count": 21,
   "id": "d72cf7b8",
   "metadata": {},
   "outputs": [
    {
     "name": "stdout",
     "output_type": "stream",
     "text": [
      "                            OLS Regression Results                            \n",
      "==============================================================================\n",
      "Dep. Variable:                    tip   R-squared:                       0.468\n",
      "Model:                            OLS   Adj. R-squared:                  0.463\n",
      "Method:                 Least Squares   F-statistic:                     105.9\n",
      "Date:                Thu, 11 Sep 2025   Prob (F-statistic):           9.67e-34\n",
      "Time:                        17:34:28   Log-Likelihood:                -347.99\n",
      "No. Observations:                 244   AIC:                             702.0\n",
      "Df Residuals:                     241   BIC:                             712.5\n",
      "Df Model:                           2                                         \n",
      "Covariance Type:            nonrobust                                         \n",
      "==============================================================================\n",
      "                 coef    std err          t      P>|t|      [0.025      0.975]\n",
      "------------------------------------------------------------------------------\n",
      "const          0.6689      0.194      3.455      0.001       0.288       1.050\n",
      "total_bill     0.0927      0.009     10.172      0.000       0.075       0.111\n",
      "size           0.1926      0.085      2.258      0.025       0.025       0.361\n",
      "==============================================================================\n",
      "Omnibus:                       24.753   Durbin-Watson:                   2.100\n",
      "Prob(Omnibus):                  0.000   Jarque-Bera (JB):               46.169\n",
      "Skew:                           0.545   Prob(JB):                     9.43e-11\n",
      "Kurtosis:                       4.831   Cond. No.                         67.6\n",
      "==============================================================================\n",
      "\n",
      "Notes:\n",
      "[1] Standard Errors assume that the covariance matrix of the errors is correctly specified.\n"
     ]
    }
   ],
   "source": [
    "# 1. 여기에 데이터를 y와 X로 분리하는 코드를 작성하세요.\n",
    "# 종속변수 y에 'tip' 컬럼을 할당하세요.\n",
    "y = tips['tip']\n",
    "\n",
    "# 독립변수 X에 'total_bill'과 'size' 컬럼을 리스트로 묶어 할당하세요.\n",
    "X = tips[['total_bill', 'size']]\n",
    "\n",
    "# 2. 여기에 상수항을 추가하는 코드를 작성하세요.\n",
    "# sm.add_constant()를 사용해 X 데이터에 상수항을 추가합니다.\n",
    "X_const = sm.add_constant(X)\n",
    "\n",
    "# 3. 여기에 모델을 학습하고 결과를 출력하는 코드를 작성하세요.\n",
    "# sm.OLS() 함수에 y와 X_const를 순서대로 넣어 모델을 만들고 학습시킵니다.\n",
    "model_1 = sm.OLS(y, X_const).fit()\n",
    "print(model_1.summary())\n",
    "\n",
    "# 4. 결과 해석 (아래 주석에 직접 작성해 보세요)\n",
    "# total_bill 계수의 의미: 총액(total_bill)이 1달러 증가할 때, 식사 인원(size)이 동일하다고 가정하면 팁(tip)은 평균적으로 약 0.093달러 증가한다. (p<0.001 → 매우 유의함)\n",
    "# size 계수의 의미: 식사 인원(size)이 1명 늘어날 때 총액(total_bill)이 동일하다고 가정하면 팁은 평균적으로 약 0.193달러 증가한다. (p=0.025 → 통계적으로 유의함)\n",
    "# 모형의 적합도: R²=0.468로, 두 변수(total_bill, size)가 팁 변동의 약 47%를 설명한다. \n",
    "# 이는 두 변수만으로도 절반 가까이를 설명하는 꽤 의미 있는 수준이지만, 성별·요일·시간대·흡연 여부 등 다른 요인을 추가한다면 더 높은 설명력을 얻을 수 있다."
   ]
  },
  {
   "cell_type": "markdown",
   "id": "0dce00de",
   "metadata": {},
   "source": [
    "### 🤔 생각해 볼 문제:\n",
    "\n",
    "`X_const.head()`를 출력해서 `sm.add_constant()`가 실제로 X 데이터에 어떤 변화를 주었는지 직접 눈으로 확인해보세요.  \n",
    "\n",
    "-> X_const에는 'const'라는 새로운 열이 추가되고 값이 전부 1.0으로 채워진 것을 확인할 수 있다.  \n",
    "-> 이는 회귀식에서 절편(intercept)을 계산하기 위해 필요한 상수항이다.  \n",
    "-> 따라서 실제 회귀식은 다음과 같이 표현된다.  \n",
    "\n",
    "    tip = β₀·1 + β₁·total_bill + β₂·size + ε\n"
   ]
  },
  {
   "cell_type": "code",
   "execution_count": 22,
   "id": "8ab8bf5b",
   "metadata": {},
   "outputs": [
    {
     "data": {
      "text/html": [
       "<div>\n",
       "<style scoped>\n",
       "    .dataframe tbody tr th:only-of-type {\n",
       "        vertical-align: middle;\n",
       "    }\n",
       "\n",
       "    .dataframe tbody tr th {\n",
       "        vertical-align: top;\n",
       "    }\n",
       "\n",
       "    .dataframe thead th {\n",
       "        text-align: right;\n",
       "    }\n",
       "</style>\n",
       "<table border=\"1\" class=\"dataframe\">\n",
       "  <thead>\n",
       "    <tr style=\"text-align: right;\">\n",
       "      <th></th>\n",
       "      <th>const</th>\n",
       "      <th>total_bill</th>\n",
       "      <th>size</th>\n",
       "    </tr>\n",
       "  </thead>\n",
       "  <tbody>\n",
       "    <tr>\n",
       "      <th>0</th>\n",
       "      <td>1.0</td>\n",
       "      <td>16.99</td>\n",
       "      <td>2</td>\n",
       "    </tr>\n",
       "    <tr>\n",
       "      <th>1</th>\n",
       "      <td>1.0</td>\n",
       "      <td>10.34</td>\n",
       "      <td>3</td>\n",
       "    </tr>\n",
       "    <tr>\n",
       "      <th>2</th>\n",
       "      <td>1.0</td>\n",
       "      <td>21.01</td>\n",
       "      <td>3</td>\n",
       "    </tr>\n",
       "    <tr>\n",
       "      <th>3</th>\n",
       "      <td>1.0</td>\n",
       "      <td>23.68</td>\n",
       "      <td>2</td>\n",
       "    </tr>\n",
       "    <tr>\n",
       "      <th>4</th>\n",
       "      <td>1.0</td>\n",
       "      <td>24.59</td>\n",
       "      <td>4</td>\n",
       "    </tr>\n",
       "  </tbody>\n",
       "</table>\n",
       "</div>"
      ],
      "text/plain": [
       "   const  total_bill  size\n",
       "0    1.0       16.99     2\n",
       "1    1.0       10.34     3\n",
       "2    1.0       21.01     3\n",
       "3    1.0       23.68     2\n",
       "4    1.0       24.59     4"
      ]
     },
     "execution_count": 22,
     "metadata": {},
     "output_type": "execute_result"
    }
   ],
   "source": [
    "X_const.head()"
   ]
  },
  {
   "cell_type": "markdown",
   "id": "8e8181af",
   "metadata": {},
   "source": [
    "## 문제 2 (난이도: 하): 더미 변수 활용하기\n",
    "\n",
    "> **🎯 목표:** '요일'과 같은 문자(범주형) 데이터를 분석에 활용하기 위해 **더미 변수**로 변환하는 방법을 배우고, 회귀분석에 적용합니다.\n",
    "\n",
    "### 💡 핵심 개념:\n",
    "\n",
    "**더미 변수**는 '성별', '요일'과 같은 문자(범주형) 데이터를 통계 모델에 사용하기 위해 **0과 1로 이루어진 숫자 변수**로 변환하는 기법입니다. Pandas의 `pd.get_dummies()` 함수를 사용하면 이 과정을 쉽게 처리할 수 있습니다. 이때, 여러 범주 중 하나는 **기준(reference)**이 되어 분석 오류를 막고 해석의 기준점 역할을 합니다.\n",
    "\n",
    "### 📌 수행 과제:\n",
    "\n",
    "1. `total_bill`과 '요일(`day`)'이 팁(`tip`)에 미치는 영향을 분석해봅시다.\n",
    "2. `pd.get_dummies()`를 사용하여 'day' 컬럼을 더미 변수로 변환하세요. (단, `drop_first=True` 옵션 사용)\n",
    "3. 기존 독립변수(`total_bill`)와 생성된 더미 변수를 합쳐 최종 X 데이터를 만드세요.\n",
    "4. 상수항을 추가하고 회귀 모델을 학습시킨 후, 결과를 해석하세요.\n"
   ]
  },
  {
   "cell_type": "code",
   "execution_count": 23,
   "id": "7c023f59",
   "metadata": {},
   "outputs": [
    {
     "name": "stdout",
     "output_type": "stream",
     "text": [
      "                            OLS Regression Results                            \n",
      "==============================================================================\n",
      "Dep. Variable:                    tip   R-squared:                       0.459\n",
      "Model:                            OLS   Adj. R-squared:                  0.450\n",
      "Method:                 Least Squares   F-statistic:                     50.67\n",
      "Date:                Thu, 11 Sep 2025   Prob (F-statistic):           7.52e-31\n",
      "Time:                        17:34:28   Log-Likelihood:                -350.03\n",
      "No. Observations:                 244   AIC:                             710.1\n",
      "Df Residuals:                     239   BIC:                             727.5\n",
      "Df Model:                           4                                         \n",
      "Covariance Type:            nonrobust                                         \n",
      "==============================================================================\n",
      "                 coef    std err          t      P>|t|      [0.025      0.975]\n",
      "------------------------------------------------------------------------------\n",
      "const          0.9205      0.186      4.943      0.000       0.554       1.287\n",
      "total_bill     0.1047      0.008     13.915      0.000       0.090       0.119\n",
      "day_Fri        0.0189      0.269      0.070      0.944      -0.511       0.549\n",
      "day_Sat       -0.0671      0.172     -0.391      0.697      -0.406       0.271\n",
      "day_Sun        0.0935      0.178      0.526      0.599      -0.257       0.444\n",
      "==============================================================================\n",
      "Omnibus:                       20.916   Durbin-Watson:                   2.149\n",
      "Prob(Omnibus):                  0.000   Jarque-Bera (JB):               38.821\n",
      "Skew:                           0.463   Prob(JB):                     3.72e-09\n",
      "Kurtosis:                       4.721   Cond. No.                         103.\n",
      "==============================================================================\n",
      "\n",
      "Notes:\n",
      "[1] Standard Errors assume that the covariance matrix of the errors is correctly specified.\n"
     ]
    }
   ],
   "source": [
    "# 1. 기본 데이터를 분리합니다.\n",
    "y = tips['tip']\n",
    "X_base = tips[['total_bill']]\n",
    "\n",
    "# 2. 여기에 'day' 컬럼으로 더미 변수를 생성하는 코드를 작성하세요.\n",
    "# pd.get_dummies()를 사용하고, drop_first=True 옵션을 잊지 마세요.\n",
    "day_dummies = pd.get_dummies(tips['day'], prefix='day', drop_first=True)   # drop_first=True → 기준 요일 하나 자동 제외\n",
    "\n",
    "# 3. 여기에 기본 X 데이터와 더미 변수를 합치는 코드를 작성하세요.\n",
    "# pd.concat을 사용하고, axis=1 옵션으로 옆으로 붙입니다.\n",
    "X = pd.concat([X_base, day_dummies], axis=1)\n",
    "X = X.astype(float)\n",
    "\n",
    "# 4. 상수항을 추가하고 모델을 학습시킨 후 결과를 출력하세요.\n",
    "X_const = sm.add_constant(X)\n",
    "model_2 = sm.OLS(y, X_const).fit()\n",
    "print(model_2.summary())\n",
    "\n",
    "# 5. 결과 해석 (아래 주석에 직접 작성해 보세요)\n",
    "# 기준이 된 요일은 무엇인가?:\n",
    "# 'day_Sat' 계수의 의미:"
   ]
  },
  {
   "cell_type": "markdown",
   "id": "7a1f657f",
   "metadata": {},
   "source": [
    "### 🤔 생각해 볼 문제:\n",
    "\n",
    "`drop_first=True` 옵션을 빼고 `False`로 설정한 뒤 모델을 다시 학습시켜보세요. 결과가 어떻게 달라지나요? (힌트: `statsmodels`가 다중공선성에 대한 경고 메시지를 보여줄 수 있습니다.)  \n",
    "-> drop_first=False로 설정하면 요일별 더미 변수가 모두 포함되어 const(상수항)와 선형적으로 종속되는 문제가 발생한다.  \n",
    "-> 실제로 결과표에 day_Thur, day_Fri, day_Sat, day_Sun 모두 나타나고,  \n",
    "'The smallest eigenvalue is very small' 경고가 뜨면서 다중공선성이 있다는 것을 알려준다.  \n",
    "-> 따라서 해석이 불안정해지고, 회귀분석에서는 반드시 drop_first=True로 기준 요일 하나를 제외해야 한다. \n"
   ]
  },
  {
   "cell_type": "code",
   "execution_count": 24,
   "id": "1d4fce61",
   "metadata": {},
   "outputs": [
    {
     "name": "stdout",
     "output_type": "stream",
     "text": [
      "                            OLS Regression Results                            \n",
      "==============================================================================\n",
      "Dep. Variable:                    tip   R-squared:                       0.459\n",
      "Model:                            OLS   Adj. R-squared:                  0.450\n",
      "Method:                 Least Squares   F-statistic:                     50.67\n",
      "Date:                Thu, 11 Sep 2025   Prob (F-statistic):           7.52e-31\n",
      "Time:                        17:34:28   Log-Likelihood:                -350.03\n",
      "No. Observations:                 244   AIC:                             710.1\n",
      "Df Residuals:                     239   BIC:                             727.5\n",
      "Df Model:                           4                                         \n",
      "Covariance Type:            nonrobust                                         \n",
      "==============================================================================\n",
      "                 coef    std err          t      P>|t|      [0.025      0.975]\n",
      "------------------------------------------------------------------------------\n",
      "const          0.7455      0.131      5.677      0.000       0.487       1.004\n",
      "total_bill     0.1047      0.008     13.915      0.000       0.090       0.119\n",
      "day_Thur       0.1750      0.120      1.457      0.147      -0.062       0.412\n",
      "day_Fri        0.1939      0.193      1.003      0.317      -0.187       0.575\n",
      "day_Sat        0.1079      0.113      0.959      0.339      -0.114       0.330\n",
      "day_Sun        0.2686      0.120      2.243      0.026       0.033       0.504\n",
      "==============================================================================\n",
      "Omnibus:                       20.916   Durbin-Watson:                   2.149\n",
      "Prob(Omnibus):                  0.000   Jarque-Bera (JB):               38.821\n",
      "Skew:                           0.463   Prob(JB):                     3.72e-09\n",
      "Kurtosis:                       4.721   Cond. No.                     1.14e+17\n",
      "==============================================================================\n",
      "\n",
      "Notes:\n",
      "[1] Standard Errors assume that the covariance matrix of the errors is correctly specified.\n",
      "[2] The smallest eigenvalue is 8.9e-30. This might indicate that there are\n",
      "strong multicollinearity problems or that the design matrix is singular.\n"
     ]
    }
   ],
   "source": [
    "# 1. drop_first=False로 더미 변수 생성\n",
    "day_dummies_full = pd.get_dummies(tips['day'], prefix='day', drop_first=False)\n",
    "\n",
    "# 2. total_bill + day 전체 더미 변수 합치기\n",
    "X_full = pd.concat([X_base, day_dummies_full], axis=1).astype(float)\n",
    "\n",
    "# 3. 상수항 추가\n",
    "X_const_full = sm.add_constant(X_full)\n",
    "\n",
    "# 4. 모델 학습\n",
    "model_full = sm.OLS(y, X_const_full).fit()\n",
    "print(model_full.summary())"
   ]
  },
  {
   "cell_type": "markdown",
   "id": "3bd65050",
   "metadata": {},
   "source": [
    "## 문제 3 (난이도: 중): 상호작용 효과 분석하기\n",
    "\n",
    "> **🎯 목표:** 한 변수의 효과가 다른 변수의 상황에 따라 달라지는 **상호작용 효과**를 직접 변수를 곱하여 만들고, 그 의미를 해석합니다.\n",
    "\n",
    "### 💡 핵심 개념:\n",
    "\n",
    "**상호작용**은 한 변수의 효과가 다른 변수의 수준에 따라 달라지는 현상을 말합니다. 예를 들어, \"식사 금액이 팁에 미치는 영향은 흡연 여부에 따라 다르다\"와 같은 가설을 검증할 때 사용됩니다. 배열 방식에서는 상호작용 항을 **두 변수의 곱**으로 직접 만들어서 모델에 추가합니다.\n",
    "\n",
    "### 📌 수행 과제:\n",
    "\n",
    "1. \"식사 총액(`total_bill`)이 팁에 미치는 영향은 흡연자(`smoker`) 그룹과 비흡연자 그룹에서 다를 것이다\"라는 가설을 검증해봅시다.\n",
    "2. `smoker` 변수를 더미 변수(`smoker_Yes`)로 만드세요. ('Yes' = 1, 'No' = 0)\n",
    "3. `total_bill`과 `smoker_Yes`를 곱하여 상호작용 항(`bill_x_smoker`)을 만드세요.\n",
    "4. `total_bill`, `smoker_Yes`, `bill_x_smoker`를 모두 포함하여 회귀 모델을 학습시키고 결과를 해석하세요.\n"
   ]
  },
  {
   "cell_type": "code",
   "execution_count": 25,
   "id": "1e0f9a00",
   "metadata": {},
   "outputs": [
    {
     "name": "stdout",
     "output_type": "stream",
     "text": [
      "                            OLS Regression Results                            \n",
      "==============================================================================\n",
      "Dep. Variable:                    tip   R-squared:                       0.506\n",
      "Model:                            OLS   Adj. R-squared:                  0.500\n",
      "Method:                 Least Squares   F-statistic:                     81.95\n",
      "Date:                Thu, 11 Sep 2025   Prob (F-statistic):           1.56e-36\n",
      "Time:                        17:34:28   Log-Likelihood:                -338.91\n",
      "No. Observations:                 244   AIC:                             685.8\n",
      "Df Residuals:                     240   BIC:                             699.8\n",
      "Df Model:                           3                                         \n",
      "Covariance Type:            nonrobust                                         \n",
      "=================================================================================\n",
      "                    coef    std err          t      P>|t|      [0.025      0.975]\n",
      "---------------------------------------------------------------------------------\n",
      "const             1.5643      0.238      6.570      0.000       1.095       2.033\n",
      "total_bill        0.0696      0.010      6.707      0.000       0.049       0.090\n",
      "smoker_Yes       -1.2042      0.312     -3.856      0.000      -1.819      -0.589\n",
      "bill_x_smoker     0.0676      0.014      4.762      0.000       0.040       0.096\n",
      "==============================================================================\n",
      "Omnibus:                       45.973   Durbin-Watson:                   2.078\n",
      "Prob(Omnibus):                  0.000   Jarque-Bera (JB):              122.757\n",
      "Skew:                           0.830   Prob(JB):                     2.21e-27\n",
      "Kurtosis:                       6.053   Cond. No.                         152.\n",
      "==============================================================================\n",
      "\n",
      "Notes:\n",
      "[1] Standard Errors assume that the covariance matrix of the errors is correctly specified.\n"
     ]
    },
    {
     "name": "stderr",
     "output_type": "stream",
     "text": [
      "/var/folders/fn/v64tvkjx02sg22jxbyjh7gdh0000gn/T/ipykernel_82295/565790693.py:6: SettingWithCopyWarning: \n",
      "A value is trying to be set on a copy of a slice from a DataFrame.\n",
      "Try using .loc[row_indexer,col_indexer] = value instead\n",
      "\n",
      "See the caveats in the documentation: https://pandas.pydata.org/pandas-docs/stable/user_guide/indexing.html#returning-a-view-versus-a-copy\n",
      "  X['smoker_Yes'] = pd.get_dummies(tips['smoker'], drop_first=True, dtype=int)\n",
      "/var/folders/fn/v64tvkjx02sg22jxbyjh7gdh0000gn/T/ipykernel_82295/565790693.py:10: SettingWithCopyWarning: \n",
      "A value is trying to be set on a copy of a slice from a DataFrame.\n",
      "Try using .loc[row_indexer,col_indexer] = value instead\n",
      "\n",
      "See the caveats in the documentation: https://pandas.pydata.org/pandas-docs/stable/user_guide/indexing.html#returning-a-view-versus-a-copy\n",
      "  X['bill_x_smoker'] = X['total_bill'] * X['smoker_Yes']\n"
     ]
    }
   ],
   "source": [
    "# 1. 기본 데이터를 준비합니다.\n",
    "y = tips['tip']\n",
    "X = tips[['total_bill']]\n",
    "\n",
    "# 2. 여기에 'smoker' 더미 변수를 X에 추가하는 코드를 작성하세요.\n",
    "X['smoker_Yes'] = pd.get_dummies(tips['smoker'], drop_first=True, dtype=int)\n",
    "\n",
    "# 3. 여기에 상호작용 항을 직접 계산하여 X에 추가하는 코드를 작성하세요.\n",
    "# 'total_bill' 컬럼과 'smoker_Yes' 컬럼을 곱합니다.\n",
    "X['bill_x_smoker'] = X['total_bill'] * X['smoker_Yes']\n",
    "\n",
    "# 4. 상수항을 추가하고 모델을 학습시킨 후 결과를 출력하세요.\n",
    "X_const = sm.add_constant(X)\n",
    "model_3 = sm.OLS(y, X_const).fit()\n",
    "print(model_3.summary())\n",
    "\n",
    "# 결과 해석 (아래 주석에 직접 작성해 보세요)\n",
    "# 상호작용 항(bill_X_smoker)의 p-value는 유의미한가?: p<0.001 → 상호작용 효과가 통계적으로 매우 유의함.\n",
    "# 상호작용 항 계수의 의미:\n",
    "# • 기울기(총액→팁):\n",
    "#   - 비흡연자(No): 1달러 ↑ → 팁 약 0.0696 ↑\n",
    "#   - 흡연자(Yes): 1달러 ↑ → 팁 (0.0696 + 0.0676) = 0.1372 ↑\n",
    "#   → 같은 금액이 늘 때 흡연자 테이블의 팁 증가 폭이 더 큼.\n",
    "#\n",
    "# • 절편(총액=0일 때 예상 팁, 해석은 참고용):\n",
    "#   - 비흡연자: 1.5643\n",
    "#   - 흡연자: 1.5643 + (-1.2042) = 0.3601\n",
    "#\n",
    "# • 설명력: R²=0.506 (이전 모형의 0.468 대비 ↑) → 상호작용 포함 시 설명력 개선.\n",
    "#\n",
    "# • 직관적 해석(예시, 10달러 증가 시):\n",
    "#   - 비흡연자: 팁 약 +$0.70\n",
    "#   - 흡연자: 팁 약 +$1.37"
   ]
  },
  {
   "cell_type": "markdown",
   "id": "ef64c8f2",
   "metadata": {},
   "source": [
    "### 🤔 생각해 볼 문제:\n",
    "\n",
    "위 모델에서 비흡연자(smoker_Yes=0)의 `total_bill` 기울기는 얼마일까요? 그리고 흡연자(smoker_Yes=1)의 `total_bill` 기울기는 얼마일까요? (힌트: 흡연자의 기울기 = 기본 `total_bill` 기울기 + 상호작용 항 기울기)  \n",
    "-> 비흡연자(smoker_Yes=0)의 total_bill 기울기: 0.696 (= 0.070)  \n",
    "-> 흡연자(smoker_Yes=1)의 total_bill 기울기: 0.0696 + 0.0676 = 0.1372 ( = 0.137)"
   ]
  },
  {
   "cell_type": "markdown",
   "id": "c8b100d3",
   "metadata": {},
   "source": [
    "## 문제 4 (난이도: 중): 로지스틱 회귀분석\n",
    "\n",
    "> **🎯 목표:** 결과가 '예/아니오' 같은 범주형일 때 사용하는 **로지스틱 회귀분석**을 구현하고, 그 결과를 **오즈비(Odds Ratio)**로 해석하는 방법을 배웁니다.\n",
    "\n",
    "### 💡 핵심 개념:\n",
    "\n",
    "**로지스틱 회귀분석**은 결과가 '예/아니오', '성공/실패'처럼 **두 가지 중 하나**일 때 사용하는 분석 방법입니다. 어떤 조건에서 특정 결과가 나타날 **'확률'**을 예측합니다. 회귀 계수는 그대로 해석하기 어렵고, `np.exp(계수)`를 계산한 **오즈비(Odds Ratio)**로 해석해야 합니다. 오즈비가 1보다 크면 확률 증가, 1보다 작으면 확률 감소를 의미합니다.\n",
    "\n",
    "### 📌 수행 과제:\n",
    "\n",
    "1. 식사 총액(`total_bill`)과 팁(`tip`) 금액을 보고, 그 고객이 '남성'일 확률을 예측하는 로지스틱 회귀 모델을 만들어봅시다.\n",
    "2. 종속변수 `y`를 'sex'가 'Male'이면 1, 아니면 0이 되도록 변환하세요.\n",
    "3. `sm.Logit` 함수를 사용하여 모델을 학습시키고, 결과를 확인하세요.\n",
    "4. `np.exp()`를 이용해 계수를 오즈비로 변환하고, 그 의미를 해석하세요.\n"
   ]
  },
  {
   "cell_type": "code",
   "execution_count": 26,
   "id": "79e3a09c",
   "metadata": {},
   "outputs": [
    {
     "name": "stdout",
     "output_type": "stream",
     "text": [
      "Optimization terminated successfully.\n",
      "         Current function value: 0.640304\n",
      "         Iterations 5\n",
      "                           Logit Regression Results                           \n",
      "==============================================================================\n",
      "Dep. Variable:                    sex   No. Observations:                  244\n",
      "Model:                          Logit   Df Residuals:                      241\n",
      "Method:                           MLE   Df Model:                            2\n",
      "Date:                Thu, 11 Sep 2025   Pseudo R-squ.:                 0.01705\n",
      "Time:                        17:34:28   Log-Likelihood:                -156.23\n",
      "converged:                       True   LL-Null:                       -158.94\n",
      "Covariance Type:            nonrobust   LLR p-value:                   0.06651\n",
      "==============================================================================\n",
      "                 coef    std err          z      P>|z|      [0.025      0.975]\n",
      "------------------------------------------------------------------------------\n",
      "const         -0.0979      0.363     -0.270      0.787      -0.808       0.613\n",
      "total_bill     0.0400      0.022      1.793      0.073      -0.004       0.084\n",
      "tip           -0.0283      0.140     -0.203      0.839      -0.302       0.245\n",
      "==============================================================================\n",
      "\n",
      "--- 오즈비 (Odds Ratios) ---\n",
      "const         0.906756\n",
      "total_bill    1.040766\n",
      "tip           0.972066\n",
      "dtype: float64\n"
     ]
    }
   ],
   "source": [
    "# 1. 여기에 종속변수 y를 0과 1로 변환하는 코드를 작성하세요.\n",
    "# 'sex'가 'Male'이면 1, 아니면 0\n",
    "y = tips['sex'].apply(lambda x: 1 if x == 'Male' else 0)\n",
    "\n",
    "# 2. 독립변수 X를 준비하고 상수항을 추가하세요.\n",
    "X = tips[['total_bill', 'tip']]\n",
    "X_const = sm.add_constant(X)\n",
    "\n",
    "# 3. 여기에 로지스틱 회귀 모델을 학습시키는 코드를 작성하세요.\n",
    "# sm.Logit() 함수를 사용합니다.\n",
    "model_4 = sm.Logit(y, X_const).fit()\n",
    "print(model_4.summary())\n",
    "\n",
    "# 4. 여기에 오즈비를 계산하고 출력하는 코드를 작성하세요.\n",
    "odds_ratios = np.exp(model_4.params)\n",
    "print(\"\\n--- 오즈비 (Odds Ratios) ---\")\n",
    "print(odds_ratios)\n",
    "\n",
    "# 5. 결과 해석 (아래 주석에 직접 작성해 보세요.)\n",
    "# total_bill 오즈비의 의미: total_bill이 1 증가할 때 남성일 오즈가 약 1.04배가 된다(4% 증가).\n",
    "#                            하지만 p=0.073으로 5% 유의수준에서는 통계적으로 유의하지 않다.\n",
    "# tip 오즈비의 의미: tip이 1 증가할 때 남성일 오즈가 약 0.97배가 된다(3% 감소).\n",
    "#                   그러나 p=0.839로 통계적으로 전혀 유의하지 않다. "
   ]
  },
  {
   "cell_type": "markdown",
   "id": "9ae4824b",
   "metadata": {},
   "source": [
    "### 🤔 생각해 볼 문제:\n",
    "\n",
    "`model_4.predict(X_const)` 코드를 실행하면 각 손님에 대해 '남성일 확률'을 예측해줍니다. 이 예측 확률이 가장 높은 상위 5명의 손님 데이터(total_bill, tip)는 어떤 특징을 가지고 있는지 확인해보세요.  \n",
    "-> '남성일 확률'이 가장 높은 상위 5명의 고객은 total_bill이 모두 44달러 이상으로, 데이터셋 평균보다 훨씬 높은 금액을 지불한 손님들이었다.   \n",
    "-> tip 금액은 2.5~10달러로 다양했지만, 공통적으로 total_bill이 크다는 특징을 가진다. → 로지스틱 회귀 결과에서 total_bill 계수가 양수였던 해석과 일치한다.\n"
   ]
  },
  {
   "cell_type": "code",
   "execution_count": 27,
   "id": "6a5259ec",
   "metadata": {},
   "outputs": [
    {
     "name": "stdout",
     "output_type": "stream",
     "text": [
      "     total_bill    tip  male_prob\n",
      "156       48.17   5.00   0.843590\n",
      "170       50.81  10.00   0.838758\n",
      "59        48.27   6.73   0.837558\n",
      "182       45.35   3.50   0.834105\n",
      "102       44.30   2.50   0.832212\n"
     ]
    }
   ],
   "source": [
    "# 각 손님이 '남성일 확률' 예측\n",
    "pred_probs = model_4.predict(X_const)\n",
    "\n",
    "# 예측 확률을 DataFrame에 붙이기\n",
    "tips_pred = tips[['total_bill', 'tip']].copy()\n",
    "tips_pred['male_prob'] = pred_probs\n",
    "\n",
    "# 확률이 높은 상위 5명 추출\n",
    "top5 = tips_pred.sort_values('male_prob', ascending=False).head()\n",
    "print(top5)"
   ]
  },
  {
   "cell_type": "code",
   "execution_count": 28,
   "id": "95b13114",
   "metadata": {},
   "outputs": [
    {
     "data": {
      "text/plain": [
       "total_bill    19.785943\n",
       "tip            2.998279\n",
       "dtype: float64"
      ]
     },
     "execution_count": 28,
     "metadata": {},
     "output_type": "execute_result"
    }
   ],
   "source": [
    "tips[['total_bill', 'tip']].mean()"
   ]
  },
  {
   "cell_type": "markdown",
   "id": "500026b4",
   "metadata": {},
   "source": [
    "## 문제 5 (난이도: 중): 최고의 모델 찾기: AIC\n",
    "\n",
    "> **🎯 목표:** 여러 모델 중 어떤 모델이 가장 좋은지 객관적인 점수로 평가하는 **AIC**의 개념을 이해하고, 이를 이용해 최적의 모델을 선택합니다.\n",
    "\n",
    "### 💡 핵심 개념:\n",
    "\n",
    "**AIC (Akaike Information Criterion)**는 여러 모델 중 어떤 모델이 가장 좋은지 평가하는 '점수'입니다. AIC는 **모델의 설명력(얼마나 잘 맞추는가)**은 높이고, **모델의 복잡성(얼마나 많은 변수를 썼는가)**에는 벌점을 줍니다. 따라서 **AIC 점수는 낮을수록 더 좋은(효율적인) 모델**이라고 평가합니다.\n",
    "\n",
    "### 📌 수행 과제:\n",
    "\n",
    "1. 팁(`tip`) 금액을 예측하기 위한 세 가지 다른 모델을 만듭니다.\n",
    "   - 모델 A: `total_bill`만 사용\n",
    "   - 모델 B: `total_bill`, `size` 사용\n",
    "   - 모델 C: `total_bill`, `size`, `day`(더미) 사용\n",
    "2. 각 모델의 `.aic` 속성을 확인하여 AIC 점수를 비교하세요.\n",
    "3. 어떤 모델이 가장 좋은 모델인지 선택하고, 그 이유를 설명하세요.\n"
   ]
  },
  {
   "cell_type": "code",
   "execution_count": null,
   "id": "40b2e0b7",
   "metadata": {},
   "outputs": [
    {
     "name": "stdout",
     "output_type": "stream",
     "text": [
      "Model A AIC: 705.0761662637547\n",
      "Model B AIC: 701.9702091086951\n",
      "Model C AIC: 707.3838897060045\n"
     ]
    }
   ],
   "source": [
    "y = tips['tip']\n",
    "\n",
    "# --- 모델 A: total_bill만 사용 ---\n",
    "X_A = tips[['total_bill']]\n",
    "X_A_const = sm.add_constant(X_A)\n",
    "model_A = sm.OLS(y, X_A_const).fit()\n",
    "print(\"Model A AIC:\", model_A.aic)\n",
    "\n",
    "# --- 모델 B: total_bill과 size 사용 ---\n",
    "# 1. 여기에 모델 B의 X 데이터를 준비하고, 학습 후 AIC를 출력하는 코드를 작성하세요.\n",
    "X_B = tips[['total_bill', 'size']]\n",
    "X_B_const = sm.add_constant(X_B)\n",
    "model_B = sm.OLS(y, X_B_const).fit()\n",
    "print(\"Model B AIC:\", model_B.aic)\n",
    "\n",
    "# --- 모델 C: total_bill, size, day 사용 ---\n",
    "# 2. 여기에 모델 C의 X 데이터를 준비하고, 학습 후 AIC를 출력하는 코드를 작성하세요.\n",
    "# (힌트: 문제 2에서 X 데이터를 만들었던 과정을 참고하세요.)\n",
    "day_dummies = pd.get_dummies(tips['day'], prefix='day', drop_first=True, dtype=float)\n",
    "X_C = pd.concat([X_B, day_dummies], axis=1)\n",
    "X_C_const = sm.add_constant(X_C)\n",
    "model_C = sm.OLS(y, X_C_const).fit()\n",
    "print(\"Model C AIC:\", model_C.aic)\n",
    "\n",
    "# 3. 결과 해석 (아래 주석에 직접 작성해 보세요)\n",
    "# 가장 좋은 모델(AIC가 가장 낮은 모델)은?: Model B\n",
    "# 그렇게 생각하는 이유: Model B의 AIC=701.97로 가장 낮아, total_bill과 size 두 변수를 포함했을 때 설명력과 단순성의 균형이 가장 효율적이기 때문이다.\n",
    "# Model C는 변수가 늘어나 복잡성이 커졌지만 설명력 개선은 충분하지 않아 AIC가 오히려 높아졌다."
   ]
  },
  {
   "cell_type": "markdown",
   "id": "d0e0f987",
   "metadata": {},
   "source": [
    "### 🤔 생각해 볼 문제:\n",
    "\n",
    "AIC는 모델의 복잡도(사용한 변수의 개수)에 벌점을 줍니다. 모델 B는 모델 A보다 변수가 하나 더 많음에도 AIC가 낮아졌습니다. 이는 무엇을 의미할까요?\n"
   ]
  },
  {
   "cell_type": "markdown",
   "id": "4b589cba",
   "metadata": {},
   "source": []
  }
 ],
 "metadata": {
  "kernelspec": {
   "display_name": "Python 3",
   "language": "python",
   "name": "python3"
  },
  "language_info": {
   "codemirror_mode": {
    "name": "ipython",
    "version": 3
   },
   "file_extension": ".py",
   "mimetype": "text/x-python",
   "name": "python",
   "nbconvert_exporter": "python",
   "pygments_lexer": "ipython3",
   "version": "3.13.5"
  }
 },
 "nbformat": 4,
 "nbformat_minor": 5
}
