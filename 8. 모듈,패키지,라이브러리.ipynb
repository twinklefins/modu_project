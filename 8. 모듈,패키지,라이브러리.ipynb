{
 "cells": [
  {
   "cell_type": "code",
   "execution_count": 1,
   "id": "df9b640c",
   "metadata": {},
   "outputs": [
    {
     "data": {
      "text/plain": [
       "<module 'random' from '/opt/homebrew/Cellar/python@3.12/3.12.3/Frameworks/Python.framework/Versions/3.12/lib/python3.12/random.py'>"
      ]
     },
     "execution_count": 1,
     "metadata": {},
     "output_type": "execute_result"
    }
   ],
   "source": [
    "import random\n",
    "random"
   ]
  },
  {
   "cell_type": "code",
   "execution_count": 2,
   "id": "8cc90af5",
   "metadata": {},
   "outputs": [
    {
     "data": {
      "text/plain": [
       "<module 'random' from '/opt/homebrew/Cellar/python@3.12/3.12.3/Frameworks/Python.framework/Versions/3.12/lib/python3.12/random.py'>"
      ]
     },
     "execution_count": 2,
     "metadata": {},
     "output_type": "execute_result"
    }
   ],
   "source": [
    "import random as r\n",
    "r"
   ]
  },
  {
   "cell_type": "code",
   "execution_count": 3,
   "id": "4fd069ad",
   "metadata": {},
   "outputs": [
    {
     "data": {
      "text/plain": [
       "0.005412629727437168"
      ]
     },
     "execution_count": 3,
     "metadata": {},
     "output_type": "execute_result"
    }
   ],
   "source": [
    "# 난수 출력\n",
    "r.random()"
   ]
  },
  {
   "cell_type": "code",
   "execution_count": 6,
   "id": "b142957f",
   "metadata": {},
   "outputs": [
    {
     "name": "stdout",
     "output_type": "stream",
     "text": [
      "0.5567673111039919\n",
      "0.4475354738573558\n",
      "0.4051014599929561\n",
      "0.5059195021165387\n",
      "0.6937663879590998\n"
     ]
    }
   ],
   "source": [
    "# Q. 5개의 난수를 출력해 보세요. \n",
    "for i in range(5):\n",
    "    # [[YOUR CODE]]\n",
    "    print(r.random()) "
   ]
  },
  {
   "cell_type": "code",
   "execution_count": 7,
   "id": "7e66ddd6",
   "metadata": {},
   "outputs": [
    {
     "data": {
      "text/plain": [
       "2"
      ]
     },
     "execution_count": 7,
     "metadata": {},
     "output_type": "execute_result"
    }
   ],
   "source": [
    "# 1과 10 사이의 정수 출력\n",
    "r.randint(1, 10)"
   ]
  },
  {
   "cell_type": "code",
   "execution_count": 9,
   "id": "7cc6fa0c",
   "metadata": {},
   "outputs": [
    {
     "name": "stdout",
     "output_type": "stream",
     "text": [
      "7\n",
      "8\n",
      "6\n",
      "6\n",
      "10\n"
     ]
    }
   ],
   "source": [
    "# Q. 1과 10 사이의 랜덤한 정수를 5번 출력해 보세요. \n",
    "for i in range(5):\n",
    "    print(r.randint(1, 10))"
   ]
  },
  {
   "cell_type": "code",
   "execution_count": 10,
   "id": "97647768",
   "metadata": {},
   "outputs": [
    {
     "name": "stdout",
     "output_type": "stream",
     "text": [
      "10\n",
      "1\n",
      "7\n",
      "8\n",
      "10\n"
     ]
    }
   ],
   "source": [
    "r.seed(10)  # 동일한 시드값을 넣으면 동일한 값이 출력됩니다. \n",
    "# Q. 빈 코드를 채워보세요. \n",
    "for i in range(5):\n",
    "    # [[YOUR CODE]]\n",
    "    print(r.randint(1, 10))"
   ]
  },
  {
   "cell_type": "code",
   "execution_count": 11,
   "id": "2119b0cb",
   "metadata": {},
   "outputs": [],
   "source": [
    "# Q. 'm'이라는 이름으로 math 모듈을 불러옵시다.\n",
    "# 힌트: as 키워드를 사용해주세요!  \n",
    "# [[YOUR CODE]]\n",
    "import math as m"
   ]
  },
  {
   "cell_type": "code",
   "execution_count": 12,
   "id": "03383410",
   "metadata": {},
   "outputs": [
    {
     "data": {
      "text/plain": [
       "3.141592653589793"
      ]
     },
     "execution_count": 12,
     "metadata": {},
     "output_type": "execute_result"
    }
   ],
   "source": [
    "m.pi"
   ]
  },
  {
   "cell_type": "code",
   "execution_count": 13,
   "id": "1370ff00",
   "metadata": {},
   "outputs": [
    {
     "data": {
      "text/plain": [
       "2.718281828459045"
      ]
     },
     "execution_count": 13,
     "metadata": {},
     "output_type": "execute_result"
    }
   ],
   "source": [
    "m.e"
   ]
  },
  {
   "cell_type": "code",
   "execution_count": 14,
   "id": "7d93ca6b",
   "metadata": {},
   "outputs": [
    {
     "data": {
      "text/plain": [
       "8.0"
      ]
     },
     "execution_count": 14,
     "metadata": {},
     "output_type": "execute_result"
    }
   ],
   "source": [
    "# 거듭제곱 \n",
    "m.pow(2, 3)"
   ]
  },
  {
   "cell_type": "code",
   "execution_count": 15,
   "id": "2d5316e4",
   "metadata": {},
   "outputs": [
    {
     "data": {
      "text/plain": [
       "8"
      ]
     },
     "execution_count": 15,
     "metadata": {},
     "output_type": "execute_result"
    }
   ],
   "source": [
    "2**3"
   ]
  },
  {
   "cell_type": "code",
   "execution_count": 16,
   "id": "cc43d9f0",
   "metadata": {},
   "outputs": [
    {
     "data": {
      "text/plain": [
       "7.0"
      ]
     },
     "execution_count": 16,
     "metadata": {},
     "output_type": "execute_result"
    }
   ],
   "source": [
    "# 제곱근\n",
    "m.sqrt(49)"
   ]
  },
  {
   "cell_type": "code",
   "execution_count": 17,
   "id": "294cbe32",
   "metadata": {},
   "outputs": [
    {
     "data": {
      "text/plain": [
       "24"
      ]
     },
     "execution_count": 17,
     "metadata": {},
     "output_type": "execute_result"
    }
   ],
   "source": [
    "# 팩토리얼(계승)\n",
    "m.factorial(4)  # 4*3*2*1 값이 출력"
   ]
  },
  {
   "cell_type": "code",
   "execution_count": 18,
   "id": "a0b17bd3",
   "metadata": {},
   "outputs": [
    {
     "data": {
      "text/plain": [
       "8"
      ]
     },
     "execution_count": 18,
     "metadata": {},
     "output_type": "execute_result"
    }
   ],
   "source": [
    "# 올림 -> 수직선에서 오른쪽으로, int형 출력\n",
    "# 양수\n",
    "m.ceil(7.3)"
   ]
  },
  {
   "cell_type": "code",
   "execution_count": 19,
   "id": "847918c6",
   "metadata": {},
   "outputs": [
    {
     "data": {
      "text/plain": [
       "-7"
      ]
     },
     "execution_count": 19,
     "metadata": {},
     "output_type": "execute_result"
    }
   ],
   "source": [
    "# 올림\n",
    "# 음수\n",
    "m.ceil(-7.3)"
   ]
  },
  {
   "cell_type": "code",
   "execution_count": 20,
   "id": "86b784ec",
   "metadata": {},
   "outputs": [
    {
     "data": {
      "text/plain": [
       "7"
      ]
     },
     "execution_count": 20,
     "metadata": {},
     "output_type": "execute_result"
    }
   ],
   "source": [
    "# 버림->수직선에서 왼쪽으로, int형 출력\n",
    "# 양수\n",
    "m.floor(7.8)"
   ]
  },
  {
   "cell_type": "code",
   "execution_count": 21,
   "id": "d4e4ab68",
   "metadata": {},
   "outputs": [
    {
     "data": {
      "text/plain": [
       "-8"
      ]
     },
     "execution_count": 21,
     "metadata": {},
     "output_type": "execute_result"
    }
   ],
   "source": [
    "# 버림\n",
    "# 음수\n",
    "m.floor(-7.8)"
   ]
  },
  {
   "cell_type": "code",
   "execution_count": 22,
   "id": "871418aa",
   "metadata": {},
   "outputs": [
    {
     "data": {
      "text/plain": [
       "7"
      ]
     },
     "execution_count": 22,
     "metadata": {},
     "output_type": "execute_result"
    }
   ],
   "source": [
    "# 내장 함수 round()  \n",
    "round(7.3)"
   ]
  },
  {
   "cell_type": "code",
   "execution_count": 24,
   "id": "6da3e971",
   "metadata": {},
   "outputs": [
    {
     "ename": "AttributeError",
     "evalue": "module 'math' has no attribute 'round'",
     "output_type": "error",
     "traceback": [
      "\u001b[31m---------------------------------------------------------------------------\u001b[39m",
      "\u001b[31mAttributeError\u001b[39m                            Traceback (most recent call last)",
      "\u001b[36mCell\u001b[39m\u001b[36m \u001b[39m\u001b[32mIn[24]\u001b[39m\u001b[32m, line 2\u001b[39m\n\u001b[32m      1\u001b[39m \u001b[38;5;66;03m# round()는 math 모듈이 아닙니다. \u001b[39;00m\n\u001b[32m----> \u001b[39m\u001b[32m2\u001b[39m \u001b[43mm\u001b[49m\u001b[43m.\u001b[49m\u001b[43mround\u001b[49m(\u001b[32m7.3\u001b[39m)  \u001b[38;5;66;03m# 주석을 풀면 오류 메시지가 나옵니다.\u001b[39;00m\n",
      "\u001b[31mAttributeError\u001b[39m: module 'math' has no attribute 'round'"
     ]
    }
   ],
   "source": [
    "# round()는 math 모듈이 아닙니다. \n",
    "m.round(7.3)  # 주석을 풀면 오류 메시지가 나옵니다."
   ]
  },
  {
   "cell_type": "code",
   "execution_count": null,
   "id": "a5722136",
   "metadata": {},
   "outputs": [
    {
     "data": {
      "text/plain": [
       "(4, 6)"
      ]
     },
     "execution_count": 25,
     "metadata": {},
     "output_type": "execute_result"
    }
   ],
   "source": [
    "# round 함수의 특이사항\n",
    "# 반올림할 자리의 수가 5일 때 앞자리가 짝수 숫자이면 내리고, 홀수이면 올림\n",
    "round(4.5), round(5.5)"
   ]
  },
  {
   "cell_type": "code",
   "execution_count": 26,
   "id": "85d28087",
   "metadata": {},
   "outputs": [],
   "source": [
    "# 모듈 임포트\n",
    "import time"
   ]
  },
  {
   "cell_type": "code",
   "execution_count": 27,
   "id": "0419f790",
   "metadata": {},
   "outputs": [
    {
     "name": "stdout",
     "output_type": "stream",
     "text": [
      "5초를 세보세요\n",
      "5초가 지났습니다.\n"
     ]
    }
   ],
   "source": [
    "print('5초를 세보세요')\n",
    "time.sleep(5)\n",
    "print('5초가 지났습니다.')"
   ]
  },
  {
   "cell_type": "code",
   "execution_count": 28,
   "id": "8987edfa",
   "metadata": {},
   "outputs": [
    {
     "data": {
      "text/plain": [
       "time.struct_time(tm_year=2025, tm_mon=7, tm_mday=16, tm_hour=21, tm_min=49, tm_sec=35, tm_wday=2, tm_yday=197, tm_isdst=0)"
      ]
     },
     "execution_count": 28,
     "metadata": {},
     "output_type": "execute_result"
    }
   ],
   "source": [
    "time.localtime()"
   ]
  },
  {
   "cell_type": "code",
   "execution_count": 29,
   "id": "ccb5e381",
   "metadata": {},
   "outputs": [
    {
     "data": {
      "text/plain": [
       "(2025, 7, 16)"
      ]
     },
     "execution_count": 29,
     "metadata": {},
     "output_type": "execute_result"
    }
   ],
   "source": [
    "# 필요한 정보만 슬라이싱\n",
    "time.localtime()[:3]"
   ]
  },
  {
   "cell_type": "code",
   "execution_count": 30,
   "id": "bda1afbc",
   "metadata": {},
   "outputs": [
    {
     "data": {
      "text/plain": [
       "(21, 50, 48)"
      ]
     },
     "execution_count": 30,
     "metadata": {},
     "output_type": "execute_result"
    }
   ],
   "source": [
    "# Q. 시간, 분, 초 정보만 슬라이싱해 봅시다. \n",
    "# 참고: localtime 함수는 원래 현재 시간을 출력해주지만,\n",
    "# 클라우드 서버의 시스템 시간은 실제 시간과 다를 수 있습니다.\n",
    "\n",
    "# [[YOUR CODE]]\n",
    "time.localtime()[3:6]"
   ]
  },
  {
   "cell_type": "code",
   "execution_count": 31,
   "id": "a6007af3",
   "metadata": {},
   "outputs": [],
   "source": [
    "# Q. keyword 모듈을 'k'라는 이름으로 import해주세요.\n",
    "# [[YOUR CODE]]\n",
    "import keyword as k"
   ]
  },
  {
   "cell_type": "code",
   "execution_count": 32,
   "id": "8f301896",
   "metadata": {},
   "outputs": [
    {
     "data": {
      "text/plain": [
       "['False',\n",
       " 'None',\n",
       " 'True',\n",
       " 'and',\n",
       " 'as',\n",
       " 'assert',\n",
       " 'async',\n",
       " 'await',\n",
       " 'break',\n",
       " 'class',\n",
       " 'continue',\n",
       " 'def',\n",
       " 'del',\n",
       " 'elif',\n",
       " 'else',\n",
       " 'except',\n",
       " 'finally',\n",
       " 'for',\n",
       " 'from',\n",
       " 'global',\n",
       " 'if',\n",
       " 'import',\n",
       " 'in',\n",
       " 'is',\n",
       " 'lambda',\n",
       " 'nonlocal',\n",
       " 'not',\n",
       " 'or',\n",
       " 'pass',\n",
       " 'raise',\n",
       " 'return',\n",
       " 'try',\n",
       " 'while',\n",
       " 'with',\n",
       " 'yield']"
      ]
     },
     "execution_count": 32,
     "metadata": {},
     "output_type": "execute_result"
    }
   ],
   "source": [
    "# 예약어를 리스트로 출력\n",
    "k.kwlist"
   ]
  },
  {
   "cell_type": "code",
   "execution_count": 33,
   "id": "fb1dfaab",
   "metadata": {},
   "outputs": [
    {
     "data": {
      "text/plain": [
       "True"
      ]
     },
     "execution_count": 33,
     "metadata": {},
     "output_type": "execute_result"
    }
   ],
   "source": [
    "# if가 키워드인지 확인\n",
    "k.iskeyword('if')"
   ]
  },
  {
   "cell_type": "code",
   "execution_count": 34,
   "id": "1f433b10",
   "metadata": {},
   "outputs": [
    {
     "data": {
      "text/plain": [
       "3.141592653589793"
      ]
     },
     "execution_count": 34,
     "metadata": {},
     "output_type": "execute_result"
    }
   ],
   "source": [
    "from math import pi\n",
    "pi"
   ]
  },
  {
   "cell_type": "code",
   "execution_count": 35,
   "id": "859cd4d2",
   "metadata": {},
   "outputs": [
    {
     "data": {
      "text/plain": [
       "32.0"
      ]
     },
     "execution_count": 35,
     "metadata": {},
     "output_type": "execute_result"
    }
   ],
   "source": [
    "# Q. from import를 사용하여 pow 함수를 가져와 보세요. \n",
    "# [[YOUR CODE]]\n",
    "from math import pow\n",
    "pow(2, 5)"
   ]
  },
  {
   "cell_type": "code",
   "execution_count": 36,
   "id": "6206d479",
   "metadata": {},
   "outputs": [
    {
     "data": {
      "text/plain": [
       "(3.141592653589793, 2.718281828459045, 64.0)"
      ]
     },
     "execution_count": 36,
     "metadata": {},
     "output_type": "execute_result"
    }
   ],
   "source": [
    "# 여러 개의 변수, 함수를 가져올 때 \n",
    "from math import e, pi, pow\n",
    "pi, e, pow(2, 6)"
   ]
  },
  {
   "cell_type": "code",
   "execution_count": 37,
   "id": "9873b3e8",
   "metadata": {},
   "outputs": [
    {
     "data": {
      "text/plain": [
       "7"
      ]
     },
     "execution_count": 37,
     "metadata": {},
     "output_type": "execute_result"
    }
   ],
   "source": [
    "# 모듈 전체를 가져올 때\n",
    "from math import * \n",
    "ceil(6.3)"
   ]
  },
  {
   "cell_type": "code",
   "execution_count": 38,
   "id": "44c694ec",
   "metadata": {},
   "outputs": [
    {
     "data": {
      "text/plain": [
       "7.0"
      ]
     },
     "execution_count": 38,
     "metadata": {},
     "output_type": "execute_result"
    }
   ],
   "source": [
    "from math import sqrt as s \n",
    "s(49)"
   ]
  },
  {
   "cell_type": "code",
   "execution_count": 39,
   "id": "451ee697",
   "metadata": {},
   "outputs": [
    {
     "data": {
      "text/plain": [
       "(9.0, 9.0)"
      ]
     },
     "execution_count": 39,
     "metadata": {},
     "output_type": "execute_result"
    }
   ],
   "source": [
    "# Q. math 모듈의 sqrt 함수를 's'라는 이름으로, pow 함수를 'p'라는 이름으로 import해 보세요. \n",
    "# [[YOUR CODE]]\n",
    "from math import sqrt as s, pow as p\n",
    "s(81), p(3, 2)"
   ]
  },
  {
   "cell_type": "code",
   "execution_count": 40,
   "id": "1a811028",
   "metadata": {},
   "outputs": [
    {
     "name": "stdout",
     "output_type": "stream",
     "text": [
      "join(): /A/B/C/file.py\n"
     ]
    }
   ],
   "source": [
    "import os.path\n",
    "new_path = os.path.join(\"/A/B/C\", \"file.py\")  # 패키지.모듈.함수()\n",
    "print(\"join(): \" + new_path)"
   ]
  },
  {
   "cell_type": "code",
   "execution_count": 42,
   "id": "5ee8e8cd",
   "metadata": {},
   "outputs": [
    {
     "name": "stdout",
     "output_type": "stream",
     "text": [
      "join(): A/B/C/file.py\n"
     ]
    }
   ],
   "source": [
    "# Q. os 패키지의 path 모듈을 'p'라는 이름으로 import해 보세요. \n",
    "import os.path as p\n",
    "new_path = p.join(\"A/B/C\", \"file.py\")  # join 함수 사용\n",
    "print(\"join(): \" + new_path)"
   ]
  },
  {
   "cell_type": "code",
   "execution_count": null,
   "id": "c02175f0",
   "metadata": {},
   "outputs": [],
   "source": [
    "# 실습퀴즈1. 모듈\n",
    "# 1부터 100까지의 정수를 무작위로 10개 출력해 주세요.\n",
    "# [[your code]]\n",
    "for i in range(10):\n",
    "    # [[your code]]"
   ]
  },
  {
   "cell_type": "code",
   "execution_count": 43,
   "id": "fef8373b",
   "metadata": {},
   "outputs": [
    {
     "name": "stdout",
     "output_type": "stream",
     "text": [
      "2\n",
      "27\n",
      "60\n",
      "63\n",
      "36\n",
      "84\n",
      "21\n",
      "5\n",
      "67\n",
      "63\n"
     ]
    }
   ],
   "source": [
    "# 실습퀴즈1. 모듈\n",
    "# 1부터 100까지의 정수를 무작위로 10개 출력해 주세요.\n",
    "import random\n",
    "for i in range(10):\n",
    "    print(r.randint(1, 100))"
   ]
  },
  {
   "cell_type": "code",
   "execution_count": null,
   "id": "bebfac49",
   "metadata": {},
   "outputs": [],
   "source": [
    "# 실습퀴즈 2. 커스텀 공학 계산기 만들기\n",
    "# 아래의 빈 코드를 완성하세요. \n",
    "# 참고: 코드를 메모장에 붙여넣고, 파일명을 'calc.py'로 저장하세요. \n",
    "# 제곱\n",
    "# [[YOUR CODE]]\n",
    "\n",
    "# 세제곱\n",
    "# [[YOUR CODE]]\n",
    "\n",
    "# 나누기\n",
    "# [[YOUR CODE]]\n",
    "\n",
    "# 1부터 n까지의 정수를 곱하는 팩토리얼 만들기\n",
    "# [[YOUR CODE]]"
   ]
  },
  {
   "cell_type": "code",
   "execution_count": null,
   "id": "a46f75ad",
   "metadata": {},
   "outputs": [],
   "source": [
    "# 실습퀴즈 2. 커스텀 공학 계산기 만들기\n",
    "# 아래의 빈 코드를 완성하세요. \n",
    "# 참고: 코드를 메모장에 붙여넣고, 파일명을 'calc.py'로 저장하세요. \n",
    "# 제곱\n",
    "def power(a, b):\n",
    "    return a ** b\n",
    "\n",
    "# 세제곱\n",
    "def cubic(a):\n",
    "    return a ** 3\n",
    "\n",
    "# 나누기\n",
    "def divide(a, b):\n",
    "    if b == 0:\n",
    "        raise ValueError(\"값에 0이 있어서 나눌 수 없습니다.\")\n",
    "    return f\"몫:{a //b}, 나머지:{a % b}, 소수점: {a / b}\"\n",
    "\n",
    "# 1부터 n까지의 정수를 곱하는 팩토리얼 만들기\n",
    "def factorial(n):\n",
    "    if n == 0:\n",
    "        return 1\n",
    "    else:\n",
    "        return n * factorial(n-1)"
   ]
  },
  {
   "cell_type": "code",
   "execution_count": 45,
   "id": "ffbbfdf1",
   "metadata": {},
   "outputs": [
    {
     "name": "stdout",
     "output_type": "stream",
     "text": [
      "100000\n",
      "0.0010000000000000002\n",
      "몫:1, 나머지:3, 소수점: 1.4285714285714286\n",
      "3628800\n"
     ]
    }
   ],
   "source": [
    "import calc\n",
    "\n",
    "print(calc.power(10, 5))\n",
    "print(calc.cubic(0.1))\n",
    "print(calc.divide(10, 7))\n",
    "print(calc.factorial(10)) # !10 = 10*9*8*7*6*5*4*3*2*1"
   ]
  },
  {
   "cell_type": "code",
   "execution_count": null,
   "id": "b415493c",
   "metadata": {},
   "outputs": [],
   "source": [
    "# 실습퀴즈3. 패키지\n",
    "# 파일의 경로를 지정하고 출력해 보세요.\n",
    "\n",
    "import # [[your code]]\n",
    "new_path = # [[your code]]\n",
    "print(\"join(): \" + new_path)"
   ]
  },
  {
   "cell_type": "code",
   "execution_count": 48,
   "id": "c7393cdf",
   "metadata": {},
   "outputs": [
    {
     "name": "stdout",
     "output_type": "stream",
     "text": [
      "join(): test/today/python.py\n"
     ]
    }
   ],
   "source": [
    "# 실습퀴즈3. 패키지\n",
    "# 파일의 경로를 지정하고 출력해 보세요.\n",
    "\n",
    "import os.path\n",
    "new_path = os.path.join(\"test/today/\", \"python.py\")\n",
    "print(\"join(): \" + new_path)"
   ]
  }
 ],
 "metadata": {
  "kernelspec": {
   "display_name": "Python 3",
   "language": "python",
   "name": "python3"
  },
  "language_info": {
   "codemirror_mode": {
    "name": "ipython",
    "version": 3
   },
   "file_extension": ".py",
   "mimetype": "text/x-python",
   "name": "python",
   "nbconvert_exporter": "python",
   "pygments_lexer": "ipython3",
   "version": "3.12.3"
  }
 },
 "nbformat": 4,
 "nbformat_minor": 5
}
