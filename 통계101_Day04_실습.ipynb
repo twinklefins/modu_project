{
 "cells": [
  {
   "cell_type": "markdown",
   "id": "9aab2f00",
   "metadata": {},
   "source": [
    "## 사전 준비: 라이브러리 및 데이터 로드\n"
   ]
  },
  {
   "cell_type": "code",
   "execution_count": 2,
   "id": "0821b39d",
   "metadata": {},
   "outputs": [],
   "source": [
    "# 라이브러리와 폰트를 로드\n",
    "import pandas as pd\n",
    "import numpy as np\n",
    "import scipy.stats as stats\n",
    "import matplotlib.pyplot as plt\n",
    "import seaborn as sns\n",
    "from statsmodels.stats.multicomp import pairwise_tukeyhsd\n",
    "\n",
    "# MacOS에서는 기본 한글 폰트로 AppleGothic 사용\n",
    "plt.rcParams['font.family'] = 'AppleGothic'\n",
    "plt.rcParams['axes.unicode_minus'] = False  # 마이너스 깨짐 방지\n"
   ]
  },
  {
   "cell_type": "code",
   "execution_count": 3,
   "id": "56f41c62",
   "metadata": {},
   "outputs": [
    {
     "data": {
      "text/html": [
       "<div>\n",
       "<style scoped>\n",
       "    .dataframe tbody tr th:only-of-type {\n",
       "        vertical-align: middle;\n",
       "    }\n",
       "\n",
       "    .dataframe tbody tr th {\n",
       "        vertical-align: top;\n",
       "    }\n",
       "\n",
       "    .dataframe thead th {\n",
       "        text-align: right;\n",
       "    }\n",
       "</style>\n",
       "<table border=\"1\" class=\"dataframe\">\n",
       "  <thead>\n",
       "    <tr style=\"text-align: right;\">\n",
       "      <th></th>\n",
       "      <th>species</th>\n",
       "      <th>island</th>\n",
       "      <th>bill_length_mm</th>\n",
       "      <th>bill_depth_mm</th>\n",
       "      <th>flipper_length_mm</th>\n",
       "      <th>body_mass_g</th>\n",
       "      <th>sex</th>\n",
       "    </tr>\n",
       "  </thead>\n",
       "  <tbody>\n",
       "    <tr>\n",
       "      <th>0</th>\n",
       "      <td>Adelie</td>\n",
       "      <td>Torgersen</td>\n",
       "      <td>39.1</td>\n",
       "      <td>18.7</td>\n",
       "      <td>181.0</td>\n",
       "      <td>3750.0</td>\n",
       "      <td>Male</td>\n",
       "    </tr>\n",
       "    <tr>\n",
       "      <th>1</th>\n",
       "      <td>Adelie</td>\n",
       "      <td>Torgersen</td>\n",
       "      <td>39.5</td>\n",
       "      <td>17.4</td>\n",
       "      <td>186.0</td>\n",
       "      <td>3800.0</td>\n",
       "      <td>Female</td>\n",
       "    </tr>\n",
       "    <tr>\n",
       "      <th>2</th>\n",
       "      <td>Adelie</td>\n",
       "      <td>Torgersen</td>\n",
       "      <td>40.3</td>\n",
       "      <td>18.0</td>\n",
       "      <td>195.0</td>\n",
       "      <td>3250.0</td>\n",
       "      <td>Female</td>\n",
       "    </tr>\n",
       "    <tr>\n",
       "      <th>3</th>\n",
       "      <td>Adelie</td>\n",
       "      <td>Torgersen</td>\n",
       "      <td>NaN</td>\n",
       "      <td>NaN</td>\n",
       "      <td>NaN</td>\n",
       "      <td>NaN</td>\n",
       "      <td>NaN</td>\n",
       "    </tr>\n",
       "    <tr>\n",
       "      <th>4</th>\n",
       "      <td>Adelie</td>\n",
       "      <td>Torgersen</td>\n",
       "      <td>36.7</td>\n",
       "      <td>19.3</td>\n",
       "      <td>193.0</td>\n",
       "      <td>3450.0</td>\n",
       "      <td>Female</td>\n",
       "    </tr>\n",
       "  </tbody>\n",
       "</table>\n",
       "</div>"
      ],
      "text/plain": [
       "  species     island  bill_length_mm  bill_depth_mm  flipper_length_mm  \\\n",
       "0  Adelie  Torgersen            39.1           18.7              181.0   \n",
       "1  Adelie  Torgersen            39.5           17.4              186.0   \n",
       "2  Adelie  Torgersen            40.3           18.0              195.0   \n",
       "3  Adelie  Torgersen             NaN            NaN                NaN   \n",
       "4  Adelie  Torgersen            36.7           19.3              193.0   \n",
       "\n",
       "   body_mass_g     sex  \n",
       "0       3750.0    Male  \n",
       "1       3800.0  Female  \n",
       "2       3250.0  Female  \n",
       "3          NaN     NaN  \n",
       "4       3450.0  Female  "
      ]
     },
     "execution_count": 3,
     "metadata": {},
     "output_type": "execute_result"
    }
   ],
   "source": [
    "# 실습용 데이터셋 불러오기\n",
    "penguins = sns.load_dataset('penguins')\n",
    "penguins.head()"
   ]
  },
  {
   "cell_type": "markdown",
   "id": "5e02ecbb",
   "metadata": {},
   "source": [
    "## 문제 1 (난이도: 하): 관계의 시작, 산점도 그리기\n",
    "\n",
    "> **🎯 목표:** 두 변수 사이의 관계를 눈으로 확인하는 가장 기본적인 방법인 **산점도(Scatter Plot)**를 직접 그려보고, 그 의미를 이해합니다.\n",
    "\n",
    "### 💡 핵심 개념:\n",
    "\n",
    "**산점도**는 두 개의 숫자 데이터(양적 변수)를 점으로 표현한 그래프입니다. 각 데이터 하나가 점 하나가 됩니다. 가로축(x축)과 세로축(y축)에 각각 다른 변수를 놓고 점을 찍어보면, 점들이 흩어져 있는 모양(분포)을 통해 두 변수가 어떤 관계를 맺고 있는지 짐작할 수 있습니다.\n",
    "\n",
    "예를 들어, 점들이 우상향하는 모양이라면 'x가 커질 때 y도 커지는구나'라고 생각할 수 있습니다.\n",
    "\n",
    "\n",
    "### 📌 수행 과제:\n",
    "\n",
    "1. `penguins` 데이터셋에서 `bill_length_mm`(부리 길이)와 `bill_depth_mm`(부리 두께) 두 변수를 사용합니다.\n",
    "2. `seaborn` 라이브러리의 `scatterplot` 함수를 이용해 산점도를 그리세요.\n",
    "   - x축: `bill_length_mm`\n",
    "   - y축: `bill_depth_mm`\n",
    "3. 그래프의 제목과 축 라벨을 알아보기 쉽게 한글로 설정하세요.\n",
    "4. 완성된 산점도의 점들이 어떤 패턴을 보이는지 설명해 보세요.\n",
    "\n"
   ]
  },
  {
   "cell_type": "code",
   "execution_count": null,
   "id": "5b103e99",
   "metadata": {},
   "outputs": [
    {
     "data": {
      "image/png": "[encoded data removed]",
      "text/plain": [
       "<Figure size 800x600 with 1 Axes>"
      ]
     },
     "metadata": {},
     "output_type": "display_data"
    }
   ],
   "source": [
    "# 그래프를 그릴 도화지를 준비합니다.\n",
    "plt.figure(figsize=(8, 6))\n",
    "\n",
    "# 1. 여기에 산점도를 그리는 코드를 작성하세요.\n",
    "# sns.scatterplot() 함수를 사용하고, data, x, y 인자를 지정해보세요.\n",
    "sns.scatterplot(\n",
    "    data=penguins,\n",
    "    x=\"bill_length_mm\",\n",
    "    y=\"bill_depth_mm\"\n",
    ")\n",
    "\n",
    "# 2. 여기에 그래프 제목과 축 라벨을 설정하는 코드를 작성하세요.\n",
    "# plt.title(), plt.xlabel(), plt.ylabel() 함수를 사용합니다.\n",
    "plt.title(\"펭귄 부리 길이와 부리 두께의 관계\")\n",
    "plt.xlabel(\"부리 길이 (mm)\")\n",
    "plt.ylabel(\"부리 두께 (mm)\")\n",
    "\n",
    "# 그래프를 화면에 보여줍니다.\n",
    "plt.show()\n",
    "\n",
    "# 3. 결과 해석 ( 아래 주석에 직접 작성해 보세요)\n",
    "# 해석: 전반적으로 부리 길이가 길어질수록 부리 두께가 얇아지는 경향(음의 상관관계)을 확인할 수 있다.\n",
    "# 점들이 완전히 직선 형태로 늘어선 건 아니지만, 몇 개의 집단(cluster)처럼 모여 있는 모습이 보인다."
   ]
  },
  {
   "cell_type": "markdown",
   "id": "7d2d2ff0",
   "metadata": {},
   "source": [
    "### 🤔 생각해 볼 문제:\n",
    "\n",
    "현재 산점도에 펭귄의 '종류(species)'별로 점의 색깔을 다르게 칠한다면, 전체적으로 보이던 패턴 외에 우리가 미처 발견하지 못했던 새로운 사실을 알 수 있을까요? 어떤 점이 달라 보일지 추측해 봅시다.  \n",
    "-> 종별로 색을 칠하면, 전체적 음의 상관 패턴과 별개로 종마다 다른 군집이 뚜렷해질 것으로 추측됨.  \n",
    "(예: 어떤 종은 부리 길이가 짧고 두껍게, 다른 종은 길고 얇게 분포)"
   ]
  },
  {
   "cell_type": "markdown",
   "id": "94713127",
   "metadata": {},
   "source": [
    "## 문제 2 (난이도: 하): 관계를 숫자로 요약하기, 상관계수\n",
    "\n",
    "> **🎯 목표:** 눈으로 확인한 관계의 **방향**과 **강도**를 **상관계수**라는 하나의 숫자로 계산하고, 그 숫자의 의미를 해석하는 방법을 배웁니다.\n",
    "\n",
    "### 💡 핵심 개념:\n",
    "\n",
    "**피어슨 상관계수(r)**는 두 변수가 얼마나 '똑바로', '함께' 움직이는지를 -1에서 +1 사이의 점수로 알려줍니다.\n",
    "\n",
    "- **부호(+, -):** 관계의 **방향**을 의미합니다.\n",
    "  - `+` (양수): 한 변수가 커질 때 다른 변수도 같이 커지는 **양의 상관관계** (예: 공부 시간과 성적).\n",
    "  - `-` (음수): 한 변수가 커질 때 다른 변수는 작아지는 **음의 상관관계** (예: 운동 시간과 체지방률).\n",
    "- **크기(절대값):** 관계의 **강도**를 의미합니다.\n",
    "  - `1` 또는 `-1`에 가까울수록 점들이 거의 일직선 위에 놓인 강한 관계입니다.\n",
    "  - `0`에 가까울수록 관계가 없거나, 직선이 아닌 다른 복잡한 관계(비선형 관계)일 수 있습니다.\n",
    "\n",
    "### 📌 수행 과제:\n",
    "\n",
    "1. `penguins` 데이터셋에서 `bill_length_mm`와 `bill_depth_mm` 두 변수를 선택하세요.\n",
    "2. `pandas`의 `.corr()` 메소드를 사용해 두 변수 간의 상관계수를 계산하세요. (계산 전 `.dropna()`로 빈칸이 있는 행을 제거해야 합니다.)\n",
    "3. 계산된 상관계수의 부호와 크기를 보고, 두 변수의 관계를 설명해 보세요.\n"
   ]
  },
  {
   "cell_type": "code",
   "execution_count": null,
   "id": "57ada334",
   "metadata": {},
   "outputs": [
    {
     "name": "stdout",
     "output_type": "stream",
     "text": [
      "                bill_length_mm  bill_depth_mm\n",
      "bill_length_mm        1.000000      -0.235053\n",
      "bill_depth_mm        -0.235053       1.000000\n"
     ]
    }
   ],
   "source": [
    "# 1. 분석할 두 변수를 선택하고, 빈칸(결측치)이 있는 행을 제거하세요.\n",
    "df_corr = penguins[['bill_length_mm', 'bill_depth_mm']].dropna()\n",
    "\n",
    "# 2. 여기에 상관계수를 계산하는 코드를 작성하세요.\n",
    "# 위에서 만든 df_corr 데이터프레임에 .corr() 메소드를 적용합니다.\n",
    "correlation_matrix = df_corr.corr()\n",
    "\n",
    "# 계산된 상관계수 행렬을 출력합니다.\n",
    "print(correlation_matrix)\n",
    "\n",
    "# 3. 결과 해석 (아래 주석에 직접 작성해 보세요)\n",
    "# 상관계수 값: -0.235053 (약 –0.24)\n",
    "# 부호와 크기를 통한 관계 설명:\n",
    "# 부호가 음수(-) → 부리 길이가 길어질수록 부리 두께는 줄어드는 경향.\n",
    "# 절대값이 약 0.24로 0에 가까움 → 강한 관계까 아니라, 비교적 약한 음의 상관관계."
   ]
  },
  {
   "cell_type": "markdown",
   "id": "503dd600",
   "metadata": {},
   "source": [
    "### 🤔 생각해 볼 문제:\n",
    "\n",
    "두 변수의 상관계수가 -0.23으로 계산되었습니다. 이 사실이 '부리 길이가 길어지는 것이 부리 두께를 얇아지게 하는 원인이다'라는 것을 증명하나요? '상관관계는 인과관계가 아니다'라는, 데이터 분석에서 가장 중요한 원칙 중 하나를 이 예시로 설명해 봅시다.  \n",
    "-> 상관계수 –0.23은 부리 길이와 두께 사이에 약한 음의 상관관계가 있음을 보여주지만, 이는 길이가 늘어나는 것이 두께를 얇아지게 만든다는 인과관계를 의미하지 않는다.  \n",
    "-> 즉, 단순히 두 변수가 함께 나타나는 경향을 나타내는 것일 뿐, 원인과 결과로 해석해서는 안 된다."
   ]
  },
  {
   "cell_type": "markdown",
   "id": "33046dff",
   "metadata": {},
   "source": [
    "## 문제 3 (난이도: 중): 관계를 대표하는 공식 만들기, 선형 회귀\n",
    "\n",
    "> **🎯 목표:** 두 변수의 관계를 가장 잘 나타내는 하나의 직선(회귀선)을 찾고, 그 직선을 `y = a + bx` 형태의 **회귀식**으로 표현하는 방법을 학습합니다.\n",
    "\n",
    "### 💡 핵심 개념:\n",
    "\n",
    "**선형 회귀분석**은 흩어진 점들 사이를 가장 잘 가로지르는 '최적의 직선'을 찾는 과정입니다. 이 직선을 통해 한 변수(독립변수, x)의 값을 알 때 다른 변수(종속변수, y)의 값을 예측할 수 있습니다.\n",
    "\n",
    "- **종속변수 (y, 반응변수):** 우리가 예측하고 싶은 대상 (예: 몸무게)\n",
    "- **독립변수 (x, 설명변수):** 예측의 근거가 되는 변수 (예: 날개 길이)\n",
    "- **회귀식 (`y = a + bx`):**\n",
    "  - `a` (절편, Intercept): 독립변수 x가 0일 때의 y 예측값. 직선이 y축과 만나는 지점입니다.\n",
    "  - `b` (기울기, Coefficient): 독립변수 x가 1만큼 증가할 때 y가 얼마나 변하는지를 나타냅니다. 관계의 핵심적인 효과를 보여줍니다.\n",
    "\n",
    "### 📌 수행 과제:\n",
    "\n",
    "1. `statsmodels` 라이브러리의 `ols` 함수를 사용하여 **'날개 길이(`flipper_length_mm`)'로 '몸무게(`body_mass_g`)'를 예측**하는 회귀 모델을 만드세요.\n",
    "2. 학습된 모델의 `.summary()` 메소드를 호출하여 분석 결과표를 출력하세요.\n",
    "3. 결과표의 `coef` 열에서 **절편(Intercept)**과 **기울기(flipper_length_mm)** 값을 찾아 회귀식을 완성해 보세요.\n"
   ]
  },
  {
   "cell_type": "code",
   "execution_count": null,
   "id": "1d31624a",
   "metadata": {},
   "outputs": [
    {
     "name": "stdout",
     "output_type": "stream",
     "text": [
      "                            OLS Regression Results                            \n",
      "==============================================================================\n",
      "Dep. Variable:            body_mass_g   R-squared:                       0.759\n",
      "Model:                            OLS   Adj. R-squared:                  0.758\n",
      "Method:                 Least Squares   F-statistic:                     1071.\n",
      "Date:                Wed, 10 Sep 2025   Prob (F-statistic):          4.37e-107\n",
      "Time:                        16:41:21   Log-Likelihood:                -2528.4\n",
      "No. Observations:                 342   AIC:                             5061.\n",
      "Df Residuals:                     340   BIC:                             5069.\n",
      "Df Model:                           1                                         \n",
      "Covariance Type:            nonrobust                                         \n",
      "=====================================================================================\n",
      "                        coef    std err          t      P>|t|      [0.025      0.975]\n",
      "-------------------------------------------------------------------------------------\n",
      "Intercept         -5780.8314    305.815    -18.903      0.000   -6382.358   -5179.305\n",
      "flipper_length_mm    49.6856      1.518     32.722      0.000      46.699      52.672\n",
      "==============================================================================\n",
      "Omnibus:                        5.634   Durbin-Watson:                   2.176\n",
      "Prob(Omnibus):                  0.060   Jarque-Bera (JB):                5.585\n",
      "Skew:                           0.313   Prob(JB):                       0.0613\n",
      "Kurtosis:                       3.019   Cond. No.                     2.89e+03\n",
      "==============================================================================\n",
      "\n",
      "Notes:\n",
      "[1] Standard Errors assume that the covariance matrix of the errors is correctly specified.\n",
      "[2] The condition number is large, 2.89e+03. This might indicate that there are\n",
      "strong multicollinearity or other numerical problems.\n"
     ]
    }
   ],
   "source": [
    "# 모델 학습 전, 사용할 변수들에 빈칸이 있는 행들을 제거합니다.\n",
    "penguins_cleaned = penguins.dropna(subset=['body_mass_g', 'flipper_length_mm'])\n",
    "\n",
    "# 1. 여기에 OLS 회기 모델을 학습시키는 코드를 작성하세요.\n",
    "# smf.ols() 함수를 사용하고, formula는 '종속변수 ~ 독립변수' 형태로 작성합니다.\n",
    "# 예: formula='body_mass_g ~ flipper_length_mm'\n",
    "import statsmodels.formula.api as smf\n",
    "\n",
    "model = smf.ols(formula='body_mass_g ~ flipper_length_mm', data=penguins_cleaned).fit()\n",
    "\n",
    "# 2. 여기에 모델의 요약 결과표를 출력하는 코드를 작성하세요.\n",
    "# 위에서 만든 model 객체에 .summary() 메소드를 적용합니다.\n",
    "print(model.summary())\n",
    "\n",
    "# 3. 결과 해석 (아래 주석에 직접 작성해 보세요.)\n",
    "# 절편(a) 값: -5780.8314 (약 -5780.83)\n",
    "# 기울기(b) 값: 49.6856 (약 49.69)\n",
    "# 완성된 회귀식 (몸무게 = a + b * 날개길이): \n",
    "# 몸무게(body_mass_g) = -5780.83 + 49.69 * 날개길이(flipper_length_mm)"
   ]
  },
  {
   "cell_type": "markdown",
   "id": "f32a7263",
   "metadata": {},
   "source": [
    "🤔 생각해 볼 문제:\n",
    "회귀식의 기울기(b)는 '날개 길이가 1mm 늘어날 때 몸무게가 평균적으로 얼마나 변하는지'를 나타냅니다. 이 기울기 값을 이용해, 날개 길이가 우리 데이터의 평균보다 10mm 더 긴 펭귄은 평균적인 펭귄보다 몸무게가 약 몇 g 더 무거울 것이라고 구체적인 숫자로 예측해 봅시다.  \n",
    "-> 펭귄 평균 날개 길이: 약 200.92mm / 평균보다 10mm 더 긴 경우: 210.92mm  \n",
    "몸무게 차이 = 기울기(49.69) × (210.92 - 200.92) = 49.69 × 10 ≈ 497g  \n",
    "따라서 평균보다 날개가 10mm 더 긴 펭귄은 평균적인 펭귄보다 약 500g 더 무겁다고 예측할 수 있다."
   ]
  },
  {
   "cell_type": "code",
   "execution_count": 17,
   "id": "4ca58dd0",
   "metadata": {},
   "outputs": [
    {
     "name": "stdout",
     "output_type": "stream",
     "text": [
      "날개 길이 평균: 200.91520467836258\n"
     ]
    }
   ],
   "source": [
    "mean_flipper = penguins_cleaned['flipper_length_mm'].mean()\n",
    "print(f\"날개 길이 평균: {mean_flipper}\")"
   ]
  },
  {
   "cell_type": "markdown",
   "id": "43ba2801",
   "metadata": {},
   "source": [
    "## 문제 4 (난이도: 중): 회귀계수의 의미와 통계적 유의성 판단하기\n",
    "\n",
    "> **🎯 목표:** 회귀식의 **기울기(b)**가 정말로 의미 있는 값인지, 아니면 그냥 우연히 나온 값인지 통계적으로 판단하는 방법을 배웁니다.\n",
    "\n",
    "### 💡 핵심 개념:\n",
    "\n",
    "**회귀계수의 가설검정**은 \"이 기울기 값이 정말 0이 아니라고 말할 수 있는가?\"를 검증하는 과정입니다. 여기서 **p-value(유의확률)**가 핵심적인 역할을 합니다.\n",
    "\n",
    "- **귀무가설 (H₀):** \"두 변수는 관계가 없다. 즉, 기울기는 0이다.\" (우리가 발견한 관계는 우연이다)\n",
    "- **대립가설 (H₁):** \"두 변수는 관계가 있다. 즉, 기울기는 0이 아니다.\" (우리가 발견한 관계는 진짜다)\n",
    "- **p-value:** **귀무가설이 맞다고 가정할 때**, 우리가 현재 데이터에서 관찰한 것과 같거나 더 극단적인 결과가 우연히 나타날 확률입니다.\n",
    "  - **p-value가 매우 작으면 (보통 0.05 미만):** \"이런 일이 우연히 일어날 확률은 매우 낮다. 따라서 귀무가설이 틀렸을 것이다.\" 라고 판단하고, 두 변수의 관계가 **통계적으로 유의미하다**고 결론 내립니다.\n",
    "\n",
    "### 📌 수행 과제:\n",
    "\n",
    "1. 문제 3에서 출력한 `.summary()` 결과표를 다시 확인합니다.\n",
    "2. `flipper_length_mm` 행에서 `P>|t|` 열의 값(p-value)을 찾으세요.\n",
    "3. 이 p-value가 일반적인 유의수준인 0.05보다 작은지 확인하고, 이를 근거로 \"펭귄의 날개 길이가 몸무게에 미치는 영향이 통계적으로 유의미한지\" 결론을 내리세요.\n"
   ]
  },
  {
   "cell_type": "code",
   "execution_count": 20,
   "id": "3d576150",
   "metadata": {},
   "outputs": [
    {
     "name": "stdout",
     "output_type": "stream",
     "text": [
      "                            OLS Regression Results                            \n",
      "==============================================================================\n",
      "Dep. Variable:            body_mass_g   R-squared:                       0.759\n",
      "Model:                            OLS   Adj. R-squared:                  0.758\n",
      "Method:                 Least Squares   F-statistic:                     1071.\n",
      "Date:                Wed, 10 Sep 2025   Prob (F-statistic):          4.37e-107\n",
      "Time:                        17:37:25   Log-Likelihood:                -2528.4\n",
      "No. Observations:                 342   AIC:                             5061.\n",
      "Df Residuals:                     340   BIC:                             5069.\n",
      "Df Model:                           1                                         \n",
      "Covariance Type:            nonrobust                                         \n",
      "=====================================================================================\n",
      "                        coef    std err          t      P>|t|      [0.025      0.975]\n",
      "-------------------------------------------------------------------------------------\n",
      "Intercept         -5780.8314    305.815    -18.903      0.000   -6382.358   -5179.305\n",
      "flipper_length_mm    49.6856      1.518     32.722      0.000      46.699      52.672\n",
      "==============================================================================\n",
      "Omnibus:                        5.634   Durbin-Watson:                   2.176\n",
      "Prob(Omnibus):                  0.060   Jarque-Bera (JB):                5.585\n",
      "Skew:                           0.313   Prob(JB):                       0.0613\n",
      "Kurtosis:                       3.019   Cond. No.                     2.89e+03\n",
      "==============================================================================\n",
      "\n",
      "Notes:\n",
      "[1] Standard Errors assume that the covariance matrix of the errors is correctly specified.\n",
      "[2] The condition number is large, 2.89e+03. This might indicate that there are\n",
      "strong multicollinearity or other numerical problems.\n"
     ]
    }
   ],
   "source": [
    "# 문제 3번에서 만든 모델의 summary를 다시 출력하여 p-value를 확인합니다.\n",
    "print(model.summary())\n",
    "\n",
    "# 아래 주석에 직접 해석을 작성해보세요.\n",
    "\n",
    "# 1. flipper_length_mm 계수의 p-value (`P>|t|` 값) 찾기\n",
    "# p-value: 0.000 (즉, < 0.001)\n",
    "\n",
    "# 2. 가설 검정과 결과 해석\n",
    "# 귀무가설(H0): 기울기 b = 0 (날개 길이는 몸무게에 영향을 주지 않는다)\n",
    "# 대립가설(H1): 기울기 b ≠ 0 (날개 길이는 몸무게에 영향을 준다)\n",
    "# p-value가 0.05보다 작은가?: 예 (0.000 < 0.05)\n",
    "# 해석: 귀무가설이 맞다면 이런 결과가 우연히 나타날 확률은 0.1% 이하에 불과하다.\n",
    "# 결론: 펭귄의 날개 길이가 몸무게에 미치는 영향은 통계적으로 매우 유의미하다."
   ]
  },
  {
   "cell_type": "markdown",
   "id": "db41238b",
   "metadata": {},
   "source": [
    "### 🤔 생각해 볼 문제:\n",
    "\n",
    "이 분석 결과를 통계에 대해 전혀 모르는 친구에게 설명해야 합니다. \"p-value가 0.000이라서 귀무가설을 기각했다\"라는 어려운 말 대신, \"날개 길이가 몸무게와 정말 관계가 있다\"라는 결론을 어떻게 더 쉽고 직관적으로 뒷받침하여 설명할 수 있을까요?\n"
   ]
  }
 ],
 "metadata": {
  "kernelspec": {
   "display_name": "Python 3",
   "language": "python",
   "name": "python3"
  },
  "language_info": {
   "codemirror_mode": {
    "name": "ipython",
    "version": 3
   },
   "file_extension": ".py",
   "mimetype": "text/x-python",
   "name": "python",
   "nbconvert_exporter": "python",
   "pygments_lexer": "ipython3",
   "version": "3.13.5"
  }
 },
 "nbformat": 4,
 "nbformat_minor": 5
}
