{
 "cells": [
  {
   "cell_type": "code",
   "execution_count": null,
   "id": "87dd4d1a",
   "metadata": {},
   "outputs": [],
   "source": []
  }
 ],
 "metadata": {
  "language_info": {
   "name": "python"
  }
 },
 "nbformat": 4,
 "nbformat_minor": 5
}
