{
 "cells": [
  {
   "cell_type": "markdown",
   "id": "879feb32",
   "metadata": {},
   "source": [
    "# 문제 1. 기초통계량 계산\n",
    "**📘 문제**\n",
    "- 온라인 쇼핑몰 고객 1,000명을 대상으로 1점부터 10점 사이의 만족도 조사를 실시했습니다.\n",
    "이 데이터를 바탕으로 고객 만족도의 **중심 경향성**과 **분포 특성**을 파악해 봅시다.\n",
    "\n",
    "<br>\n",
    "\n",
    "**📌 아래를 수행해 보세요:**\n",
    "\n",
    "  - 평균, 중앙값, 최빈값, 표준편차를 계산해 봅시다.\n",
    "  - 히스토그램을 그리고 평균과 중앙값 선으로 표시해 봅시다.\n",
    "  - 데이터의 분포 형태를 해석한 후, 마케팅 전략 수립에 어떻게 활용할 수 있을지 생각해 봅시다."
   ]
  },
  {
   "cell_type": "code",
   "execution_count": 37,
   "id": "2540b4e9",
   "metadata": {},
   "outputs": [],
   "source": [
    "# 파이썬 라이브러리 및 모듈 가져오기 & 한글 폰트 설정하기\n",
    "import numpy as np\n",
    "import pandas as pd\n",
    "import seaborn as sns\n",
    "import matplotlib.pyplot as plt\n",
    "import matplotlib.font_manager as fm\n",
    "import warnings\n",
    "warnings.filterwarnings('ignore')\n",
    "\n",
    "# MacOS에서는 기본 한글 폰트로 AppleGothic 사용\n",
    "plt.rcParams['font.family'] = 'AppleGothic'\n",
    "plt.rcParams['axes.unicode_minus'] = False  # 마이너스 깨짐 방지"
   ]
  },
  {
   "cell_type": "code",
   "execution_count": 38,
   "id": "e76db2a2",
   "metadata": {},
   "outputs": [],
   "source": [
    "# 데이터 생성\n",
    "np.random.seed(2025)\n",
    "satisfaction = np.random.normal(7.5, 1.5, 1000)\n",
    "satisfaction = np.clip(satisfaction, 1, 10)\n",
    "df1 = pd.DataFrame({'score': satisfaction})"
   ]
  },
  {
   "cell_type": "code",
   "execution_count": 46,
   "id": "dddc18be",
   "metadata": {},
   "outputs": [
    {
     "data": {
      "text/html": [
       "<div>\n",
       "<style scoped>\n",
       "    .dataframe tbody tr th:only-of-type {\n",
       "        vertical-align: middle;\n",
       "    }\n",
       "\n",
       "    .dataframe tbody tr th {\n",
       "        vertical-align: top;\n",
       "    }\n",
       "\n",
       "    .dataframe thead th {\n",
       "        text-align: right;\n",
       "    }\n",
       "</style>\n",
       "<table border=\"1\" class=\"dataframe\">\n",
       "  <thead>\n",
       "    <tr style=\"text-align: right;\">\n",
       "      <th></th>\n",
       "      <th>score</th>\n",
       "    </tr>\n",
       "  </thead>\n",
       "  <tbody>\n",
       "    <tr>\n",
       "      <th>0</th>\n",
       "      <td>7.361415</td>\n",
       "    </tr>\n",
       "    <tr>\n",
       "      <th>1</th>\n",
       "      <td>8.601428</td>\n",
       "    </tr>\n",
       "    <tr>\n",
       "      <th>2</th>\n",
       "      <td>5.341677</td>\n",
       "    </tr>\n",
       "    <tr>\n",
       "      <th>3</th>\n",
       "      <td>6.504867</td>\n",
       "    </tr>\n",
       "    <tr>\n",
       "      <th>4</th>\n",
       "      <td>7.348908</td>\n",
       "    </tr>\n",
       "    <tr>\n",
       "      <th>...</th>\n",
       "      <td>...</td>\n",
       "    </tr>\n",
       "    <tr>\n",
       "      <th>995</th>\n",
       "      <td>5.588019</td>\n",
       "    </tr>\n",
       "    <tr>\n",
       "      <th>996</th>\n",
       "      <td>7.039904</td>\n",
       "    </tr>\n",
       "    <tr>\n",
       "      <th>997</th>\n",
       "      <td>6.907670</td>\n",
       "    </tr>\n",
       "    <tr>\n",
       "      <th>998</th>\n",
       "      <td>5.075884</td>\n",
       "    </tr>\n",
       "    <tr>\n",
       "      <th>999</th>\n",
       "      <td>8.446012</td>\n",
       "    </tr>\n",
       "  </tbody>\n",
       "</table>\n",
       "<p>1000 rows × 1 columns</p>\n",
       "</div>"
      ],
      "text/plain": [
       "        score\n",
       "0    7.361415\n",
       "1    8.601428\n",
       "2    5.341677\n",
       "3    6.504867\n",
       "4    7.348908\n",
       "..        ...\n",
       "995  5.588019\n",
       "996  7.039904\n",
       "997  6.907670\n",
       "998  5.075884\n",
       "999  8.446012\n",
       "\n",
       "[1000 rows x 1 columns]"
      ]
     },
     "execution_count": 46,
     "metadata": {},
     "output_type": "execute_result"
    }
   ],
   "source": [
    "df1"
   ]
  },
  {
   "cell_type": "code",
   "execution_count": 40,
   "id": "10d4c1a2",
   "metadata": {},
   "outputs": [
    {
     "name": "stdout",
     "output_type": "stream",
     "text": [
      "평균: 7.43\n",
      "중앙값: 7.42\n",
      "최빈값: 10.00\n",
      "표준편차: 1.39\n"
     ]
    }
   ],
   "source": [
    "# 기초 통계량 계산\n",
    "mean = df1['score'].mean()\n",
    "median = df1['score'].median()\n",
    "mode = (df1['score']).mode()[0]\n",
    "std = df1['score'].std()\n",
    "\n",
    "print(f\"평균: {mean:.2f}\")\n",
    "print(f\"중앙값: {median:.2f}\")\n",
    "print(f\"최빈값: {mode:.2f}\")\n",
    "print(f\"표준편차: {std:.2f}\")"
   ]
  },
  {
   "cell_type": "code",
   "execution_count": 41,
   "id": "bd63393e",
   "metadata": {},
   "outputs": [
    {
     "data": {
      "image/png": "[encoded data removed]",
      "text/plain": [
       "<Figure size 800x600 with 1 Axes>"
      ]
     },
     "metadata": {},
     "output_type": "display_data"
    }
   ],
   "source": [
    "# 히스토그램 + 평균/중앙값 선 표시\n",
    "plt.figure(figsize=(8,6))\n",
    "sns.histplot(df1['score'], bins=20, kde=True, color='skyblue')\n",
    "\n",
    "# 평균, 중앙값 선 그리기\n",
    "plt.axvline(mean, color = 'red', linestyle=(0,(5,5)), linewidth=2, alpha=0.7, label=f'평균: {mean:.2f}')\n",
    "plt.axvline(median, color = 'green', linestyle=(0,(1,1)), linewidth=2, alpha=0.7, label=f'중앙값: {median:.2f}')\n",
    "\n",
    "plt.title(\"고객 만족도 분포\")\n",
    "plt.xlabel(\"만족도 점수\")\n",
    "plt.ylabel(\"빈도수\")\n",
    "plt.legend()\n",
    "plt.show()"
   ]
  },
  {
   "cell_type": "code",
   "execution_count": 42,
   "id": "e5f263c3",
   "metadata": {},
   "outputs": [
    {
     "name": "stdout",
     "output_type": "stream",
     "text": [
      "7점 이상 고객 비율: 62.20%\n"
     ]
    }
   ],
   "source": [
    "# 7점 이상 비율 확인\n",
    "high_score_ratio = (df1['score'] >= 7).mean() * 100\n",
    "print(f\"7점 이상 고객 비율: {high_score_ratio:.2f}%\")\n"
   ]
  },
  {
   "cell_type": "markdown",
   "id": "177e4a1e",
   "metadata": {},
   "source": [
    "**🧠 데이터를 어떻게 읽을까요?**\n",
    "\n",
    "1. 평균과 중앙값 사이의 차이는 어느 정도인가요?  \n",
    "-> 평균: 7.43, 중앙값: 7.42 → 차이: 0.01  \n",
    "\n",
    "- 두 값이 비슷하다면, 이 데이터는 어떤 분포 형태일 가능성이 있을까요? (예: 대칭형, 정규분포 등)  \n",
    "-> 두 값이 매우 비슷하므로, 데이터는 대칭형(정규분포에 가까움)으로 볼 수 있다.  \n",
    "\n",
    "- 두 값의 차이가 크다면, 그 이유는 무엇일까요?  \n",
    "-> 이상값(Outlier)이나 특정 구간에 몰린 값들 때문에 평균이 끌려갔을 수 있다.  \n",
    "\n",
    "- 어떤 값들이 평균을 끌어내리거나 끌어올렸을까요?  \n",
    "-> 극단적으로 낮은 점수(1~3점)나 극단적으로 높은 점수(9~10점)가 평균을 변화시킨다.  \n",
    "\n",
    "---\n",
    "\n",
    "2. 최빈값이 평균보다 낮은 경우, 낮은 점수를 준 고객이 많다는 뜻일 수 있습니다. 이 경우 데이터 분포는 어느 쪽으로 치우쳐 있을까요?  \n",
    "-> 왼쪽  \n",
    "\n",
    "- 반대로 최빈값이 평균보다 높은 경우에는 어떤 해석이 가능할까요? 이럴 때 분포가 어떻게 달라질 수 있을까요?  \n",
    "-> 오른쪽으로 치우쳐 있음. 높은 점수를 준 고객이 많다.  \n",
    "\n",
    "---\n",
    "\n",
    "3. 이 데이터를 바탕으로 고객 만족도를 높이기 위한 마케팅 전략에는 어떤 것들이 있을까요?  \n",
    "->  \n",
    "- 긍정적 홍보: 약 62%의 고객이 7점 이상을 줬다는 점을 마케팅 메시지로 활용  \n",
    "- 불만 고객 관리: 6점 이하 고객을 분석해 불만 요인을 개선  \n",
    "- 충성 고객 강화: 최빈값이 8점인 고객층을 VIP 집단으로 정의하고 멤버십, 추가 혜택 제공  \n",
    "- 일관성 유지: 표준편차가 약 1.39로 크지 않아, 대부분의 점수가 6~9점에 집중 → 현재 수준의 서비스 품질을 꾸준히 유지하는 게 중요  \n"
   ]
  },
  {
   "cell_type": "markdown",
   "id": "bf70caf4",
   "metadata": {},
   "source": [
    "# 문제 2. 평균 vs 중앙값 비교\n",
    "\n",
    "**📘 문제**\n",
    "- A지역과 B지역의 연봉 데이터를 비교해 봅시다.\n",
    "- B 지역에는 일부 고소득자가 포함되어 있습니다.\n",
    "\n",
    "<br>\n",
    "\n",
    "**📌 아래를 수행해 보세요:**\n",
    "- 각 지역의 평균 연봉과 중앙값을 구해 봅시다.\n",
    "- 지역별 박스플롯(Boxplot)을 그려서 분포의 차이를 시각적으로 확인해 봅시다."
   ]
  },
  {
   "cell_type": "code",
   "execution_count": 43,
   "id": "37779c36",
   "metadata": {},
   "outputs": [],
   "source": [
    "# 데이터 생성\n",
    "np.random.seed(2025)\n",
    "\n",
    "# A 지역: 평균 300, 표준편차 50\n",
    "region_a = np.random.normal(300, 50, 100)\n",
    "\n",
    "# B 지역 : 일반 소득자 + 극단적인 고소득자 포함\n",
    "region_b = np.concatenate([\n",
    "    np.random.normal(280, 40, 95),      # 일반 소득자 95명\n",
    "    np.random.normal(1500, 200, 5)      # 고소득자 5명\n",
    "])\n",
    "\n",
    "df2 = pd.DataFrame({\n",
    "    'region': ['A'] * 100 + ['B'] * 100,\n",
    "    'salary': np.concatenate([region_a, region_b])\n",
    "})"
   ]
  },
  {
   "cell_type": "markdown",
   "id": "316d8380",
   "metadata": {},
   "source": [
    "pd.DataFrame({...}) : 판다스 데이터프레임 생성\n",
    "\n",
    "'region': ['A'] * 100 + ['B'] * 100\n",
    "\n",
    "['A'] * 100 → A가 100번 반복된 리스트\n",
    "\n",
    "['B'] * 100 → B가 100번 반복된 리스트\n",
    "\n",
    "합치면 총 200개 (앞 100개는 A, 뒤 100개는 B)\n",
    "\n",
    "즉, 각 행이 어느 지역 데이터인지 표시\n",
    "\n",
    "'salary': np.concatenate([region_a, region_b])\n",
    "\n",
    "위에서 만든 A지역과 B지역 연봉 데이터를 합침\n",
    "\n",
    "총 200개의 연봉 숫자가 들어감"
   ]
  },
  {
   "cell_type": "code",
   "execution_count": 45,
   "id": "02cf4a42",
   "metadata": {},
   "outputs": [
    {
     "data": {
      "text/html": [
       "<div>\n",
       "<style scoped>\n",
       "    .dataframe tbody tr th:only-of-type {\n",
       "        vertical-align: middle;\n",
       "    }\n",
       "\n",
       "    .dataframe tbody tr th {\n",
       "        vertical-align: top;\n",
       "    }\n",
       "\n",
       "    .dataframe thead th {\n",
       "        text-align: right;\n",
       "    }\n",
       "</style>\n",
       "<table border=\"1\" class=\"dataframe\">\n",
       "  <thead>\n",
       "    <tr style=\"text-align: right;\">\n",
       "      <th></th>\n",
       "      <th>region</th>\n",
       "      <th>salary</th>\n",
       "    </tr>\n",
       "  </thead>\n",
       "  <tbody>\n",
       "    <tr>\n",
       "      <th>0</th>\n",
       "      <td>A</td>\n",
       "      <td>295.380491</td>\n",
       "    </tr>\n",
       "    <tr>\n",
       "      <th>1</th>\n",
       "      <td>A</td>\n",
       "      <td>336.714279</td>\n",
       "    </tr>\n",
       "    <tr>\n",
       "      <th>2</th>\n",
       "      <td>A</td>\n",
       "      <td>228.055899</td>\n",
       "    </tr>\n",
       "    <tr>\n",
       "      <th>3</th>\n",
       "      <td>A</td>\n",
       "      <td>266.828899</td>\n",
       "    </tr>\n",
       "    <tr>\n",
       "      <th>4</th>\n",
       "      <td>A</td>\n",
       "      <td>294.963596</td>\n",
       "    </tr>\n",
       "    <tr>\n",
       "      <th>...</th>\n",
       "      <td>...</td>\n",
       "      <td>...</td>\n",
       "    </tr>\n",
       "    <tr>\n",
       "      <th>195</th>\n",
       "      <td>B</td>\n",
       "      <td>1668.477201</td>\n",
       "    </tr>\n",
       "    <tr>\n",
       "      <th>196</th>\n",
       "      <td>B</td>\n",
       "      <td>1581.119661</td>\n",
       "    </tr>\n",
       "    <tr>\n",
       "      <th>197</th>\n",
       "      <td>B</td>\n",
       "      <td>1637.123979</td>\n",
       "    </tr>\n",
       "    <tr>\n",
       "      <th>198</th>\n",
       "      <td>B</td>\n",
       "      <td>1709.906631</td>\n",
       "    </tr>\n",
       "    <tr>\n",
       "      <th>199</th>\n",
       "      <td>B</td>\n",
       "      <td>1354.009664</td>\n",
       "    </tr>\n",
       "  </tbody>\n",
       "</table>\n",
       "<p>200 rows × 2 columns</p>\n",
       "</div>"
      ],
      "text/plain": [
       "    region       salary\n",
       "0        A   295.380491\n",
       "1        A   336.714279\n",
       "2        A   228.055899\n",
       "3        A   266.828899\n",
       "4        A   294.963596\n",
       "..     ...          ...\n",
       "195      B  1668.477201\n",
       "196      B  1581.119661\n",
       "197      B  1637.123979\n",
       "198      B  1709.906631\n",
       "199      B  1354.009664\n",
       "\n",
       "[200 rows x 2 columns]"
      ]
     },
     "execution_count": 45,
     "metadata": {},
     "output_type": "execute_result"
    }
   ],
   "source": [
    "df2"
   ]
  },
  {
   "cell_type": "code",
   "execution_count": 48,
   "id": "aadd87c0",
   "metadata": {},
   "outputs": [
    {
     "data": {
      "text/html": [
       "<div>\n",
       "<style scoped>\n",
       "    .dataframe tbody tr th:only-of-type {\n",
       "        vertical-align: middle;\n",
       "    }\n",
       "\n",
       "    .dataframe tbody tr th {\n",
       "        vertical-align: top;\n",
       "    }\n",
       "\n",
       "    .dataframe thead th {\n",
       "        text-align: right;\n",
       "    }\n",
       "</style>\n",
       "<table border=\"1\" class=\"dataframe\">\n",
       "  <thead>\n",
       "    <tr style=\"text-align: right;\">\n",
       "      <th></th>\n",
       "      <th>mean</th>\n",
       "      <th>median</th>\n",
       "    </tr>\n",
       "    <tr>\n",
       "      <th>region</th>\n",
       "      <th></th>\n",
       "      <th></th>\n",
       "    </tr>\n",
       "  </thead>\n",
       "  <tbody>\n",
       "    <tr>\n",
       "      <th>A</th>\n",
       "      <td>292.506637</td>\n",
       "      <td>294.324483</td>\n",
       "    </tr>\n",
       "    <tr>\n",
       "      <th>B</th>\n",
       "      <td>347.594909</td>\n",
       "      <td>287.347488</td>\n",
       "    </tr>\n",
       "  </tbody>\n",
       "</table>\n",
       "</div>"
      ],
      "text/plain": [
       "              mean      median\n",
       "region                        \n",
       "A       292.506637  294.324483\n",
       "B       347.594909  287.347488"
      ]
     },
     "execution_count": 48,
     "metadata": {},
     "output_type": "execute_result"
    }
   ],
   "source": [
    "# 각 지역의 평균 연봉과 중앙값 구하기\n",
    "group_stats = df2.groupby('region')['salary'].agg(['mean', 'median'])\n",
    "group_stats"
   ]
  },
  {
   "cell_type": "code",
   "execution_count": 50,
   "id": "9ac3a570",
   "metadata": {},
   "outputs": [
    {
     "data": {
      "image/png": "[encoded data removed]",
      "text/plain": [
       "<Figure size 700x600 with 1 Axes>"
      ]
     },
     "metadata": {},
     "output_type": "display_data"
    }
   ],
   "source": [
    "# 박스플롯 그리기\n",
    "plt.figure(figsize=(7,6))\n",
    "sns.boxplot(x='region', y='salary', data=df2)\n",
    "\n",
    "plt.title(\"A지역 vs B지역 연봉 분포\")\n",
    "plt.xlabel(\"지역\")\n",
    "plt.ylabel(\"연봉\")\n",
    "plt.show()"
   ]
  },
  {
   "cell_type": "markdown",
   "id": "fc8f9bfa",
   "metadata": {},
   "source": [
    "**🧠 데이터를 어떻게 읽을까요?**\n",
    "\n",
    "1. A 지역과 B 지역의 평균 연봉은 어떻게 다른가요?  \n",
    "   - 두 지역의 평균 차이가 의미하는 바는 무엇인가요?  \n",
    "   -> A 지역 평균: 292.51, B 지역 평균: 347.59 / B 지역의 평균 연봉이 더 높다.  \n",
    "   - 고소득자가 있는 지역의 평균은 어떤 영향을 받을까요?  \n",
    "   -> 평균값이 높아진다.  \n",
    "\n",
    "2. 중앙값은 어떠한가요?  \n",
    "   - 평균과 비교했을 때, 중앙값이 더 낮거나 높다면 어떤 해석이 가능할까요?  \n",
    "   -> A 지역 중앙값: 294.32, B 지역 중앙값: 287.35 / B 지역은 평균은 높지만 중앙값은 낮으므로, 소수의 고소득자가 평균을 끌어올린 것으로 해석할 수 있다.  \n",
    "\n",
    "3. 극단값(고소득자)의 영향은 어디에서 더 크게 나타날까요?  \n",
    "   - 평균과 중앙값 중 어떤 지표가 극단값에 더 민감한가요?  \n",
    "   -> 평균  \n",
    "\n",
    "4. 박스플롯을 통해 어떤 점을 관찰할 수 있나요?  \n",
    "   - 이상치(Outlier)는 어떻게 표시되나요?  \n",
    "   -> 박스 수염을 벗어난 동그라미로 표시된다.  \n",
    "   - 두 지역의 분포 폭(사분위 범위)은 어떻게 다른가요?  \n",
    "   -> 큰 차이는 없으나 B 지역의 분포 폭이 약간 더 작다.  \n",
    "\n",
    "5. 평균만 보고 판단했을 때 생길 수 있는 오해는 무엇인가요?  \n",
    "   - 어떤 경우에는 중앙값이 더 유용한 지표일 수 있을까요?  \n",
    "   -> 평균만 보면 B 지역의 연봉이 더 높다고 생각할 수 있지만, 중앙값을 보면 오히려 A 지역이 더 높다는 걸 알 수 있다.  \n"
   ]
  },
  {
   "cell_type": "markdown",
   "id": "869b50ab",
   "metadata": {},
   "source": [
    "# 문제 3. 이상값과 분산 비교\n",
    "**📘 문제**\n",
    "- 1반과 2반의 시험 점수 분포를 비교해 봅시다.\n",
    "- 2반에는 극단적인 이상값(예: 부정행위로 0점)이 포함되어 있습니다.\n",
    "\n",
    "<br>\n",
    "\n",
    "**📌 아래를 수행해 보세요:**\n",
    "1. 각 반의 평균, 표준편차, 최소/최대값을 계산해 봅시다.\n",
    "2. 박스플롯을 사용하여 두 반의 분포 차이를 시각적으로 비교해 봅시다.\n",
    "3. 이상값이 통계 지표에 어떤 영향을 주는지 생각해 봅시다.\n"
   ]
  },
  {
   "cell_type": "code",
   "execution_count": 52,
   "id": "ad3bc18a",
   "metadata": {},
   "outputs": [],
   "source": [
    "# 데이터 생성\n",
    "np.random.seed(2025)    # 재현 가능성을 위해 시드 고정\n",
    "\n",
    "# 1반: 평균 75, 표준편차 8\n",
    "class1 = np.random.normal(75, 8, 30)\n",
    "\n",
    "# 2반: 일반 학생 + 이상값(0점, 130점)\n",
    "class2 = np.concatenate([\n",
    "    np.random.normal(75, 15, 28),   # 일반 학생\n",
    "    [0, 130]                        # 극단적인 이상값\n",
    "])\n",
    "\n",
    "df3 = pd.DataFrame({\n",
    "    'class': ['1반'] * 30 + ['2반'] * 30,\n",
    "    'score': np.concatenate([class1, class2])\n",
    "})"
   ]
  },
  {
   "cell_type": "code",
   "execution_count": 54,
   "id": "263ba59b",
   "metadata": {},
   "outputs": [
    {
     "data": {
      "text/html": [
       "<div>\n",
       "<style scoped>\n",
       "    .dataframe tbody tr th:only-of-type {\n",
       "        vertical-align: middle;\n",
       "    }\n",
       "\n",
       "    .dataframe tbody tr th {\n",
       "        vertical-align: top;\n",
       "    }\n",
       "\n",
       "    .dataframe thead th {\n",
       "        text-align: right;\n",
       "    }\n",
       "</style>\n",
       "<table border=\"1\" class=\"dataframe\">\n",
       "  <thead>\n",
       "    <tr style=\"text-align: right;\">\n",
       "      <th></th>\n",
       "      <th>class</th>\n",
       "      <th>score</th>\n",
       "    </tr>\n",
       "  </thead>\n",
       "  <tbody>\n",
       "    <tr>\n",
       "      <th>0</th>\n",
       "      <td>1반</td>\n",
       "      <td>74.260879</td>\n",
       "    </tr>\n",
       "    <tr>\n",
       "      <th>1</th>\n",
       "      <td>1반</td>\n",
       "      <td>80.874285</td>\n",
       "    </tr>\n",
       "    <tr>\n",
       "      <th>2</th>\n",
       "      <td>1반</td>\n",
       "      <td>63.488944</td>\n",
       "    </tr>\n",
       "    <tr>\n",
       "      <th>3</th>\n",
       "      <td>1반</td>\n",
       "      <td>69.692624</td>\n",
       "    </tr>\n",
       "    <tr>\n",
       "      <th>4</th>\n",
       "      <td>1반</td>\n",
       "      <td>74.194175</td>\n",
       "    </tr>\n",
       "  </tbody>\n",
       "</table>\n",
       "</div>"
      ],
      "text/plain": [
       "  class      score\n",
       "0    1반  74.260879\n",
       "1    1반  80.874285\n",
       "2    1반  63.488944\n",
       "3    1반  69.692624\n",
       "4    1반  74.194175"
      ]
     },
     "execution_count": 54,
     "metadata": {},
     "output_type": "execute_result"
    }
   ],
   "source": [
    "df3.head()"
   ]
  },
  {
   "cell_type": "code",
   "execution_count": 55,
   "id": "88915b3a",
   "metadata": {},
   "outputs": [
    {
     "data": {
      "text/html": [
       "<div>\n",
       "<style scoped>\n",
       "    .dataframe tbody tr th:only-of-type {\n",
       "        vertical-align: middle;\n",
       "    }\n",
       "\n",
       "    .dataframe tbody tr th {\n",
       "        vertical-align: top;\n",
       "    }\n",
       "\n",
       "    .dataframe thead th {\n",
       "        text-align: right;\n",
       "    }\n",
       "</style>\n",
       "<table border=\"1\" class=\"dataframe\">\n",
       "  <thead>\n",
       "    <tr style=\"text-align: right;\">\n",
       "      <th></th>\n",
       "      <th>mean</th>\n",
       "      <th>std</th>\n",
       "      <th>min</th>\n",
       "      <th>max</th>\n",
       "    </tr>\n",
       "    <tr>\n",
       "      <th>class</th>\n",
       "      <th></th>\n",
       "      <th></th>\n",
       "      <th></th>\n",
       "      <th></th>\n",
       "    </tr>\n",
       "  </thead>\n",
       "  <tbody>\n",
       "    <tr>\n",
       "      <th>1반</th>\n",
       "      <td>75.724316</td>\n",
       "      <td>7.062710</td>\n",
       "      <td>60.685416</td>\n",
       "      <td>92.175893</td>\n",
       "    </tr>\n",
       "    <tr>\n",
       "      <th>2반</th>\n",
       "      <td>73.728848</td>\n",
       "      <td>22.340818</td>\n",
       "      <td>0.000000</td>\n",
       "      <td>130.000000</td>\n",
       "    </tr>\n",
       "  </tbody>\n",
       "</table>\n",
       "</div>"
      ],
      "text/plain": [
       "            mean        std        min         max\n",
       "class                                             \n",
       "1반     75.724316   7.062710  60.685416   92.175893\n",
       "2반     73.728848  22.340818   0.000000  130.000000"
      ]
     },
     "execution_count": 55,
     "metadata": {},
     "output_type": "execute_result"
    }
   ],
   "source": [
    "# 각 반의 평균, 표준편차, 최소/최대값을 계산해 봅시다.\n",
    "group_stats = df3.groupby('class')['score'].agg(['mean', 'std', 'min', 'max'])\n",
    "group_stats"
   ]
  },
  {
   "cell_type": "code",
   "execution_count": 56,
   "id": "87eb32b6",
   "metadata": {},
   "outputs": [
    {
     "data": {
      "image/png": "[encoded data removed]",
      "text/plain": [
       "<Figure size 700x600 with 1 Axes>"
      ]
     },
     "metadata": {},
     "output_type": "display_data"
    }
   ],
   "source": [
    "# 박스플롯을 사용하여 두 반의 분포 차이를 시각적으로 비교해 봅시다.\n",
    "plt.figure(figsize=(7,6))\n",
    "sns.boxplot(x='class', y='score', data=df3)\n",
    "\n",
    "plt.title(\"1반 vs 2반 시험 점수 분포\")\n",
    "plt.xlabel(\"반\")\n",
    "plt.ylabel(\"점수\")\n",
    "plt.show()"
   ]
  },
  {
   "cell_type": "markdown",
   "id": "189c554b",
   "metadata": {},
   "source": [
    "**🧠 데이터를 어떻게 읽을까요?**\n",
    "\n",
    "1. 어떤 반의 점수 분산이 더 크고, 왜 그럴까요?  \n",
    "-> 2반의 점수 분산이 더 크다. 표준편차가 크고, 0점·130점 같은 극단적인 이상값이 포함되어 있기 때문이다.  \n",
    "- 점수 분포의 퍼짐 정도는 어떤 지표로 확인할 수 있을까요?  \n",
    "-> 표준편차, 최소/최대값 같은 지표로 확인할 수 있다.  \n",
    "- 이상값이 포함되면 표준편차나 범위는 어떻게 달라질까요?  \n",
    "-> 표준편차와 범위가 커진다.  \n",
    "\n",
    "2. 이상값이 있는 반의 평균은 어떤 영향을 받았나요?  \n",
    "- 극단적으로 낮거나 높은 점수가 평균을 끌어내리거나 끌어올렸나요?  \n",
    "-> 2반의 평균은 1반과 큰 차이는 없지만, 이는 0점과 130점이 서로 상쇄된 결과다. 일반적으로는 이상값이 평균을 왜곡시켜 끌어내리거나 끌어올린다.  \n",
    "- 평균과 중앙값의 차이가 의미하는 바는 무엇인가요?  \n",
    "-> 평균은 이상값에 민감하게 반응하지만, 중앙값은 데이터의 중간 위치를 보여주기 때문에 이상값의 영향을 덜 받는다.  \n",
    "\n",
    "3. 박스플롯을 통해 이상값은 어떻게 드러나나요?  \n",
    "- 이상값(outlier)은 박스플롯에서 어떤 형태로 나타나나요?  \n",
    "-> 박스 수염을 벗어난 동그라미로 표시된다.  \n",
    "- 두 반의 박스(사분위 범위)는 어떻게 다르게 보이나요?  \n",
    "-> 2반의 박스(사분위 범위)가 1반보다 훨씬 크다. 이는 점수 분포가 더 넓게 퍼져 있다는 것을 의미한다.  \n",
    "\n",
    "4. 평균만 보고 평가했을 때 생길 수 있는 오해는 무엇인가요?  \n",
    "- 예를 들어, 교사가 평균 점수만 보고 2반이 부족하다고 판단한다면?  \n",
    "-> 극소수의 고득점자나 저득점자의 존재를 알 수 없고, 분포의 실제 모양을 파악할 수 없다.  \n",
    "- 중앙값이나 표준편차 같은 지표와 함께 분석하는 것은 왜 중요할까요?  \n",
    "-> 평균만으로는 데이터의 분포와 이상값 영향을 알 수 없기 때문에, 중앙값·표준편차 같은 보조 지표를 함께 봐야 한다.  \n",
    "\n"
   ]
  },
  {
   "cell_type": "markdown",
   "id": "805b9eb4",
   "metadata": {},
   "source": []
  }
 ],
 "metadata": {
  "kernelspec": {
   "display_name": "Python 3",
   "language": "python",
   "name": "python3"
  },
  "language_info": {
   "codemirror_mode": {
    "name": "ipython",
    "version": 3
   },
   "file_extension": ".py",
   "mimetype": "text/x-python",
   "name": "python",
   "nbconvert_exporter": "python",
   "pygments_lexer": "ipython3",
   "version": "3.13.5"
  }
 },
 "nbformat": 4,
 "nbformat_minor": 5
}
