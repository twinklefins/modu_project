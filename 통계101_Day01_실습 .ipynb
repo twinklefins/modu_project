{
 "cells": [
  {
   "cell_type": "markdown",
   "id": "879feb32",
   "metadata": {},
   "source": [
    "# 문제 1. 기초통계량 계산\n",
    "**📘 문제**\n",
    "- 온라인 쇼핑몰 고객 1,000명을 대상으로 1점부터 10점 사이의 만족도 조사를 실시했습니다.\n",
    "이 데이터를 바탕으로 고객 만족도의 **중심 경향성**과 **분포 특성**을 파악해 봅시다.\n",
    "\n",
    "<br>\n",
    "\n",
    "**📌 아래를 수행해 보세요:**\n",
    "\n",
    "  - 평균, 중앙값, 최빈값, 표준편차를 계산해 봅시다.\n",
    "  - 히스토그램을 그리고 평균과 중앙값 선으로 표시해 봅시다.\n",
    "  - 데이터의 분포 형태를 해석한 후, 마케팅 전략 수립에 어떻게 활용할 수 있을지 생각해 봅시다."
   ]
  },
  {
   "cell_type": "code",
   "execution_count": 3,
   "id": "2540b4e9",
   "metadata": {},
   "outputs": [],
   "source": [
    "# 파이썬 라이브러리 및 모듈 가져오기 & 한글 폰트 설정하기\n",
    "import numpy as np\n",
    "import pandas as pd\n",
    "import seaborn as sns\n",
    "import matplotlib.pyplot as plt\n",
    "import matplotlib.font_manager as fm\n",
    "import warnings\n",
    "warnings.filterwarnings('ignore')\n",
    "\n",
    "# MacOS에서는 기본 한글 폰트로 AppleGothic 사용\n",
    "plt.rcParams['font.family'] = 'AppleGothic'\n",
    "plt.rcParams['axes.unicode_minus'] = False  # 마이너스 깨짐 방지"
   ]
  },
  {
   "cell_type": "code",
   "execution_count": 4,
   "id": "e76db2a2",
   "metadata": {},
   "outputs": [],
   "source": [
    "# 데이터 생성\n",
    "np.random.seed(2025)\n",
    "satisfaction = np.random.normal(7.5, 1.5, 1000)\n",
    "satisfaction = np.clip(satisfaction, 1, 10)\n",
    "df1 = pd.DataFrame({'score': satisfaction})"
   ]
  },
  {
   "cell_type": "code",
   "execution_count": 5,
   "id": "dddc18be",
   "metadata": {},
   "outputs": [
    {
     "data": {
      "text/html": [
       "<div>\n",
       "<style scoped>\n",
       "    .dataframe tbody tr th:only-of-type {\n",
       "        vertical-align: middle;\n",
       "    }\n",
       "\n",
       "    .dataframe tbody tr th {\n",
       "        vertical-align: top;\n",
       "    }\n",
       "\n",
       "    .dataframe thead th {\n",
       "        text-align: right;\n",
       "    }\n",
       "</style>\n",
       "<table border=\"1\" class=\"dataframe\">\n",
       "  <thead>\n",
       "    <tr style=\"text-align: right;\">\n",
       "      <th></th>\n",
       "      <th>score</th>\n",
       "    </tr>\n",
       "  </thead>\n",
       "  <tbody>\n",
       "    <tr>\n",
       "      <th>0</th>\n",
       "      <td>7.361415</td>\n",
       "    </tr>\n",
       "    <tr>\n",
       "      <th>1</th>\n",
       "      <td>8.601428</td>\n",
       "    </tr>\n",
       "    <tr>\n",
       "      <th>2</th>\n",
       "      <td>5.341677</td>\n",
       "    </tr>\n",
       "    <tr>\n",
       "      <th>3</th>\n",
       "      <td>6.504867</td>\n",
       "    </tr>\n",
       "    <tr>\n",
       "      <th>4</th>\n",
       "      <td>7.348908</td>\n",
       "    </tr>\n",
       "    <tr>\n",
       "      <th>...</th>\n",
       "      <td>...</td>\n",
       "    </tr>\n",
       "    <tr>\n",
       "      <th>995</th>\n",
       "      <td>5.588019</td>\n",
       "    </tr>\n",
       "    <tr>\n",
       "      <th>996</th>\n",
       "      <td>7.039904</td>\n",
       "    </tr>\n",
       "    <tr>\n",
       "      <th>997</th>\n",
       "      <td>6.907670</td>\n",
       "    </tr>\n",
       "    <tr>\n",
       "      <th>998</th>\n",
       "      <td>5.075884</td>\n",
       "    </tr>\n",
       "    <tr>\n",
       "      <th>999</th>\n",
       "      <td>8.446012</td>\n",
       "    </tr>\n",
       "  </tbody>\n",
       "</table>\n",
       "<p>1000 rows × 1 columns</p>\n",
       "</div>"
      ],
      "text/plain": [
       "        score\n",
       "0    7.361415\n",
       "1    8.601428\n",
       "2    5.341677\n",
       "3    6.504867\n",
       "4    7.348908\n",
       "..        ...\n",
       "995  5.588019\n",
       "996  7.039904\n",
       "997  6.907670\n",
       "998  5.075884\n",
       "999  8.446012\n",
       "\n",
       "[1000 rows x 1 columns]"
      ]
     },
     "execution_count": 5,
     "metadata": {},
     "output_type": "execute_result"
    }
   ],
   "source": [
    "df1"
   ]
  },
  {
   "cell_type": "code",
   "execution_count": 6,
   "id": "10d4c1a2",
   "metadata": {},
   "outputs": [
    {
     "name": "stdout",
     "output_type": "stream",
     "text": [
      "평균: 7.43\n",
      "중앙값: 7.42\n",
      "최빈값: 10.00\n",
      "표준편차: 1.39\n"
     ]
    }
   ],
   "source": [
    "# 기초 통계량 계산\n",
    "mean = df1['score'].mean()\n",
    "median = df1['score'].median()\n",
    "mode = (df1['score']).mode()[0]\n",
    "std = df1['score'].std()\n",
    "\n",
    "print(f\"평균: {mean:.2f}\")\n",
    "print(f\"중앙값: {median:.2f}\")\n",
    "print(f\"최빈값: {mode:.2f}\")\n",
    "print(f\"표준편차: {std:.2f}\")"
   ]
  },
  {
   "cell_type": "code",
   "execution_count": 7,
   "id": "bd63393e",
   "metadata": {},
   "outputs": [
    {
     "data": {
      "image/png": "[encoded data removed]",
      "text/plain": [
       "<Figure size 800x600 with 1 Axes>"
      ]
     },
     "metadata": {},
     "output_type": "display_data"
    }
   ],
   "source": [
    "# 히스토그램 + 평균/중앙값 선 표시\n",
    "plt.figure(figsize=(8,6))\n",
    "sns.histplot(df1['score'], bins=20, kde=True, color='skyblue')\n",
    "\n",
    "# 평균, 중앙값 선 그리기\n",
    "plt.axvline(mean, color = 'red', linestyle=(0,(5,5)), linewidth=2, alpha=0.7, label=f'평균: {mean:.2f}')\n",
    "plt.axvline(median, color = 'green', linestyle=(0,(1,1)), linewidth=2, alpha=0.7, label=f'중앙값: {median:.2f}')\n",
    "\n",
    "plt.title(\"고객 만족도 분포\")\n",
    "plt.xlabel(\"만족도 점수\")\n",
    "plt.ylabel(\"빈도수\")\n",
    "plt.legend()\n",
    "plt.show()"
   ]
  },
  {
   "cell_type": "code",
   "execution_count": 8,
   "id": "e5f263c3",
   "metadata": {},
   "outputs": [
    {
     "name": "stdout",
     "output_type": "stream",
     "text": [
      "7점 이상 고객 비율: 62.20%\n"
     ]
    }
   ],
   "source": [
    "# 7점 이상 비율 확인\n",
    "high_score_ratio = (df1['score'] >= 7).mean() * 100\n",
    "print(f\"7점 이상 고객 비율: {high_score_ratio:.2f}%\")\n"
   ]
  },
  {
   "cell_type": "markdown",
   "id": "177e4a1e",
   "metadata": {},
   "source": [
    "**🧠 데이터를 어떻게 읽을까요?**\n",
    "\n",
    "1. 평균과 중앙값 사이의 차이는 어느 정도인가요?  \n",
    "-> 평균: 7.43, 중앙값: 7.42 → 차이: 0.01  \n",
    "\n",
    "- 두 값이 비슷하다면, 이 데이터는 어떤 분포 형태일 가능성이 있을까요? (예: 대칭형, 정규분포 등)  \n",
    "-> 두 값이 매우 비슷하므로, 데이터는 대칭형(정규분포에 가까움)으로 볼 수 있다.  \n",
    "\n",
    "- 두 값의 차이가 크다면, 그 이유는 무엇일까요?  \n",
    "-> 이상값(Outlier)이나 특정 구간에 몰린 값들 때문에 평균이 끌려갔을 수 있다.  \n",
    "\n",
    "- 어떤 값들이 평균을 끌어내리거나 끌어올렸을까요?  \n",
    "-> 극단적으로 낮은 점수(1~3점)나 극단적으로 높은 점수(9~10점)가 평균을 변화시킨다.  \n",
    "\n",
    "---\n",
    "\n",
    "2. 최빈값이 평균보다 낮은 경우, 낮은 점수를 준 고객이 많다는 뜻일 수 있습니다. 이 경우 데이터 분포는 어느 쪽으로 치우쳐 있을까요?  \n",
    "-> 왼쪽  \n",
    "\n",
    "- 반대로 최빈값이 평균보다 높은 경우에는 어떤 해석이 가능할까요? 이럴 때 분포가 어떻게 달라질 수 있을까요?  \n",
    "-> 오른쪽으로 치우쳐 있음. 높은 점수를 준 고객이 많다.  \n",
    "\n",
    "---\n",
    "\n",
    "3. 이 데이터를 바탕으로 고객 만족도를 높이기 위한 마케팅 전략에는 어떤 것들이 있을까요?  \n",
    "->  \n",
    "- 긍정적 홍보: 약 62%의 고객이 7점 이상을 줬다는 점을 마케팅 메시지로 활용  \n",
    "- 불만 고객 관리: 6점 이하 고객을 분석해 불만 요인을 개선  \n",
    "- 충성 고객 강화: 최빈값이 8점인 고객층을 VIP 집단으로 정의하고 멤버십, 추가 혜택 제공  \n",
    "- 일관성 유지: 표준편차가 약 1.39로 크지 않아, 대부분의 점수가 6~9점에 집중 → 현재 수준의 서비스 품질을 꾸준히 유지하는 게 중요  \n"
   ]
  },
  {
   "cell_type": "markdown",
   "id": "bf70caf4",
   "metadata": {},
   "source": [
    "# 문제 2. 평균 vs 중앙값 비교\n",
    "\n",
    "**📘 문제**\n",
    "- A지역과 B지역의 연봉 데이터를 비교해 봅시다.\n",
    "- B 지역에는 일부 고소득자가 포함되어 있습니다.\n",
    "\n",
    "<br>\n",
    "\n",
    "**📌 아래를 수행해 보세요:**\n",
    "- 각 지역의 평균 연봉과 중앙값을 구해 봅시다.\n",
    "- 지역별 박스플롯(Boxplot)을 그려서 분포의 차이를 시각적으로 확인해 봅시다."
   ]
  },
  {
   "cell_type": "code",
   "execution_count": 9,
   "id": "37779c36",
   "metadata": {},
   "outputs": [],
   "source": [
    "# 데이터 생성\n",
    "np.random.seed(2025)\n",
    "\n",
    "# A 지역: 평균 300, 표준편차 50\n",
    "region_a = np.random.normal(300, 50, 100)\n",
    "\n",
    "# B 지역 : 일반 소득자 + 극단적인 고소득자 포함\n",
    "region_b = np.concatenate([\n",
    "    np.random.normal(280, 40, 95),      # 일반 소득자 95명\n",
    "    np.random.normal(1500, 200, 5)      # 고소득자 5명\n",
    "])\n",
    "\n",
    "df2 = pd.DataFrame({\n",
    "    'region': ['A'] * 100 + ['B'] * 100,\n",
    "    'salary': np.concatenate([region_a, region_b])\n",
    "})"
   ]
  },
  {
   "cell_type": "markdown",
   "id": "316d8380",
   "metadata": {},
   "source": [
    "pd.DataFrame({...}) : 판다스 데이터프레임 생성\n",
    "\n",
    "'region': ['A'] * 100 + ['B'] * 100\n",
    "\n",
    "['A'] * 100 → A가 100번 반복된 리스트\n",
    "\n",
    "['B'] * 100 → B가 100번 반복된 리스트\n",
    "\n",
    "합치면 총 200개 (앞 100개는 A, 뒤 100개는 B)\n",
    "\n",
    "즉, 각 행이 어느 지역 데이터인지 표시\n",
    "\n",
    "'salary': np.concatenate([region_a, region_b])\n",
    "\n",
    "위에서 만든 A지역과 B지역 연봉 데이터를 합침\n",
    "\n",
    "총 200개의 연봉 숫자가 들어감"
   ]
  },
  {
   "cell_type": "code",
   "execution_count": 10,
   "id": "02cf4a42",
   "metadata": {},
   "outputs": [
    {
     "data": {
      "text/html": [
       "<div>\n",
       "<style scoped>\n",
       "    .dataframe tbody tr th:only-of-type {\n",
       "        vertical-align: middle;\n",
       "    }\n",
       "\n",
       "    .dataframe tbody tr th {\n",
       "        vertical-align: top;\n",
       "    }\n",
       "\n",
       "    .dataframe thead th {\n",
       "        text-align: right;\n",
       "    }\n",
       "</style>\n",
       "<table border=\"1\" class=\"dataframe\">\n",
       "  <thead>\n",
       "    <tr style=\"text-align: right;\">\n",
       "      <th></th>\n",
       "      <th>region</th>\n",
       "      <th>salary</th>\n",
       "    </tr>\n",
       "  </thead>\n",
       "  <tbody>\n",
       "    <tr>\n",
       "      <th>0</th>\n",
       "      <td>A</td>\n",
       "      <td>295.380491</td>\n",
       "    </tr>\n",
       "    <tr>\n",
       "      <th>1</th>\n",
       "      <td>A</td>\n",
       "      <td>336.714279</td>\n",
       "    </tr>\n",
       "    <tr>\n",
       "      <th>2</th>\n",
       "      <td>A</td>\n",
       "      <td>228.055899</td>\n",
       "    </tr>\n",
       "    <tr>\n",
       "      <th>3</th>\n",
       "      <td>A</td>\n",
       "      <td>266.828899</td>\n",
       "    </tr>\n",
       "    <tr>\n",
       "      <th>4</th>\n",
       "      <td>A</td>\n",
       "      <td>294.963596</td>\n",
       "    </tr>\n",
       "    <tr>\n",
       "      <th>...</th>\n",
       "      <td>...</td>\n",
       "      <td>...</td>\n",
       "    </tr>\n",
       "    <tr>\n",
       "      <th>195</th>\n",
       "      <td>B</td>\n",
       "      <td>1668.477201</td>\n",
       "    </tr>\n",
       "    <tr>\n",
       "      <th>196</th>\n",
       "      <td>B</td>\n",
       "      <td>1581.119661</td>\n",
       "    </tr>\n",
       "    <tr>\n",
       "      <th>197</th>\n",
       "      <td>B</td>\n",
       "      <td>1637.123979</td>\n",
       "    </tr>\n",
       "    <tr>\n",
       "      <th>198</th>\n",
       "      <td>B</td>\n",
       "      <td>1709.906631</td>\n",
       "    </tr>\n",
       "    <tr>\n",
       "      <th>199</th>\n",
       "      <td>B</td>\n",
       "      <td>1354.009664</td>\n",
       "    </tr>\n",
       "  </tbody>\n",
       "</table>\n",
       "<p>200 rows × 2 columns</p>\n",
       "</div>"
      ],
      "text/plain": [
       "    region       salary\n",
       "0        A   295.380491\n",
       "1        A   336.714279\n",
       "2        A   228.055899\n",
       "3        A   266.828899\n",
       "4        A   294.963596\n",
       "..     ...          ...\n",
       "195      B  1668.477201\n",
       "196      B  1581.119661\n",
       "197      B  1637.123979\n",
       "198      B  1709.906631\n",
       "199      B  1354.009664\n",
       "\n",
       "[200 rows x 2 columns]"
      ]
     },
     "execution_count": 10,
     "metadata": {},
     "output_type": "execute_result"
    }
   ],
   "source": [
    "df2"
   ]
  },
  {
   "cell_type": "code",
   "execution_count": 11,
   "id": "aadd87c0",
   "metadata": {},
   "outputs": [
    {
     "data": {
      "text/html": [
       "<div>\n",
       "<style scoped>\n",
       "    .dataframe tbody tr th:only-of-type {\n",
       "        vertical-align: middle;\n",
       "    }\n",
       "\n",
       "    .dataframe tbody tr th {\n",
       "        vertical-align: top;\n",
       "    }\n",
       "\n",
       "    .dataframe thead th {\n",
       "        text-align: right;\n",
       "    }\n",
       "</style>\n",
       "<table border=\"1\" class=\"dataframe\">\n",
       "  <thead>\n",
       "    <tr style=\"text-align: right;\">\n",
       "      <th></th>\n",
       "      <th>mean</th>\n",
       "      <th>median</th>\n",
       "    </tr>\n",
       "    <tr>\n",
       "      <th>region</th>\n",
       "      <th></th>\n",
       "      <th></th>\n",
       "    </tr>\n",
       "  </thead>\n",
       "  <tbody>\n",
       "    <tr>\n",
       "      <th>A</th>\n",
       "      <td>292.506637</td>\n",
       "      <td>294.324483</td>\n",
       "    </tr>\n",
       "    <tr>\n",
       "      <th>B</th>\n",
       "      <td>347.594909</td>\n",
       "      <td>287.347488</td>\n",
       "    </tr>\n",
       "  </tbody>\n",
       "</table>\n",
       "</div>"
      ],
      "text/plain": [
       "              mean      median\n",
       "region                        \n",
       "A       292.506637  294.324483\n",
       "B       347.594909  287.347488"
      ]
     },
     "execution_count": 11,
     "metadata": {},
     "output_type": "execute_result"
    }
   ],
   "source": [
    "# 각 지역의 평균 연봉과 중앙값 구하기\n",
    "group_stats = df2.groupby('region')['salary'].agg(['mean', 'median'])\n",
    "group_stats"
   ]
  },
  {
   "cell_type": "code",
   "execution_count": 12,
   "id": "9ac3a570",
   "metadata": {},
   "outputs": [
    {
     "data": {
      "image/png": "[encoded data removed]",
      "text/plain": [
       "<Figure size 700x600 with 1 Axes>"
      ]
     },
     "metadata": {},
     "output_type": "display_data"
    }
   ],
   "source": [
    "# 박스플롯 그리기\n",
    "plt.figure(figsize=(7,6))\n",
    "sns.boxplot(x='region', y='salary', data=df2)\n",
    "\n",
    "plt.title(\"A지역 vs B지역 연봉 분포\")\n",
    "plt.xlabel(\"지역\")\n",
    "plt.ylabel(\"연봉\")\n",
    "plt.show()"
   ]
  },
  {
   "cell_type": "markdown",
   "id": "fc8f9bfa",
   "metadata": {},
   "source": [
    "**🧠 데이터를 어떻게 읽을까요?**\n",
    "\n",
    "1. A 지역과 B 지역의 평균 연봉은 어떻게 다른가요?  \n",
    "   - 두 지역의 평균 차이가 의미하는 바는 무엇인가요?  \n",
    "   -> A 지역 평균: 292.51, B 지역 평균: 347.59 / B 지역의 평균 연봉이 더 높다.  \n",
    "   - 고소득자가 있는 지역의 평균은 어떤 영향을 받을까요?  \n",
    "   -> 평균값이 높아진다.  \n",
    "\n",
    "2. 중앙값은 어떠한가요?  \n",
    "   - 평균과 비교했을 때, 중앙값이 더 낮거나 높다면 어떤 해석이 가능할까요?  \n",
    "   -> A 지역 중앙값: 294.32, B 지역 중앙값: 287.35 / B 지역은 평균은 높지만 중앙값은 낮으므로, 소수의 고소득자가 평균을 끌어올린 것으로 해석할 수 있다.  \n",
    "\n",
    "3. 극단값(고소득자)의 영향은 어디에서 더 크게 나타날까요?  \n",
    "   - 평균과 중앙값 중 어떤 지표가 극단값에 더 민감한가요?  \n",
    "   -> 평균  \n",
    "\n",
    "4. 박스플롯을 통해 어떤 점을 관찰할 수 있나요?  \n",
    "   - 이상치(Outlier)는 어떻게 표시되나요?  \n",
    "   -> 박스 수염을 벗어난 동그라미로 표시된다.  \n",
    "   - 두 지역의 분포 폭(사분위 범위)은 어떻게 다른가요?  \n",
    "   -> 큰 차이는 없으나 B 지역의 분포 폭이 약간 더 작다.  \n",
    "\n",
    "5. 평균만 보고 판단했을 때 생길 수 있는 오해는 무엇인가요?  \n",
    "   - 어떤 경우에는 중앙값이 더 유용한 지표일 수 있을까요?  \n",
    "   -> 평균만 보면 B 지역의 연봉이 더 높다고 생각할 수 있지만, 중앙값을 보면 오히려 A 지역이 더 높다는 걸 알 수 있다.  \n"
   ]
  },
  {
   "cell_type": "markdown",
   "id": "869b50ab",
   "metadata": {},
   "source": [
    "# 문제 3. 이상값과 분산 비교\n",
    "**📘 문제**\n",
    "- 1반과 2반의 시험 점수 분포를 비교해 봅시다.\n",
    "- 2반에는 극단적인 이상값(예: 부정행위로 0점)이 포함되어 있습니다.\n",
    "\n",
    "<br>\n",
    "\n",
    "**📌 아래를 수행해 보세요:**\n",
    "1. 각 반의 평균, 표준편차, 최소/최대값을 계산해 봅시다.\n",
    "2. 박스플롯을 사용하여 두 반의 분포 차이를 시각적으로 비교해 봅시다.\n",
    "3. 이상값이 통계 지표에 어떤 영향을 주는지 생각해 봅시다.\n"
   ]
  },
  {
   "cell_type": "code",
   "execution_count": 13,
   "id": "ad3bc18a",
   "metadata": {},
   "outputs": [],
   "source": [
    "# 데이터 생성\n",
    "np.random.seed(2025)    # 재현 가능성을 위해 시드 고정\n",
    "\n",
    "# 1반: 평균 75, 표준편차 8\n",
    "class1 = np.random.normal(75, 8, 30)\n",
    "\n",
    "# 2반: 일반 학생 + 이상값(0점, 130점)\n",
    "class2 = np.concatenate([\n",
    "    np.random.normal(75, 15, 28),   # 일반 학생\n",
    "    [0, 130]                        # 극단적인 이상값\n",
    "])\n",
    "\n",
    "df3 = pd.DataFrame({\n",
    "    'class': ['1반'] * 30 + ['2반'] * 30,\n",
    "    'score': np.concatenate([class1, class2])\n",
    "})"
   ]
  },
  {
   "cell_type": "code",
   "execution_count": 14,
   "id": "263ba59b",
   "metadata": {},
   "outputs": [
    {
     "data": {
      "text/html": [
       "<div>\n",
       "<style scoped>\n",
       "    .dataframe tbody tr th:only-of-type {\n",
       "        vertical-align: middle;\n",
       "    }\n",
       "\n",
       "    .dataframe tbody tr th {\n",
       "        vertical-align: top;\n",
       "    }\n",
       "\n",
       "    .dataframe thead th {\n",
       "        text-align: right;\n",
       "    }\n",
       "</style>\n",
       "<table border=\"1\" class=\"dataframe\">\n",
       "  <thead>\n",
       "    <tr style=\"text-align: right;\">\n",
       "      <th></th>\n",
       "      <th>class</th>\n",
       "      <th>score</th>\n",
       "    </tr>\n",
       "  </thead>\n",
       "  <tbody>\n",
       "    <tr>\n",
       "      <th>0</th>\n",
       "      <td>1반</td>\n",
       "      <td>74.260879</td>\n",
       "    </tr>\n",
       "    <tr>\n",
       "      <th>1</th>\n",
       "      <td>1반</td>\n",
       "      <td>80.874285</td>\n",
       "    </tr>\n",
       "    <tr>\n",
       "      <th>2</th>\n",
       "      <td>1반</td>\n",
       "      <td>63.488944</td>\n",
       "    </tr>\n",
       "    <tr>\n",
       "      <th>3</th>\n",
       "      <td>1반</td>\n",
       "      <td>69.692624</td>\n",
       "    </tr>\n",
       "    <tr>\n",
       "      <th>4</th>\n",
       "      <td>1반</td>\n",
       "      <td>74.194175</td>\n",
       "    </tr>\n",
       "  </tbody>\n",
       "</table>\n",
       "</div>"
      ],
      "text/plain": [
       "  class      score\n",
       "0    1반  74.260879\n",
       "1    1반  80.874285\n",
       "2    1반  63.488944\n",
       "3    1반  69.692624\n",
       "4    1반  74.194175"
      ]
     },
     "execution_count": 14,
     "metadata": {},
     "output_type": "execute_result"
    }
   ],
   "source": [
    "df3.head()"
   ]
  },
  {
   "cell_type": "code",
   "execution_count": 15,
   "id": "88915b3a",
   "metadata": {},
   "outputs": [
    {
     "data": {
      "text/html": [
       "<div>\n",
       "<style scoped>\n",
       "    .dataframe tbody tr th:only-of-type {\n",
       "        vertical-align: middle;\n",
       "    }\n",
       "\n",
       "    .dataframe tbody tr th {\n",
       "        vertical-align: top;\n",
       "    }\n",
       "\n",
       "    .dataframe thead th {\n",
       "        text-align: right;\n",
       "    }\n",
       "</style>\n",
       "<table border=\"1\" class=\"dataframe\">\n",
       "  <thead>\n",
       "    <tr style=\"text-align: right;\">\n",
       "      <th></th>\n",
       "      <th>mean</th>\n",
       "      <th>std</th>\n",
       "      <th>min</th>\n",
       "      <th>max</th>\n",
       "    </tr>\n",
       "    <tr>\n",
       "      <th>class</th>\n",
       "      <th></th>\n",
       "      <th></th>\n",
       "      <th></th>\n",
       "      <th></th>\n",
       "    </tr>\n",
       "  </thead>\n",
       "  <tbody>\n",
       "    <tr>\n",
       "      <th>1반</th>\n",
       "      <td>75.724316</td>\n",
       "      <td>7.062710</td>\n",
       "      <td>60.685416</td>\n",
       "      <td>92.175893</td>\n",
       "    </tr>\n",
       "    <tr>\n",
       "      <th>2반</th>\n",
       "      <td>73.728848</td>\n",
       "      <td>22.340818</td>\n",
       "      <td>0.000000</td>\n",
       "      <td>130.000000</td>\n",
       "    </tr>\n",
       "  </tbody>\n",
       "</table>\n",
       "</div>"
      ],
      "text/plain": [
       "            mean        std        min         max\n",
       "class                                             \n",
       "1반     75.724316   7.062710  60.685416   92.175893\n",
       "2반     73.728848  22.340818   0.000000  130.000000"
      ]
     },
     "execution_count": 15,
     "metadata": {},
     "output_type": "execute_result"
    }
   ],
   "source": [
    "# 각 반의 평균, 표준편차, 최소/최대값을 계산해 봅시다.\n",
    "group_stats = df3.groupby('class')['score'].agg(['mean', 'std', 'min', 'max'])\n",
    "group_stats"
   ]
  },
  {
   "cell_type": "code",
   "execution_count": 16,
   "id": "87eb32b6",
   "metadata": {},
   "outputs": [
    {
     "data": {
      "image/png": "[encoded data removed]",
      "text/plain": [
       "<Figure size 700x600 with 1 Axes>"
      ]
     },
     "metadata": {},
     "output_type": "display_data"
    }
   ],
   "source": [
    "# 박스플롯을 사용하여 두 반의 분포 차이를 시각적으로 비교해 봅시다.\n",
    "plt.figure(figsize=(7,6))\n",
    "sns.boxplot(x='class', y='score', data=df3)\n",
    "\n",
    "plt.title(\"1반 vs 2반 시험 점수 분포\")\n",
    "plt.xlabel(\"반\")\n",
    "plt.ylabel(\"점수\")\n",
    "plt.show()"
   ]
  },
  {
   "cell_type": "markdown",
   "id": "189c554b",
   "metadata": {},
   "source": [
    "**🧠 데이터를 어떻게 읽을까요?**\n",
    "\n",
    "1. 어떤 반의 점수 분산이 더 크고, 왜 그럴까요?  \n",
    "-> 2반의 점수 분산이 더 크다. 표준편차가 크고, 0점·130점 같은 극단적인 이상값이 포함되어 있기 때문이다.  \n",
    "- 점수 분포의 퍼짐 정도는 어떤 지표로 확인할 수 있을까요?  \n",
    "-> 표준편차, 최소/최대값 같은 지표로 확인할 수 있다.  \n",
    "- 이상값이 포함되면 표준편차나 범위는 어떻게 달라질까요?  \n",
    "-> 표준편차와 범위가 커진다.  \n",
    "\n",
    "2. 이상값이 있는 반의 평균은 어떤 영향을 받았나요?  \n",
    "- 극단적으로 낮거나 높은 점수가 평균을 끌어내리거나 끌어올렸나요?  \n",
    "-> 2반의 평균은 1반과 큰 차이는 없지만, 이는 0점과 130점이 서로 상쇄된 결과다. 일반적으로는 이상값이 평균을 왜곡시켜 끌어내리거나 끌어올린다.  \n",
    "- 평균과 중앙값의 차이가 의미하는 바는 무엇인가요?  \n",
    "-> 평균은 이상값에 민감하게 반응하지만, 중앙값은 데이터의 중간 위치를 보여주기 때문에 이상값의 영향을 덜 받는다.  \n",
    "\n",
    "3. 박스플롯을 통해 이상값은 어떻게 드러나나요?  \n",
    "- 이상값(outlier)은 박스플롯에서 어떤 형태로 나타나나요?  \n",
    "-> 박스 수염을 벗어난 동그라미로 표시된다.  \n",
    "- 두 반의 박스(사분위 범위)는 어떻게 다르게 보이나요?  \n",
    "-> 2반의 박스(사분위 범위)가 1반보다 훨씬 크다. 이는 점수 분포가 더 넓게 퍼져 있다는 것을 의미한다.  \n",
    "\n",
    "4. 평균만 보고 평가했을 때 생길 수 있는 오해는 무엇인가요?  \n",
    "- 예를 들어, 교사가 평균 점수만 보고 2반이 부족하다고 판단한다면?  \n",
    "-> 극소수의 고득점자나 저득점자의 존재를 알 수 없고, 분포의 실제 모양을 파악할 수 없다.  \n",
    "- 중앙값이나 표준편차 같은 지표와 함께 분석하는 것은 왜 중요할까요?  \n",
    "-> 평균만으로는 데이터의 분포와 이상값 영향을 알 수 없기 때문에, 중앙값·표준편차 같은 보조 지표를 함께 봐야 한다.  \n",
    "\n"
   ]
  },
  {
   "cell_type": "markdown",
   "id": "805b9eb4",
   "metadata": {},
   "source": [
    "# 문제 4. IQR 이상값 제거\n",
    "**📘 문제**\n",
    "- 앞의 문제에서 2반에는 **극단적인 이상값(예: 매우 낮은 점수)**이 포함되어 있어\n",
    "통계 지표, 특히 평균에 큰 영향을 주는 것을 확인했습니다.\n",
    "- 이번에는 **IQR(사분위 범위)**을 기준으로 이상값을 제거한 뒤, 이상값 제거 전후의 평균을 비교해 봅시다\n",
    "\n",
    "<br>\n",
    "\n",
    "**📌 아래를 수행해 보세요:**\n",
    "- 2반의 점수 데이터를 대상으로 IQR 기준을 사용해 이상값을 판별하고 제거해 봅시다.\n",
    "- 이상값 제거 전과 제거 후의 평균을 각각 계산해 봅시다.\n",
    "- 이상값 제거가 평균에 어떤 영향을 주는지 설명해 봅시다.\n",
    "- 필요하다면 중앙값과도 비교해 봅시다."
   ]
  },
  {
   "cell_type": "code",
   "execution_count": 36,
   "id": "c90a3670",
   "metadata": {},
   "outputs": [
    {
     "name": "stdout",
     "output_type": "stream",
     "text": [
      "Q1=60.75, Q3=88.37, IQ27.61\n",
      "하한=19.33, 상한=129.79\n",
      "제거된 값: [0.0, 130.0]\n",
      "제거 개수: 2, 전체 30\n"
     ]
    }
   ],
   "source": [
    "# 2반만 데이터 선택\n",
    "class2_scores = df3.loc[df3['class'] == '2반', 'score']\n",
    "\n",
    "# IQR 계산\n",
    "Q1 = class2_scores.quantile(0.25)\n",
    "Q3 = class2_scores.quantile(0.75)\n",
    "IQR = Q3 - Q1\n",
    "\n",
    "lower = Q1 - 1.5 * IQR\n",
    "upper = Q3 + 1.5 * IQR\n",
    "\n",
    "print(f\"Q1={Q1:.2f}, Q3={Q3:.2f}, IQ{IQR:.2f}\")\n",
    "print(f\"하한={lower:.2f}, 상한={upper:.2f}\")\n",
    "\n",
    "# 이상값 마스크\n",
    "outlier_mask = (class2_scores < lower) | (class2_scores > upper)\n",
    "\n",
    "# 제거 전/후 데이터\n",
    "scores_before = class2_scores\n",
    "scores_after = class2_scores[~outlier_mask]\n",
    "\n",
    "# 무엇이 제거되었는지 확인(선택)\n",
    "removed_values = class2_scores[outlier_mask].sort_values().tolist()\n",
    "print(\"제거된 값:\", [round(v,2) for v in removed_values])\n",
    "print(f\"제거 개수: {outlier_mask.sum()}, 전체 {len(class2_scores)}\")"
   ]
  },
  {
   "cell_type": "code",
   "execution_count": 37,
   "id": "17b63dea",
   "metadata": {},
   "outputs": [
    {
     "name": "stdout",
     "output_type": "stream",
     "text": [
      "제거 전 평균: 73.73, 중앙값: 73.00\n",
      "제거 후 평균: 74.35, 중앙값: 73.00\n"
     ]
    }
   ],
   "source": [
    "# 이상값 제거 전후 평균(그리고 중앙값) 비교\n",
    "mean_before = scores_before.mean()\n",
    "median_before = scores_before.median()\n",
    "\n",
    "mean_after = scores_after.mean()\n",
    "median_after = scores_after.median()\n",
    "\n",
    "print(f\"제거 전 평균: {mean_before:.2f}, 중앙값: {median_before:.2f}\")\n",
    "print(f\"제거 후 평균: {mean_after:.2f}, 중앙값: {median_after:.2f}\")"
   ]
  },
  {
   "cell_type": "markdown",
   "id": "5fa064dd",
   "metadata": {},
   "source": [
    "**🧠 데이터를 어떻게 읽을까요?**\n",
    "\n",
    "1. 이상값 제거 전후 평균은 어떻게 달라졌나요?  \n",
    "-> 제거 전 평균: 73.73, 중앙값: 73.00  \n",
    "-> 제거 후 평균: 74.35, 중앙값: 73.00  \n",
    "\n",
    "- 평균이 중앙값에 가까워졌나요?  \n",
    "-> 이번 데이터에서는 제거 전 평균이 중앙값과 더 가까웠다.  \n",
    "   (낮은 이상값 0점과 높은 이상값 130점이 서로 상쇄되는 효과가 있었기 때문)  \n",
    "\n",
    "- 이상값 제거가 평균에 어떤 방향으로 영향을 주었나요?  \n",
    "-> 0점이 제거되면서 평균이 상승했지만, 중앙값과의 거리는 오히려 멀어졌다.  \n",
    "   일반적으로는 이상값 제거 후 평균이 중앙값에 더 가까워지지만,  \n",
    "   이번 데이터처럼 양쪽에 극단값이 동시에 존재하는 경우에는 다른 결과가 나올 수 있다.  \n",
    "\n",
    "2. 왜 IQR을 기준으로 이상값을 판단할까요?  \n",
    "-> IQR은 Q1(하위 25%)과 Q3(상위 25%)를 이용해 데이터를 4등분하고,  \n",
    "   하한 = Q1 − 1.5×IQR, 상한 = Q3 + 1.5×IQR 범위를 벗어난 값을 이상값으로 정의한다.  \n",
    "\n",
    "- 평균이나 표준편차 기준과 비교했을 때 어떤 점이 더 강건할까요?  \n",
    "-> 평균·표준편차는 이상값에 크게 흔들리지만, IQR은 극단값에 덜 민감해 더 강건하다.  \n",
    "\n",
    "3. 이상값은 언제 제거하고, 언제 유지해야 할까요?  \n",
    "-> 입력 오류나 부정행위 같은 데이터라면 제거해야 한다.  \n",
    "   하지만 특수한 사건이나 의미 있는 현상이라면 유지하는 것이 더 적절하다.  \n",
    "\n",
    "4. 중앙값과 평균은 각각 어떤 상황에서 더 유용한 지표인가요?  \n",
    "- 이상값이 있을 때 어떤 지표가 더 신뢰할 수 있나요?  \n",
    "-> 중앙값이 더 신뢰할 수 있다.  \n",
    "\n",
    "- 두 지표를 함께 보면 어떤 장점이 있을까요?  \n",
    "-> 평균은 전체적인 수준을, 중앙값은 분포의 중심을 보여주므로  \n",
    "   함께 보면 이상값 여부와 데이터의 균형 상태를 동시에 파악할 수 있다.  \n"
   ]
  },
  {
   "cell_type": "markdown",
   "id": "a13e1b18",
   "metadata": {},
   "source": [
    "# 문제 5. 변수 유형 분류\n",
    "**📘 문제**\n",
    "- 아래 데이터에서 변수의 유형(연속형, 범주형, 이산형 등)을 구분해 봅시다.\n",
    "- 변수의 의미를 고려하여 어떤 분석 방식이 적절한지도 함께 생각해 봅시다.\n",
    "\n",
    "<br>\n",
    "\n",
    "**📌 아래를 수행해 보세요:**\n",
    "\n",
    "1. 각 변수의 데이터 타입을 확인해 봅시다.\n",
    "\n",
    "2. 변수의 의미를 기준으로 다음 중 어떤 유형에 해당하는지 분류해 봅시다.\n",
    "    - 연속형 (numeric-continuous)\n",
    "    - 이산형 (numeric-discrete)\n",
    "    - 범주형 (categorical)\n",
    "    - 서열형 범주 (ordinal-categorical)\n"
   ]
  },
  {
   "cell_type": "code",
   "execution_count": 31,
   "id": "8a807a50",
   "metadata": {},
   "outputs": [],
   "source": [
    "# 데이터 생성\n",
    "np.random.seed(2025)\n",
    "df5 = pd.DataFrame({\n",
    "    'age': np.random.randint(18, 65, 200),\n",
    "    'coffee_type': np.random.choice(['아메리카노', '라떼', '카페모카'], 200),\n",
    "    'size': np.random.choice(['Small', 'Medium', 'large'], 200),\n",
    "    'price': np.random.normal(4500, 500, 200),\n",
    "    'satisfaction': np.random.randint(1, 6, 200)\n",
    "})"
   ]
  },
  {
   "cell_type": "code",
   "execution_count": 32,
   "id": "86f948d0",
   "metadata": {},
   "outputs": [
    {
     "data": {
      "text/plain": [
       "age               int64\n",
       "coffee_type      object\n",
       "size             object\n",
       "price           float64\n",
       "satisfaction      int64\n",
       "dtype: object"
      ]
     },
     "execution_count": 32,
     "metadata": {},
     "output_type": "execute_result"
    }
   ],
   "source": [
    "df5.head()\n",
    "df5.dtypes"
   ]
  },
  {
   "cell_type": "markdown",
   "id": "d2e25d89",
   "metadata": {},
   "source": [
    "**🧠 데이터를 어떻게 읽을까요?**\n",
    "\n",
    "1. 숫자처럼 보이지만 사실은 범주형 또는 서열형으로 해석하는 변수가 있다면 무엇일까요?  \n",
    "-> `satisfaction`은 1~5 점수로 저장되지만, 실제로는 서열형 범주 변수다.  \n",
    "-> `size` 변수도 Small < Medium < Large 순서가 있으므로, 단순 문자열이 아니라 서열형 범주 변수로 해석할 수 있다.  \n",
    "\n",
    "2. 변수 유형에 따라 적절한 분석 방법이나 시각화 방식은 어떻게 달라질까요?  \n",
    "-> 연속형 변수 (age, price): 평균·분산 계산, 히스토그램/산점도, 회귀분석에 활용 가능  \n",
    "-> 범주형 변수 (coffee_type): 빈도 분석, 막대그래프, 카이제곱 검정에 활용  \n",
    "-> 서열형 범주 변수 (size, satisfaction): 순서를 고려한 분석(중앙값, 순위 검정), 막대그래프나 박스플롯으로 시각화 가능  \n"
   ]
  },
  {
   "cell_type": "markdown",
   "id": "ea1bb525",
   "metadata": {},
   "source": [
    "# 문제 6. 상관관계 분석\n",
    "**📘 문제**\n",
    "- 이번에는 변수들 간의 **관계(상관관계)**를 분석해 봅시다.\n",
    "- 특히 기온(`temp`), 습도(`humidity`), 판매(`sales`) 변수 간의 관계를 수치와 시각화로 살펴보겠습니다.\n",
    "\n",
    "\n",
    "<br>\n",
    "\n",
    "**📌 아래를 수행해 보세요:**\n",
    "1. 아래의 기온, 습도, 매출 데이터를 사용하여 상관계수 행렬을 출력해 봅시다.\n",
    "\n",
    "2. 페어플롯(pairplot)을 이용하여 변수 간의 관계를 시각화해 봅시다."
   ]
  },
  {
   "cell_type": "code",
   "execution_count": 33,
   "id": "32dd9ca3",
   "metadata": {},
   "outputs": [],
   "source": [
    "# 데이터 생성\n",
    "np.random.seed(2025)\n",
    "\n",
    "temp = np.random.normal(25, 5, 100)\n",
    "humidity = np.random.normal(60, 10, 100)\n",
    "sales = temp * 10 - humidity * 2 + np.random.normal(0, 20, 100) + 200\n",
    "\n",
    "df6 = pd.DataFrame({'temp': temp, 'humidity': humidity, 'sales': sales})"
   ]
  },
  {
   "cell_type": "code",
   "execution_count": 34,
   "id": "b4dd7f88",
   "metadata": {},
   "outputs": [
    {
     "data": {
      "text/html": [
       "<div>\n",
       "<style scoped>\n",
       "    .dataframe tbody tr th:only-of-type {\n",
       "        vertical-align: middle;\n",
       "    }\n",
       "\n",
       "    .dataframe tbody tr th {\n",
       "        vertical-align: top;\n",
       "    }\n",
       "\n",
       "    .dataframe thead th {\n",
       "        text-align: right;\n",
       "    }\n",
       "</style>\n",
       "<table border=\"1\" class=\"dataframe\">\n",
       "  <thead>\n",
       "    <tr style=\"text-align: right;\">\n",
       "      <th></th>\n",
       "      <th>temp</th>\n",
       "      <th>humidity</th>\n",
       "      <th>sales</th>\n",
       "    </tr>\n",
       "  </thead>\n",
       "  <tbody>\n",
       "    <tr>\n",
       "      <th>temp</th>\n",
       "      <td>1.000000</td>\n",
       "      <td>-0.141942</td>\n",
       "      <td>0.879387</td>\n",
       "    </tr>\n",
       "    <tr>\n",
       "      <th>humidity</th>\n",
       "      <td>-0.141942</td>\n",
       "      <td>1.000000</td>\n",
       "      <td>-0.456258</td>\n",
       "    </tr>\n",
       "    <tr>\n",
       "      <th>sales</th>\n",
       "      <td>0.879387</td>\n",
       "      <td>-0.456258</td>\n",
       "      <td>1.000000</td>\n",
       "    </tr>\n",
       "  </tbody>\n",
       "</table>\n",
       "</div>"
      ],
      "text/plain": [
       "              temp  humidity     sales\n",
       "temp      1.000000 -0.141942  0.879387\n",
       "humidity -0.141942  1.000000 -0.456258\n",
       "sales     0.879387 -0.456258  1.000000"
      ]
     },
     "execution_count": 34,
     "metadata": {},
     "output_type": "execute_result"
    }
   ],
   "source": [
    "# 상관계수 행렬 출력\n",
    "corr = df6.corr()\n",
    "corr"
   ]
  },
  {
   "cell_type": "code",
   "execution_count": 35,
   "id": "0719c473",
   "metadata": {},
   "outputs": [
    {
     "data": {
      "image/png": "[encoded data removed]",
      "text/plain": [
       "<Figure size 750x750 with 12 Axes>"
      ]
     },
     "metadata": {},
     "output_type": "display_data"
    }
   ],
   "source": [
    "# 페어플롯(pairplot) 시각화\n",
    "sns.pairplot(df6)\n",
    "plt.show()"
   ]
  },
  {
   "cell_type": "markdown",
   "id": "8fc5d28d",
   "metadata": {},
   "source": [
    "**🧠 데이터를 어떻게 읽을까요?**\n",
    "\n",
    "1. 출력된 상관계수 행렬을 보고,  \n",
    "- 어떤 변수와 `sales` 간의 상관계수가 가장 높은가요?  \n",
    "-> temp  \n",
    "\n",
    "- 어느 쌍이 **양의 상관관계**, 어느 쌍이 **음의 상관관계**인가요?  \n",
    "-> temp와 sales는 약 0.88로 강한 양의 상관관계  \n",
    "-> humidity와 sales는 -0.46으로 음의 상관관계  \n",
    "-> temp와 humidity는 -0.14로 거의 상관 없음  \n",
    "\n",
    "2. 페어플롯에서  \n",
    "- 어떤 변수 쌍은 **직선 형태**로 관계가 보이나요?  \n",
    "-> temp vs sales: 우상향 패턴 → 기온이 올라가면 매출도 늘어나는 경향  \n",
    "-> humidity vs sales: 우하향 패턴 → 습도가 높을수록 매출은 줄어드는 경향  \n",
    "\n",
    "- 어떤 변수 쌍은 **분산이 크거나 패턴이 없는**가요?  \n",
    "-> temp vs humidity: 점들이 흩어져 있어 뚜렷한 관계 없음  \n",
    "\n",
    "3. **상관관계가 반드시 인과관계를 의미하지는 않습니다.**  \n",
    "- 온도와 매출에 상관관계가 있다고 해서, 온도가 매출을 직접적으로 증가시킨다고 볼 수 있을까요?  \n",
    "-> 직접적인 인과관계라고 단정할 수 없다.  \n",
    "   예를 들어 더운 날씨에는 사람들이 시원한 음료를 더 많이 찾을 수 있고,  \n",
    "   휴가철이나 계절적 요인 같은 제3의 요인이 동시에 매출에 영향을 줄 수도 있다.  \n",
    "\n",
    "4. 이 데이터를 바탕으로 어떤 **추가 가설**이나 **실험 설계**를 생각해볼 수 있을까요?  \n",
    "-> 날씨 외에도 요일, 시간대, 이벤트 여부(예: 할인 행사), 고객 특성 같은 변수를 추가해 매출과의 관계를 비교해볼 수 있다.  \n",
    "-> 실제로 온도가 매출에 영향을 주는지 확인하려면, 동일한 조건에서 온도만 달라질 때 매출 변화를 관찰하는 실험 설계가 필요하다.  \n"
   ]
  },
  {
   "cell_type": "markdown",
   "id": "2b307065",
   "metadata": {},
   "source": []
  }
 ],
 "metadata": {
  "kernelspec": {
   "display_name": "Python 3",
   "language": "python",
   "name": "python3"
  },
  "language_info": {
   "codemirror_mode": {
    "name": "ipython",
    "version": 3
   },
   "file_extension": ".py",
   "mimetype": "text/x-python",
   "name": "python",
   "nbconvert_exporter": "python",
   "pygments_lexer": "ipython3",
   "version": "3.13.5"
  }
 },
 "nbformat": 4,
 "nbformat_minor": 5
}
