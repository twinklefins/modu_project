{
 "cells": [
  {
   "cell_type": "code",
   "execution_count": 72,
   "id": "a875525c",
   "metadata": {},
   "outputs": [
    {
     "name": "stdout",
     "output_type": "stream",
     "text": [
      "hi aiffel!\n",
      "aiffel\n"
     ]
    }
   ],
   "source": [
    "name = 'aiffel'\n",
    "\n",
    "def hi():\n",
    "    print(f'hi {name}!')\n",
    "\n",
    "hi()\n",
    "print(name)"
   ]
  },
  {
   "cell_type": "code",
   "execution_count": 73,
   "id": "59975439",
   "metadata": {},
   "outputs": [
    {
     "name": "stdout",
     "output_type": "stream",
     "text": [
      "hi2 aiffel!\n"
     ]
    },
    {
     "ename": "NameError",
     "evalue": "name 'name2' is not defined",
     "output_type": "error",
     "traceback": [
      "\u001b[31m---------------------------------------------------------------------------\u001b[39m",
      "\u001b[31mNameError\u001b[39m                                 Traceback (most recent call last)",
      "\u001b[36mCell\u001b[39m\u001b[36m \u001b[39m\u001b[32mIn[73]\u001b[39m\u001b[32m, line 6\u001b[39m\n\u001b[32m      3\u001b[39m     \u001b[38;5;28mprint\u001b[39m(\u001b[33mf\u001b[39m\u001b[33m'\u001b[39m\u001b[33mhi2 \u001b[39m\u001b[38;5;132;01m{\u001b[39;00mname2\u001b[38;5;132;01m}\u001b[39;00m\u001b[33m!\u001b[39m\u001b[33m'\u001b[39m)\n\u001b[32m      5\u001b[39m hi2()\n\u001b[32m----> \u001b[39m\u001b[32m6\u001b[39m \u001b[38;5;28mprint\u001b[39m(\u001b[43mname2\u001b[49m)\n",
      "\u001b[31mNameError\u001b[39m: name 'name2' is not defined"
     ]
    }
   ],
   "source": [
    "def hi2():\n",
    "    name2 = 'aiffel'\n",
    "    print(f'hi2 {name2}!')\n",
    "    \n",
    "hi2()\n",
    "print(name2)"
   ]
  },
  {
   "cell_type": "code",
   "execution_count": null,
   "id": "223c0f90",
   "metadata": {},
   "outputs": [
    {
     "name": "stdout",
     "output_type": "stream",
     "text": [
      "hi python\n",
      "aiffel\n"
     ]
    }
   ],
   "source": [
    "name = 'aiffel'\n",
    "\n",
    "def hi3():\n",
    "    name = 'python'\n",
    "    print(f'hi {name}')\n",
    "\n",
    "hi3()\n",
    "print(name)"
   ]
  },
  {
   "cell_type": "code",
   "execution_count": null,
   "id": "a82a88ed",
   "metadata": {},
   "outputs": [
    {
     "name": "stdout",
     "output_type": "stream",
     "text": [
      "hi python\n",
      "python\n"
     ]
    }
   ],
   "source": [
    "name = 'aiffel'\n",
    "\n",
    "def hi3():\n",
    "    global name\n",
    "    name = 'python'\n",
    "    print(f'hi {name}')\n",
    "\n",
    "hi3()\n",
    "print(name)"
   ]
  },
  {
   "cell_type": "code",
   "execution_count": null,
   "id": "e7c0c2ae",
   "metadata": {},
   "outputs": [],
   "source": [
    "# # 주석을 풀고 코드를 돌려보세요.\n",
    "# name = 'aiffel'  # 전역 변수\n",
    "\n",
    "# def hi4():\n",
    "#     global name = 'python' # global 예약어와 할당을 동시에\n",
    "#     print(f'hi {name}!')   \n",
    "\n",
    "# hi4()\n",
    "# print(name)"
   ]
  },
  {
   "cell_type": "code",
   "execution_count": null,
   "id": "1058c6a9",
   "metadata": {},
   "outputs": [],
   "source": []
  },
  {
   "cell_type": "code",
   "execution_count": null,
   "id": "9bcdcc5b",
   "metadata": {},
   "outputs": [
    {
     "name": "stdout",
     "output_type": "stream",
     "text": [
      "hey 인유!\n",
      "인유\n"
     ]
    }
   ],
   "source": [
    "def hey():\n",
    "    global a\n",
    "    a = '인유'\n",
    "    print(f'hey {a}!')\n",
    "\n",
    "hey()\n",
    "print(a)"
   ]
  },
  {
   "cell_type": "code",
   "execution_count": null,
   "id": "b70ed4dc",
   "metadata": {},
   "outputs": [
    {
     "name": "stdout",
     "output_type": "stream",
     "text": [
      "hello 아이펠!\n"
     ]
    }
   ],
   "source": [
    "def hello():\n",
    "    who = '인유'\n",
    "    def hello2():\n",
    "        nonlocal who\n",
    "        who = '아이펠'\n",
    "\n",
    "    hello2()\n",
    "    print(f'hello {who}!')\n",
    "\n",
    "hello()"
   ]
  },
  {
   "cell_type": "code",
   "execution_count": 76,
   "id": "1300d623",
   "metadata": {},
   "outputs": [
    {
     "name": "stdout",
     "output_type": "stream",
     "text": [
      "hello 인유\n"
     ]
    }
   ],
   "source": [
    "def hello():\n",
    "    who2 = '인유'\n",
    "    def hello2():\n",
    "        who2 = '아이펠'\n",
    "\n",
    "    hello2()\n",
    "    print(f'hello {who2}')\n",
    "\n",
    "hello()"
   ]
  },
  {
   "cell_type": "code",
   "execution_count": 77,
   "id": "dfced02d",
   "metadata": {},
   "outputs": [
    {
     "name": "stdout",
     "output_type": "stream",
     "text": [
      "70\n",
      "70\n"
     ]
    }
   ],
   "source": [
    "def A():  \n",
    "    x = 10\n",
    "    y = 20\n",
    "    def B():\n",
    "        x = 30\n",
    "        def C():\n",
    "            nonlocal x  # 10을 바인딩할지, 30을 바인딩할지\n",
    "            nonlocal y  # 함수 하나를 건너 뛰어서 y와 바인딩이 가능할지\n",
    "            x = x + 40\n",
    "            y = y + 50\n",
    "            print(x)\n",
    "            print(y)\n",
    "        C()\n",
    "    B()\n",
    "A()"
   ]
  },
  {
   "cell_type": "code",
   "execution_count": 78,
   "id": "afe16d63",
   "metadata": {},
   "outputs": [
    {
     "name": "stdout",
     "output_type": "stream",
     "text": [
      "20\n",
      "50\n",
      "50\n"
     ]
    }
   ],
   "source": [
    "x = 10\n",
    "def A():\n",
    "    y = 20\n",
    "    z = 30\n",
    "    def B():\n",
    "        x = 20\n",
    "        nonlocal z\n",
    "        z = 20\n",
    "        def C():\n",
    "            y = 30\n",
    "            global x\n",
    "            nonlocal z\n",
    "            x = x + 10\n",
    "            y = y + 20\n",
    "            z = z + 30\n",
    "            print(x)\n",
    "            print(y)\n",
    "            print(z)\n",
    "        C()\n",
    "    B()\n",
    "A()\n"
   ]
  },
  {
   "cell_type": "code",
   "execution_count": 88,
   "id": "30b6c383",
   "metadata": {},
   "outputs": [],
   "source": [
    "# 클로저 함수의 예시\n",
    "def intro(home):\n",
    "    introduction = 'My hometown is '+home+'.'\n",
    "\n",
    "    def my():  # 조건 1 충족\n",
    "        print(introduction)  # 조건 2 충족\n",
    "    \n",
    "    return my  # 조건 3 충족"
   ]
  },
  {
   "cell_type": "code",
   "execution_count": 90,
   "id": "e59553a7",
   "metadata": {},
   "outputs": [
    {
     "name": "stdout",
     "output_type": "stream",
     "text": [
      "My hometown is Yeosu.\n"
     ]
    }
   ],
   "source": [
    "def intro(home):\n",
    "#--------------my함수의 클로저 영역----------------#\n",
    "    introduction = 'My hometown is '+home+'.'\n",
    "\n",
    "    def my():  \n",
    "        print(introduction)  \n",
    "#--------------my함수의 클로저 영역----------------#\n",
    "    return my  \n",
    "\n",
    "f = intro('Yeosu')  # 1\n",
    "del intro  # 2\n",
    "f()  # 3"
   ]
  },
  {
   "cell_type": "code",
   "execution_count": 96,
   "id": "65ef9769",
   "metadata": {},
   "outputs": [],
   "source": [
    "# 클로저 함수의 예시 \n",
    "def intro(home):\n",
    "    introduction = 'My hometown is '+home+'.'\n",
    "    # Q. 아래 빈 코드를 채워 보세요.\n",
    "    def my():\n",
    "        print(introduction)\n",
    "    \n",
    "    return my \n",
    "\n",
    "f = intro('Yeosu')"
   ]
  },
  {
   "cell_type": "code",
   "execution_count": 97,
   "id": "827d7002",
   "metadata": {},
   "outputs": [
    {
     "data": {
      "text/plain": [
       "['__annotations__',\n",
       " '__builtins__',\n",
       " '__call__',\n",
       " '__class__',\n",
       " '__closure__',\n",
       " '__code__',\n",
       " '__defaults__',\n",
       " '__delattr__',\n",
       " '__dict__',\n",
       " '__dir__',\n",
       " '__doc__',\n",
       " '__eq__',\n",
       " '__format__',\n",
       " '__ge__',\n",
       " '__get__',\n",
       " '__getattribute__',\n",
       " '__getstate__',\n",
       " '__globals__',\n",
       " '__gt__',\n",
       " '__hash__',\n",
       " '__init__',\n",
       " '__init_subclass__',\n",
       " '__kwdefaults__',\n",
       " '__le__',\n",
       " '__lt__',\n",
       " '__module__',\n",
       " '__name__',\n",
       " '__ne__',\n",
       " '__new__',\n",
       " '__qualname__',\n",
       " '__reduce__',\n",
       " '__reduce_ex__',\n",
       " '__repr__',\n",
       " '__setattr__',\n",
       " '__sizeof__',\n",
       " '__str__',\n",
       " '__subclasshook__',\n",
       " '__type_params__']"
      ]
     },
     "execution_count": 97,
     "metadata": {},
     "output_type": "execute_result"
    }
   ],
   "source": [
    "dir(f)"
   ]
  },
  {
   "cell_type": "code",
   "execution_count": 98,
   "id": "0e879e18",
   "metadata": {},
   "outputs": [
    {
     "data": {
      "text/plain": [
       "'__closure__'"
      ]
     },
     "execution_count": 98,
     "metadata": {},
     "output_type": "execute_result"
    }
   ],
   "source": [
    "dir(f)[4]"
   ]
  },
  {
   "cell_type": "code",
   "execution_count": 99,
   "id": "398ff31f",
   "metadata": {},
   "outputs": [
    {
     "data": {
      "text/plain": [
       "tuple"
      ]
     },
     "execution_count": 99,
     "metadata": {},
     "output_type": "execute_result"
    }
   ],
   "source": [
    "type(f.__closure__)"
   ]
  },
  {
   "cell_type": "code",
   "execution_count": 100,
   "id": "4e27bc07",
   "metadata": {},
   "outputs": [
    {
     "data": {
      "text/plain": [
       "1"
      ]
     },
     "execution_count": 100,
     "metadata": {},
     "output_type": "execute_result"
    }
   ],
   "source": [
    "# Q. 튜플의 길이를 출력해봅시다.\n",
    "# [[YOUR CODE]]\n",
    "len(f.__closure__)"
   ]
  },
  {
   "cell_type": "code",
   "execution_count": 101,
   "id": "4c562183",
   "metadata": {},
   "outputs": [
    {
     "data": {
      "text/plain": [
       "<cell at 0x12193da80: str object at 0x121e5fc30>"
      ]
     },
     "execution_count": 101,
     "metadata": {},
     "output_type": "execute_result"
    }
   ],
   "source": [
    "f.__closure__[0]"
   ]
  },
  {
   "cell_type": "code",
   "execution_count": 102,
   "id": "70e63781",
   "metadata": {},
   "outputs": [
    {
     "data": {
      "text/plain": [
       "['__class__',\n",
       " '__delattr__',\n",
       " '__dir__',\n",
       " '__doc__',\n",
       " '__eq__',\n",
       " '__format__',\n",
       " '__ge__',\n",
       " '__getattribute__',\n",
       " '__getstate__',\n",
       " '__gt__',\n",
       " '__hash__',\n",
       " '__init__',\n",
       " '__init_subclass__',\n",
       " '__le__',\n",
       " '__lt__',\n",
       " '__ne__',\n",
       " '__new__',\n",
       " '__reduce__',\n",
       " '__reduce_ex__',\n",
       " '__repr__',\n",
       " '__setattr__',\n",
       " '__sizeof__',\n",
       " '__str__',\n",
       " '__subclasshook__',\n",
       " 'cell_contents']"
      ]
     },
     "execution_count": 102,
     "metadata": {},
     "output_type": "execute_result"
    }
   ],
   "source": [
    "# Q. 클로저를 자세하게 펼쳐봅시다. (dir() 함수 사용)\n",
    "# [[YOUR CODE]]\n",
    "dir(f.__closure__[0])"
   ]
  },
  {
   "cell_type": "code",
   "execution_count": 104,
   "id": "006e7059",
   "metadata": {},
   "outputs": [
    {
     "data": {
      "text/plain": [
       "'My hometown is Yeosu.'"
      ]
     },
     "execution_count": 104,
     "metadata": {},
     "output_type": "execute_result"
    }
   ],
   "source": [
    "f.__closure__[0].cell_contents"
   ]
  },
  {
   "cell_type": "code",
   "execution_count": 108,
   "id": "2f96f2cf",
   "metadata": {},
   "outputs": [
    {
     "name": "stdout",
     "output_type": "stream",
     "text": [
      "hello 인유!\n"
     ]
    }
   ],
   "source": [
    "# 실습퀴즈1. nonlocal 키워드\n",
    "# 아래 코드의 실행 결과가 'hello 인유!'가 나오도록 코드를 추가해 주세요.  \n",
    "def hello(): \n",
    "    who = '아이펠'\n",
    "    def hello2():\n",
    "        nonlocal who\n",
    "        who = '인유'\n",
    "\n",
    "    hello2()\n",
    "    print(f'hello {who}!')\n",
    "\n",
    "hello()"
   ]
  },
  {
   "cell_type": "code",
   "execution_count": 109,
   "id": "0b9b25c9",
   "metadata": {},
   "outputs": [
    {
     "name": "stdout",
     "output_type": "stream",
     "text": [
      "My name is 인유. And I want to be a teacher. \n",
      "My name is 인유. And I want to be a teacher. And I want to be a programmer. \n",
      "My name is 인유. And I want to be a teacher. And I want to be a programmer. And I want to be a rich. \n"
     ]
    }
   ],
   "source": [
    "def intro(name):\n",
    "    introduction = 'My name is ' + name + '. '  \n",
    "\n",
    "    def my(wish):\n",
    "        nonlocal introduction\n",
    "        introduction = introduction + 'And I want to be a ' + wish + '. '\n",
    "        print(introduction)  \n",
    "    \n",
    "    return my  \n",
    "\n",
    "f = intro('인유')\n",
    "\n",
    "f('teacher')\n",
    "f('programmer')\n",
    "f('rich')"
   ]
  },
  {
   "cell_type": "code",
   "execution_count": null,
   "id": "b1e007de",
   "metadata": {},
   "outputs": [
    {
     "name": "stdout",
     "output_type": "stream",
     "text": [
      "20\n",
      "50\n"
     ]
    }
   ],
   "source": [
    "# 실습퀴즈3. 개수를 더해서 누적이 되도록 만들기 \n",
    "# 아래의 결과값이 누적이 되도록 코드를 추가해 주세요.\n",
    "def closure_counter():\n",
    "    count = 0\n",
    "    def counter(num):\n",
    "        nonlocal count\n",
    "        count += num\n",
    "\n",
    "        return count\n",
    "    return counter\n",
    "\n",
    "# 결과 확인\n",
    "counter = closure_counter()\n",
    "print(counter(20))\n",
    "print(counter(30)) # 출력이 50이 되어야 합니다."
   ]
  },
  {
   "cell_type": "code",
   "execution_count": 136,
   "id": "d9186c03",
   "metadata": {},
   "outputs": [
    {
     "ename": "SyntaxError",
     "evalue": "invalid syntax (4037157542.py, line 16)",
     "output_type": "error",
     "traceback": [
      "  \u001b[36mCell\u001b[39m\u001b[36m \u001b[39m\u001b[32mIn[136]\u001b[39m\u001b[32m, line 16\u001b[39m\n\u001b[31m    \u001b[39m\u001b[31mlength_func = # [[YOUR CODE]]\u001b[39m\n                  ^\n\u001b[31mSyntaxError\u001b[39m\u001b[31m:\u001b[39m invalid syntax\n"
     ]
    }
   ],
   "source": [
    "# 실습퀴즈4. 문자열의 길이를 판별하는 함수를 만들어 보세요.\n",
    "# 문자열의 길이가 0보다 길 때, 길이를 출력하고, 지정한 길이보다 긴지 짧은지 판별한 결과까지 출력해보세요.\n",
    "\n",
    "def closure_str_checker():\n",
    "    # 문자열이 지정한 길이보다 길면 알려주는 함수\n",
    "    def check_length(limit):\n",
    "        def length_func(string):\n",
    "            if len(string) > limit:\n",
    "                return '지정한 길이보다 길어요.' \n",
    "            else:\n",
    "                return '길이가 적당합니다.'\n",
    "        return length_func\n",
    "\n",
    "    def str_checker(string):\n",
    "        limit_len = 20 # 길이를 지정합니다.\n",
    "        length_func = # [[YOUR CODE]]\n",
    "        if # [[YOUR CODE]]\n",
    "            print('문자열의 길이가 0보다 작거나 같습니다.')\n",
    "        else:\n",
    "            print('문자열의 길이 :', # [[YOUR CODE]], # [[YOUR CODE]], sep='\\n')\n",
    "    return str_checker\n",
    "\n",
    "check = closure_str_checker()\n",
    "test_str = '화이팅. 아자 아자 화이팅!' # 길이가 다른 문자열을 입력해보세요. \n",
    "check(test_str)"
   ]
  },
  {
   "cell_type": "code",
   "execution_count": 138,
   "id": "4e347e16",
   "metadata": {},
   "outputs": [
    {
     "name": "stdout",
     "output_type": "stream",
     "text": [
      "문자열의 길이 :\n",
      "15\n",
      "길이가 적당합니다.\n"
     ]
    }
   ],
   "source": [
    "def closure_str_checker():\n",
    "\n",
    "    def check_length(limit):\n",
    "        def length_func(string):\n",
    "            if len(string) > limit:\n",
    "                return '지정한 길이보다 길어요.' \n",
    "            else:\n",
    "                return '길이가 적당합니다.'\n",
    "        return length_func\n",
    "\n",
    "    def str_checker(string):\n",
    "        limit_len = 20\n",
    "        length_func = check_length(limit_len)\n",
    "        if len(string) <= 0:\n",
    "            print('문자열의 길이가 0보다 작거나 같습니다.')\n",
    "        else:\n",
    "            print('문자열의 길이 :', len(string), length_func(string), sep='\\n')\n",
    "    return str_checker\n",
    "\n",
    "check = closure_str_checker()\n",
    "test_str = '화이팅. 아자 아자 화이팅!'\n",
    "check(test_str)"
   ]
  },
  {
   "cell_type": "code",
   "execution_count": null,
   "id": "a37b6ba9",
   "metadata": {},
   "outputs": [],
   "source": [
    "# 복습퀴즈. closure를 직접 구현해봅시다. # [[YOUR CODE]]에 들어가야할 코드는 무엇일까요? \n",
    "\n",
    "def int_plus(# [[YOUR CODE]]):\n",
    "    def plus(# [[YOUR CODE]]):\n",
    "        return n + x\n",
    "    return # [[YOUR CODE]]\n",
    "\n",
    "# 결과 확인\n",
    "closure_plus = int_plus(2)\n",
    "closure_plus(3)"
   ]
  },
  {
   "cell_type": "code",
   "execution_count": 139,
   "id": "ea3f95ac",
   "metadata": {},
   "outputs": [
    {
     "data": {
      "text/plain": [
       "5"
      ]
     },
     "execution_count": 139,
     "metadata": {},
     "output_type": "execute_result"
    }
   ],
   "source": [
    "# 복습퀴즈. closure를 직접 구현해봅시다. # [[YOUR CODE]]에 들어가야할 코드는 무엇일까요? \n",
    "\n",
    "def int_plus(x):\n",
    "    def plus(n):\n",
    "        return n + x\n",
    "    return plus\n",
    "\n",
    "# 결과 확인\n",
    "closure_plus = int_plus(2)\n",
    "closure_plus(3)"
   ]
  }
 ],
 "metadata": {
  "kernelspec": {
   "display_name": "Python 3",
   "language": "python",
   "name": "python3"
  },
  "language_info": {
   "codemirror_mode": {
    "name": "ipython",
    "version": 3
   },
   "file_extension": ".py",
   "mimetype": "text/x-python",
   "name": "python",
   "nbconvert_exporter": "python",
   "pygments_lexer": "ipython3",
   "version": "3.12.3"
  }
 },
 "nbformat": 4,
 "nbformat_minor": 5
}
