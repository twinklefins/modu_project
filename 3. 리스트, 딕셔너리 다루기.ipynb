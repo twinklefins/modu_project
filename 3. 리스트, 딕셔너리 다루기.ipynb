{
 "cells": [
  {
   "cell_type": "code",
   "execution_count": null,
   "id": "21b34eb2",
   "metadata": {},
   "outputs": [
    {
     "data": {
      "text/plain": [
       "['a', 'i', 'f', 'f', 'e', 'l']"
      ]
     },
     "metadata": {},
     "output_type": "display_data"
    }
   ],
   "source": [
    "list_o = ['a', 'i', 'f', 'f', 'e', 'l']\n",
    "list_o"
   ]
  },
  {
   "cell_type": "code",
   "execution_count": null,
   "id": "32d97084",
   "metadata": {},
   "outputs": [
    {
     "data": {
      "text/plain": [
       "[[1, 2], ['ㄱ', 'ㄴ'], ['a', 'b']]"
      ]
     },
     "metadata": {},
     "output_type": "display_data"
    }
   ],
   "source": [
    "list_tw = [[1, 2], ['ㄱ', 'ㄴ'], ['a', 'b']]\n",
    "list_tw"
   ]
  },
  {
   "cell_type": "code",
   "execution_count": null,
   "id": "6e4450e4",
   "metadata": {},
   "outputs": [
    {
     "data": {
      "text/plain": [
       "3"
      ]
     },
     "metadata": {},
     "output_type": "display_data"
    }
   ],
   "source": [
    "len(list_tw)"
   ]
  },
  {
   "cell_type": "code",
   "execution_count": null,
   "id": "25d64c8a",
   "metadata": {},
   "outputs": [
    {
     "data": {
      "text/plain": [
       "'a'"
      ]
     },
     "metadata": {},
     "output_type": "display_data"
    }
   ],
   "source": [
    "# 3행 1열 출력\n",
    "list_tw[2][0]"
   ]
  },
  {
   "cell_type": "code",
   "execution_count": null,
   "id": "798fb3cc",
   "metadata": {},
   "outputs": [
    {
     "data": {
      "text/plain": [
       "'ㄴ'"
      ]
     },
     "metadata": {},
     "output_type": "display_data"
    }
   ],
   "source": [
    "# Q. 2행 2열을 출력해보세요.\n",
    "list_tw[1][1]"
   ]
  },
  {
   "cell_type": "code",
   "execution_count": null,
   "id": "0ce9e336",
   "metadata": {},
   "outputs": [
    {
     "data": {
      "text/plain": [
       "['a', 'b']"
      ]
     },
     "metadata": {},
     "output_type": "display_data"
    }
   ],
   "source": [
    "# 인덱싱 한개만 써보기\n",
    "list_tw[2]"
   ]
  },
  {
   "cell_type": "code",
   "execution_count": null,
   "id": "d997c597",
   "metadata": {},
   "outputs": [
    {
     "data": {
      "text/plain": [
       "[[[1, 2, 3], [4, 5, 6], [7, 8, 9], [10, 11, 12]],\n",
       " [['a', 'b', 'c'], ['d', 'e', 'f'], ['g', 'h', 'i'], ['j', 'k', 'l']]]"
      ]
     },
     "metadata": {},
     "output_type": "display_data"
    }
   ],
   "source": [
    "# 4행, 3열, depth 2인 3차원 리스트\n",
    "list_th = [[[1, 2, 3], [4, 5, 6], [7, 8, 9], [10, 11, 12]],\\\n",
    "           [['a', 'b', 'c'], ['d', 'e', 'f'], ['g', 'h', 'i'], ['j', 'k', 'l']]]\n",
    "list_th"
   ]
  },
  {
   "cell_type": "code",
   "execution_count": null,
   "id": "cdc157c6",
   "metadata": {},
   "outputs": [
    {
     "data": {
      "text/plain": [
       "2"
      ]
     },
     "metadata": {},
     "output_type": "display_data"
    }
   ],
   "source": [
    "# 3차원 리스트의 길이\n",
    "len(list_th)"
   ]
  },
  {
   "cell_type": "code",
   "execution_count": null,
   "id": "ef831d4c",
   "metadata": {},
   "outputs": [
    {
     "data": {
      "text/plain": [
       "[1, 2, 3]"
      ]
     },
     "metadata": {},
     "output_type": "display_data"
    }
   ],
   "source": [
    "# 열 생략 ver.\n",
    "list_th[0][0]"
   ]
  },
  {
   "cell_type": "code",
   "execution_count": null,
   "id": "99a71e32",
   "metadata": {},
   "outputs": [
    {
     "data": {
      "text/plain": [
       "[1, 2, 3]"
      ]
     },
     "metadata": {},
     "output_type": "display_data"
    }
   ],
   "source": [
    "# 열 기재 ver.\n",
    "# depth 1, 1행, 열 전체\n",
    "list_th[0][0][:]"
   ]
  },
  {
   "cell_type": "code",
   "execution_count": null,
   "id": "7d732ef2",
   "metadata": {},
   "outputs": [
    {
     "data": {
      "text/plain": [
       "'c'"
      ]
     },
     "metadata": {},
     "output_type": "display_data"
    }
   ],
   "source": [
    "# depth 2, 1행, 3열\n",
    "list_th[1][0][2]"
   ]
  },
  {
   "cell_type": "code",
   "execution_count": null,
   "id": "931a8060",
   "metadata": {},
   "outputs": [
    {
     "data": {
      "text/plain": [
       "['d', 'e', 'f']"
      ]
     },
     "metadata": {},
     "output_type": "display_data"
    }
   ],
   "source": [
    "# Q. ['d', 'e', 'f']를 선택하려면 인덱싱을 어떻게 해야 할까요?\n",
    "# [[YOUR CODE]]\n",
    "list_th[1][1]"
   ]
  },
  {
   "cell_type": "code",
   "execution_count": null,
   "id": "e9c065c0",
   "metadata": {},
   "outputs": [
    {
     "data": {
      "text/plain": [
       "[60, 28, 30, 34, 66, 11]"
      ]
     },
     "metadata": {},
     "output_type": "display_data"
    }
   ],
   "source": [
    "kims_age = [60, 28, 30, 34, 66, 11]  \n",
    "kims_age"
   ]
  },
  {
   "cell_type": "code",
   "execution_count": null,
   "id": "66068bfa",
   "metadata": {},
   "outputs": [
    {
     "data": {
      "text/plain": [
       "66"
      ]
     },
     "metadata": {},
     "output_type": "display_data"
    }
   ],
   "source": [
    "max(kims_age)"
   ]
  },
  {
   "cell_type": "code",
   "execution_count": null,
   "id": "be928f4b",
   "metadata": {},
   "outputs": [
    {
     "data": {
      "text/plain": [
       "11"
      ]
     },
     "metadata": {},
     "output_type": "display_data"
    }
   ],
   "source": [
    "min(kims_age)"
   ]
  },
  {
   "cell_type": "code",
   "execution_count": null,
   "id": "b4de88b3",
   "metadata": {},
   "outputs": [
    {
     "ename": "TypeError",
     "evalue": "'<' not supported between instances of 'int' and 'str'",
     "output_type": "error",
     "traceback": [
      "\u001b[31m---------------------------------------------------------------------------\u001b[39m\n",
      "\u001b[31mTypeError\u001b[39m                                 Traceback (most recent call last)\n",
      "\u001b[36mCell\u001b[39m\u001b[36m \u001b[39m\u001b[32mIn[63]\u001b[39m\u001b[32m, line 5\u001b[39m\n",
      "\u001b[32m      2\u001b[39m napoli = [\u001b[33m'\u001b[39m\u001b[33mminjae\u001b[39m\u001b[33m'\u001b[39m, \u001b[32m3\u001b[39m, \u001b[33m'\u001b[39m\u001b[33m크바라츠헬리아\u001b[39m\u001b[33m'\u001b[39m, \u001b[32m77\u001b[39m, \u001b[33m'\u001b[39m\u001b[33mOsimhen\u001b[39m\u001b[33m'\u001b[39m, \u001b[32m9\u001b[39m, \u001b[33m'\u001b[39m\u001b[33mAnguissa\u001b[39m\u001b[33m'\u001b[39m, \u001b[32m99\u001b[39m]\n",
      "\u001b[32m      4\u001b[39m \u001b[38;5;66;03m# 아래 주석을 풀어보세요!\u001b[39;00m\n",
      "\u001b[32m----> \u001b[39m\u001b[32m5\u001b[39m \u001b[38;5;28;43mmin\u001b[39;49m\u001b[43m(\u001b[49m\u001b[43mnapoli\u001b[49m\u001b[43m)\u001b[49m, \u001b[38;5;28mmax\u001b[39m(napoli)\n",
      "\n",
      "\u001b[31mTypeError\u001b[39m: '<' not supported between instances of 'int' and 'str'"
     ]
    }
   ],
   "source": [
    "# 이탈리아 축구 팀인 '나폴리'의 선수와 번호입니다 :)\n",
    "napoli = ['minjae', 3, '크바라츠헬리아', 77, 'Osimhen', 9, 'Anguissa', 99]\n",
    "\n",
    "# 아래 주석을 풀어보세요!\n",
    "min(napoli), max(napoli)"
   ]
  },
  {
   "cell_type": "code",
   "execution_count": null,
   "id": "969cfcc2",
   "metadata": {},
   "outputs": [
    {
     "data": {
      "text/plain": [
       "('Anguissa', '크바라츠헬리아')"
      ]
     },
     "metadata": {},
     "output_type": "display_data"
    }
   ],
   "source": [
    "# Q. 위의 코드와 같이 min() & max() 함수를 사용해 보세요. \n",
    "napoli_player = ['minjae', '크바라츠헬리아', 'Osimhen', 'Anguissa']  # 문자열만 있는 리스\n",
    "# [[YOUR CODE]]\n",
    "min(napoli_player), max(napoli_player)"
   ]
  },
  {
   "cell_type": "code",
   "execution_count": null,
   "id": "41eceef7",
   "metadata": {},
   "outputs": [
    {
     "data": {
      "text/plain": [
       "('i', 'n', 'y', 'o', 'u')"
      ]
     },
     "metadata": {},
     "output_type": "display_data"
    }
   ],
   "source": [
    "# 아스키 코드 ➔ 문자열\n",
    "chr(105), chr(110), chr(121), chr(111), chr(117)"
   ]
  },
  {
   "cell_type": "code",
   "execution_count": null,
   "id": "e6547c10",
   "metadata": {},
   "outputs": [
    {
     "data": {
      "text/plain": [
       "(109, 53356, 79, 65)"
      ]
     },
     "metadata": {},
     "output_type": "display_data"
    }
   ],
   "source": [
    "# 문자열 ➔ 아스키 코드\n",
    "ord('m'), ord('크'), ord('O'), ord('A')"
   ]
  },
  {
   "cell_type": "code",
   "execution_count": null,
   "id": "6d9ecfec",
   "metadata": {},
   "outputs": [
    {
     "data": {
      "text/plain": [
       "(116, 119, 105, 110, 107, 108, 101)"
      ]
     },
     "metadata": {},
     "output_type": "display_data"
    }
   ],
   "source": [
    "# [Playgorund] 원하는 아스키 코드와 문자열을 자유롭게 변경해 보세요.\n",
    "# [[YOUR CODE]]\n",
    "ord('t'), ord('w'), ord('i'), ord('n'), ord('k'), ord('l'), ord('e')"
   ]
  },
  {
   "cell_type": "code",
   "execution_count": null,
   "id": "1092bb3b",
   "metadata": {},
   "outputs": [
    {
     "data": {
      "text/plain": [
       "[60, 28, 30, 34, 66, 11]"
      ]
     },
     "metadata": {},
     "output_type": "display_data"
    }
   ],
   "source": [
    "kims_age"
   ]
  },
  {
   "cell_type": "code",
   "execution_count": null,
   "id": "2243afc7",
   "metadata": {},
   "outputs": [
    {
     "name": "stdout",
     "output_type": "stream",
     "text": [
      "229\n"
     ]
    }
   ],
   "source": [
    "# 반복문으로 리스트의 모든 값 더하기\n",
    "total_sum = 0\n",
    "for i in kims_age:\n",
    "    total_sum += i\n",
    "\n",
    "print(total_sum)"
   ]
  },
  {
   "cell_type": "code",
   "execution_count": null,
   "id": "6192ea23",
   "metadata": {},
   "outputs": [
    {
     "data": {
      "text/plain": [
       "229"
      ]
     },
     "metadata": {},
     "output_type": "display_data"
    }
   ],
   "source": [
    "# sum()함수로 더하기\n",
    "sum(kims_age)"
   ]
  },
  {
   "cell_type": "code",
   "execution_count": null,
   "id": "2c749ee0",
   "metadata": {},
   "outputs": [
    {
     "name": "stdout",
     "output_type": "stream",
     "text": [
      "(0, 60)\n",
      "(1, 28)\n",
      "(2, 30)\n",
      "(3, 34)\n",
      "(4, 66)\n",
      "(5, 11)\n"
     ]
    }
   ],
   "source": [
    "for i in enumerate(kims_age):\n",
    "    print(i)"
   ]
  },
  {
   "cell_type": "code",
   "execution_count": null,
   "id": "c2aefe61",
   "metadata": {},
   "outputs": [
    {
     "name": "stdout",
     "output_type": "stream",
     "text": [
      "(0, 'minjae')\n",
      "(1, '크바라츠헬리아')\n",
      "(2, 'Osimhen')\n",
      "(3, 'Anguissa')\n"
     ]
    }
   ],
   "source": [
    "# Q. napoli_player에 enumerate() 함수를 써보세요. \n",
    "napoli_player = ['minjae', '크바라츠헬리아', 'Osimhen', 'Anguissa']\n",
    "# [[YOUR CODE]]\n",
    "for i in enumerate(napoli_player):\n",
    "    print(i)"
   ]
  },
  {
   "cell_type": "code",
   "execution_count": null,
   "id": "040620a3",
   "metadata": {},
   "outputs": [
    {
     "data": {
      "text/plain": [
       "<zip at 0x113724d40>"
      ]
     },
     "metadata": {},
     "output_type": "display_data"
    }
   ],
   "source": [
    "# zip만 출력해보기\n",
    "napoli_num = [3, 77, 9, 99]\n",
    "napoli_player = ['minjae', '크바라츠헬리아', 'Osimhen', 'Anguissa'] \n",
    "zip(napoli_num, napoli_player)"
   ]
  },
  {
   "cell_type": "code",
   "execution_count": null,
   "id": "f18596e1",
   "metadata": {},
   "outputs": [
    {
     "name": "stdout",
     "output_type": "stream",
     "text": [
      "(3, 'minjae')\n",
      "(77, '크바라츠헬리아')\n",
      "(9, 'Osimhen')\n",
      "(99, 'Anguissa')\n"
     ]
    }
   ],
   "source": [
    "# for문에 zip을 넣고 출력해보기\n",
    "napoli_num = [3, 77, 9, 99]\n",
    "napoli_player = ['minjae', '크바라츠헬리아', 'Osimhen', 'Anguissa'] \n",
    "\n",
    "for i in zip(napoli_num, napoli_player):\n",
    "    print(i)"
   ]
  },
  {
   "cell_type": "code",
   "execution_count": null,
   "id": "c495c370",
   "metadata": {},
   "outputs": [
    {
     "name": "stdout",
     "output_type": "stream",
     "text": [
      "[(3, 'minjae'), (77, '크바라츠헬리아'), (9, 'Osimhen'), (99, 'Anguissa')]\n"
     ]
    }
   ],
   "source": [
    "# 다시 한 번 확인\n",
    "napoli_num = [3, 77, 9, 99]\n",
    "napoli_player = ['minjae', '크바라츠헬리아', 'Osimhen', 'Anguissa'] \n",
    "\n",
    "check_zip = list(zip(napoli_num, napoli_player))\n",
    "\n",
    "# zip이 잘 되었는지 확인해볼까요?\n",
    "print(check_zip)"
   ]
  },
  {
   "cell_type": "code",
   "execution_count": null,
   "id": "fabe707f",
   "metadata": {},
   "outputs": [
    {
     "name": "stdout",
     "output_type": "stream",
     "text": [
      "(3, 77, 9, 99)\n",
      "('minjae', '크바라츠헬리아', 'Osimhen', 'Anguissa')\n"
     ]
    }
   ],
   "source": [
    "# unzip 활용해서 해체\n",
    "new_num, new_player = zip(*check_zip)\n",
    "print(new_num)\n",
    "print(new_player)"
   ]
  },
  {
   "cell_type": "code",
   "execution_count": null,
   "id": "dad4d6e9",
   "metadata": {},
   "outputs": [],
   "source": [
    "# [Playground] zip()을 조금 더 연습해 보세요. \n",
    "# [[YOUR CODE]]"
   ]
  },
  {
   "cell_type": "code",
   "execution_count": null,
   "id": "994d9793",
   "metadata": {},
   "outputs": [
    {
     "name": "stdout",
     "output_type": "stream",
     "text": [
      "97\n",
      "98\n",
      "99\n",
      "100\n"
     ]
    }
   ],
   "source": [
    "# 반복문으로 아스키 코드 확인\n",
    "for i in ['a', 'b', 'c', 'd']:\n",
    "    print(ord(i))"
   ]
  },
  {
   "cell_type": "code",
   "execution_count": null,
   "id": "4aa14898",
   "metadata": {},
   "outputs": [
    {
     "data": {
      "text/plain": [
       "{'a': 97, 'b': 98, 'c': 99, 'd': 100}"
      ]
     },
     "metadata": {},
     "output_type": "display_data"
    }
   ],
   "source": [
    "# Q. 위에서 살펴본 알파벳과 아스키 코드로 딕셔너리를 만들어 보세요. 딕셔너리의 형태는 {Key1:Value1, Key2:Value2, Key3:Value3, ...}인 것은 아시죠? \n",
    "dict_uni = {'a':97, 'b':98, 'c':99, 'd':100}\n",
    "dict_uni"
   ]
  },
  {
   "cell_type": "code",
   "execution_count": null,
   "id": "1bbeecd0",
   "metadata": {},
   "outputs": [
    {
     "data": {
      "text/plain": [
       "99"
      ]
     },
     "metadata": {},
     "output_type": "display_data"
    }
   ],
   "source": [
    "# 딕셔너리에 이미 있는 key 넣어보기\n",
    "dict_uni.setdefault('c')"
   ]
  },
  {
   "cell_type": "code",
   "execution_count": null,
   "id": "d3428933",
   "metadata": {},
   "outputs": [
    {
     "data": {
      "text/plain": [
       "{'a': 97, 'b': 98, 'c': 99, 'd': 100, 'e': None}"
      ]
     },
     "metadata": {},
     "output_type": "display_data"
    }
   ],
   "source": [
    "# 새로운 key만 넣기\n",
    "dict_uni.setdefault('e')\n",
    "dict_uni"
   ]
  },
  {
   "cell_type": "code",
   "execution_count": null,
   "id": "5d5acade",
   "metadata": {},
   "outputs": [
    {
     "data": {
      "text/plain": [
       "{'a': 97, 'b': 98, 'c': 99, 'd': 100}"
      ]
     },
     "metadata": {},
     "output_type": "display_data"
    }
   ],
   "source": [
    "# 'e'값을 삭제하고 다시 넣어보겠습니다.\n",
    "del dict_uni['e']\n",
    "dict_uni"
   ]
  },
  {
   "cell_type": "code",
   "execution_count": null,
   "id": "4478c709",
   "metadata": {},
   "outputs": [
    {
     "data": {
      "text/plain": [
       "{'a': 97, 'b': 98, 'c': 99, 'd': 100, 'e': 101}"
      ]
     },
     "metadata": {},
     "output_type": "display_data"
    }
   ],
   "source": [
    "# Q. 새로운 key와 value ('e', 101)를 넣어보세요. \n",
    "# [[YOUR CODE]]\n",
    "dict_uni.setdefault('e', 101)\n",
    "dict_uni"
   ]
  },
  {
   "cell_type": "code",
   "execution_count": null,
   "id": "7f07802f",
   "metadata": {},
   "outputs": [
    {
     "data": {
      "text/plain": [
       "{'a': 97, 'b': 98, 'c': 99, 'd': 100, 'e': 101, 'f': None}"
      ]
     },
     "metadata": {},
     "output_type": "display_data"
    }
   ],
   "source": [
    "# Q. 새로운 key인 'f'만 추가해 보세요. \n",
    "# [[YOUR CODE]]\n",
    "dict_uni.setdefault('f')\n",
    "dict_uni"
   ]
  },
  {
   "cell_type": "code",
   "execution_count": null,
   "id": "ff59fb4f",
   "metadata": {},
   "outputs": [
    {
     "data": {
      "text/plain": [
       "{'a': 97, 'b': 98, 'c': 99, 'd': 100, 'e': 101, 'f': 102}"
      ]
     },
     "metadata": {},
     "output_type": "display_data"
    }
   ],
   "source": [
    "# update()로 딕셔너리 update하기 \n",
    "dict_uni.update(f=102)\n",
    "dict_uni"
   ]
  },
  {
   "cell_type": "code",
   "execution_count": null,
   "id": "3bdc1c56",
   "metadata": {},
   "outputs": [
    {
     "data": {
      "text/plain": [
       "{'a': 97, 'b': 98, 'c': 99, 'd': 100, 'e': 101, 'f': 102, 'g': 103}"
      ]
     },
     "metadata": {},
     "output_type": "display_data"
    }
   ],
   "source": [
    "# Q. update 함수로 새로운 key와 value (g, 103)를 추가해 보세요. \n",
    "# [[YOUR CODE]]\n",
    "dict_uni.update(g=103)\n",
    "dict_uni"
   ]
  },
  {
   "cell_type": "code",
   "execution_count": null,
   "id": "32784528",
   "metadata": {},
   "outputs": [],
   "source": [
    "# [Playground] setdefault(), update() 함수를 자유롭게 사용하여 딕셔너리를 수정해 보세요. \n",
    "# [[YOUR CODE]]"
   ]
  },
  {
   "cell_type": "code",
   "execution_count": null,
   "id": "0a293296",
   "metadata": {},
   "outputs": [
    {
     "data": {
      "text/plain": [
       "[60, 28, 30, 34, 66, 11]"
      ]
     },
     "metadata": {},
     "output_type": "display_data"
    }
   ],
   "source": [
    "kims_age = [60, 28, 30, 34, 66, 11]  \n",
    "kims_age"
   ]
  },
  {
   "cell_type": "code",
   "execution_count": null,
   "id": "79925b32",
   "metadata": {},
   "outputs": [
    {
     "data": {
      "text/plain": [
       "11"
      ]
     },
     "metadata": {},
     "output_type": "display_data"
    }
   ],
   "source": [
    "# pop() 함수는 마지막 요소를 출력하고 삭제합니다.\n",
    "kims_age.pop()"
   ]
  },
  {
   "cell_type": "code",
   "execution_count": null,
   "id": "5b4149df",
   "metadata": {},
   "outputs": [
    {
     "data": {
      "text/plain": [
       "[60, 28, 30, 34, 66]"
      ]
     },
     "metadata": {},
     "output_type": "display_data"
    }
   ],
   "source": [
    "# 삭제됐는지 확인\n",
    "kims_age"
   ]
  },
  {
   "cell_type": "code",
   "execution_count": null,
   "id": "e4ee1555",
   "metadata": {},
   "outputs": [
    {
     "data": {
      "text/plain": [
       "{'a': 97, 'b': 98, 'c': 99, 'd': 100, 'e': 101, 'f': 102, 'g': 103}"
      ]
     },
     "metadata": {},
     "output_type": "display_data"
    }
   ],
   "source": [
    "dict_uni"
   ]
  },
  {
   "cell_type": "code",
   "execution_count": null,
   "id": "8f4a1d80",
   "metadata": {},
   "outputs": [
    {
     "ename": "TypeError",
     "evalue": "pop expected at least 1 argument, got 0",
     "output_type": "error",
     "traceback": [
      "\u001b[31m---------------------------------------------------------------------------\u001b[39m\n",
      "\u001b[31mTypeError\u001b[39m                                 Traceback (most recent call last)\n",
      "\u001b[36mCell\u001b[39m\u001b[36m \u001b[39m\u001b[32mIn[115]\u001b[39m\u001b[32m, line 2\u001b[39m\n",
      "\u001b[32m      1\u001b[39m \u001b[38;5;66;03m# 주석을 풀고 코드를 돌려보세요.\u001b[39;00m\n",
      "\u001b[32m----> \u001b[39m\u001b[32m2\u001b[39m \u001b[43mdict_uni\u001b[49m\u001b[43m.\u001b[49m\u001b[43mpop\u001b[49m\u001b[43m(\u001b[49m\u001b[43m)\u001b[49m\n",
      "\n",
      "\u001b[31mTypeError\u001b[39m: pop expected at least 1 argument, got 0"
     ]
    }
   ],
   "source": [
    "# 주석을 풀고 코드를 돌려보세요.\n",
    "dict_uni.pop()"
   ]
  },
  {
   "cell_type": "code",
   "execution_count": null,
   "id": "76a81f08",
   "metadata": {},
   "outputs": [
    {
     "data": {
      "text/plain": [
       "103"
      ]
     },
     "metadata": {},
     "output_type": "display_data"
    }
   ],
   "source": [
    "# pop(key)\n",
    "dict_uni.pop('g')"
   ]
  },
  {
   "cell_type": "code",
   "execution_count": null,
   "id": "0a2cabeb",
   "metadata": {},
   "outputs": [
    {
     "data": {
      "text/plain": [
       "{'a': 97, 'b': 98, 'c': 99, 'd': 100, 'e': 101, 'f': 102}"
      ]
     },
     "metadata": {},
     "output_type": "display_data"
    }
   ],
   "source": [
    "dict_uni"
   ]
  },
  {
   "cell_type": "code",
   "execution_count": null,
   "id": "a5d26994",
   "metadata": {},
   "outputs": [
    {
     "data": {
      "text/plain": [
       "{'a': 97, 'b': 98, 'c': 99, 'd': 100, 'e': 101, 'f': 102}"
      ]
     },
     "metadata": {},
     "output_type": "display_data"
    }
   ],
   "source": [
    "dict_uni"
   ]
  },
  {
   "cell_type": "code",
   "execution_count": null,
   "id": "db07b40f",
   "metadata": {},
   "outputs": [
    {
     "data": {
      "text/plain": [
       "('f', 102)"
      ]
     },
     "metadata": {},
     "output_type": "display_data"
    }
   ],
   "source": [
    "# 마지막 value만 꺼내서 삭제\n",
    "dict_uni.popitem()"
   ]
  },
  {
   "cell_type": "code",
   "execution_count": null,
   "id": "3a76af85",
   "metadata": {},
   "outputs": [
    {
     "data": {
      "text/plain": [
       "{'a': 97, 'b': 98, 'c': 99, 'd': 100, 'e': 101}"
      ]
     },
     "metadata": {},
     "output_type": "display_data"
    }
   ],
   "source": [
    "dict_uni"
   ]
  },
  {
   "cell_type": "code",
   "execution_count": null,
   "id": "decfbf86",
   "metadata": {},
   "outputs": [
    {
     "name": "stdout",
     "output_type": "stream",
     "text": [
      "55\n"
     ]
    }
   ],
   "source": [
    "# Q. pop() 함수만 사용해서 1부터 10까지의 합을 구해봅시다.\n",
    "\n",
    "nums = list(range(1, 11))  # [1, 2, ... , 10]\n",
    "result = 0  # 결과값 - 여기에 숫자를 계속 더해주세요!\n",
    "\n",
    "for i in range(10):\n",
    "    result+=nums.pop()\n",
    "\n",
    "print(result)"
   ]
  },
  {
   "cell_type": "code",
   "execution_count": null,
   "id": "9c005f68",
   "metadata": {},
   "outputs": [
    {
     "data": {
      "text/plain": [
       "{60: None, 28: None, 30: None, 34: None, 66: None, 11: None}"
      ]
     },
     "metadata": {},
     "output_type": "display_data"
    }
   ],
   "source": [
    "kims_age = [60, 28, 30, 34, 66, 11] \n",
    "kims_dict = dict.fromkeys(kims_age)\n",
    "kims_dict"
   ]
  },
  {
   "cell_type": "code",
   "execution_count": null,
   "id": "a7c62d77",
   "metadata": {},
   "outputs": [
    {
     "data": {
      "text/plain": [
       "{60: 'kor', 28: 'kor', 30: 'kor', 34: 'kor', 66: 'kor', 11: 'kor'}"
      ]
     },
     "metadata": {},
     "output_type": "display_data"
    }
   ],
   "source": [
    "kims_age = [60, 28, 30, 34, 66, 11] \n",
    "kims_dict = dict.fromkeys(kims_age, 'kor')  # key, value 순서\n",
    "kims_dict"
   ]
  },
  {
   "cell_type": "code",
   "execution_count": null,
   "id": "a3ee457b",
   "metadata": {},
   "outputs": [
    {
     "data": {
      "text/plain": [
       "True"
      ]
     },
     "metadata": {},
     "output_type": "display_data"
    }
   ],
   "source": [
    "# 요소 in 리스트\n",
    "napoli_player = ['minjae', '크바라츠헬리아', 'Osimhen', 'Anguissa']\n",
    "'minjae' in napoli_player"
   ]
  },
  {
   "cell_type": "code",
   "execution_count": null,
   "id": "72f8ffbf",
   "metadata": {},
   "outputs": [
    {
     "data": {
      "text/plain": [
       "False"
      ]
     },
     "metadata": {},
     "output_type": "display_data"
    }
   ],
   "source": [
    "# 손흥민 선수는 토트넘 선수이죠!\n",
    "'Son' in napoli_player"
   ]
  },
  {
   "cell_type": "code",
   "execution_count": null,
   "id": "83e0fd3b",
   "metadata": {},
   "outputs": [
    {
     "data": {
      "text/plain": [
       "True"
      ]
     },
     "metadata": {},
     "output_type": "display_data"
    }
   ],
   "source": [
    "# not in\n",
    "'Son' not in napoli_player"
   ]
  },
  {
   "cell_type": "code",
   "execution_count": null,
   "id": "8d95cf1c",
   "metadata": {},
   "outputs": [
    {
     "data": {
      "text/plain": [
       "True"
      ]
     },
     "metadata": {},
     "output_type": "display_data"
    }
   ],
   "source": [
    "# key값만 확인 가능\n",
    "dict_uni = {'a': 97, 'b':98, 'c':99, 'd':100}\n",
    "'a' in dict_uni"
   ]
  },
  {
   "cell_type": "code",
   "execution_count": null,
   "id": "b47bc14c",
   "metadata": {},
   "outputs": [
    {
     "data": {
      "text/plain": [
       "False"
      ]
     },
     "metadata": {},
     "output_type": "display_data"
    }
   ],
   "source": [
    "# value값은 확인 불가능\n",
    "100 in dict_uni"
   ]
  },
  {
   "cell_type": "code",
   "execution_count": null,
   "id": "4942a5ca",
   "metadata": {},
   "outputs": [
    {
     "data": {
      "text/plain": [
       "True"
      ]
     },
     "metadata": {},
     "output_type": "display_data"
    }
   ],
   "source": [
    "# value 값 확인하기\n",
    "100 in dict_uni.values()"
   ]
  },
  {
   "cell_type": "code",
   "execution_count": null,
   "id": "633a04ee",
   "metadata": {},
   "outputs": [
    {
     "ename": "NameError",
     "evalue": "name 'values' is not defined",
     "output_type": "error",
     "traceback": [
      "\u001b[31m---------------------------------------------------------------------------\u001b[39m\n",
      "\u001b[31mNameError\u001b[39m                                 Traceback (most recent call last)\n",
      "\u001b[36mCell\u001b[39m\u001b[36m \u001b[39m\u001b[32mIn[132]\u001b[39m\u001b[32m, line 3\u001b[39m\n",
      "\u001b[32m      1\u001b[39m \u001b[38;5;66;03m# Q. 101은 value 값에 포함될까요? in을 사용하여 확인해 보세요. \u001b[39;00m\n",
      "\u001b[32m      2\u001b[39m \u001b[38;5;66;03m# [[YOUR CODE]]\u001b[39;00m\n",
      "\u001b[32m----> \u001b[39m\u001b[32m3\u001b[39m \u001b[32m101\u001b[39m \u001b[38;5;129;01min\u001b[39;00m dict_uni,\u001b[43mvalues\u001b[49m()\n",
      "\n",
      "\u001b[31mNameError\u001b[39m: name 'values' is not defined"
     ]
    }
   ],
   "source": [
    "# Q. 101은 value 값에 포함될까요? in을 사용하여 확인해 보세요. \n",
    "# [[YOUR CODE]]\n",
    "101 in dict_uni,values()"
   ]
  },
  {
   "cell_type": "code",
   "execution_count": null,
   "id": "0839cc7a",
   "metadata": {},
   "outputs": [
    {
     "data": {
      "text/plain": [
       "True"
      ]
     },
     "metadata": {},
     "output_type": "display_data"
    }
   ],
   "source": [
    "# 튜플에서도 사용\n",
    "'Son HeungMin' in ('Kim MinJae', 'Son HeungMin', 'Lee GangIn')"
   ]
  },
  {
   "cell_type": "code",
   "execution_count": null,
   "id": "7ee60b8f",
   "metadata": {},
   "outputs": [
    {
     "data": {
      "text/plain": [
       "False"
      ]
     },
     "metadata": {},
     "output_type": "display_data"
    }
   ],
   "source": [
    "# Q. not in은 str(영어)에서도 사용할 수 있습니다. 'football'에 's'가 포함되어 있는지 확인해 보세요. \n",
    "# [[YOUR CODE]]\n",
    "'s' in 'football'"
   ]
  },
  {
   "cell_type": "code",
   "execution_count": null,
   "id": "0eacc362",
   "metadata": {},
   "outputs": [
    {
     "data": {
      "text/plain": [
       "True"
      ]
     },
     "metadata": {},
     "output_type": "display_data"
    }
   ],
   "source": [
    "# Q. in은 str(한글)에서도 사용할 수 있습니다. '잘 먹었습니다.'에 '잘'이 있는지 확인해 보세요. \n",
    "# [[YOUR CODE]]\n",
    "'잘' in '잘 먹었습니다.'"
   ]
  },
  {
   "cell_type": "code",
   "execution_count": null,
   "id": "4f10e8ea",
   "metadata": {},
   "outputs": [
    {
     "name": "stdout",
     "output_type": "stream",
     "text": [
      "[0, 2, 4, 6, 8, 10]\n"
     ]
    }
   ],
   "source": [
    "# 반복문\n",
    "list_for = []\n",
    "for i in range(0, 11, 2):\n",
    "    list_for.append(i)\n",
    "\n",
    "print(list_for)"
   ]
  },
  {
   "cell_type": "code",
   "execution_count": null,
   "id": "3e9dd328",
   "metadata": {},
   "outputs": [
    {
     "data": {
      "text/plain": [
       "[0, 2, 4, 6, 8, 10]"
      ]
     },
     "metadata": {},
     "output_type": "display_data"
    }
   ],
   "source": [
    "# 리스트 컴프리헨션\n",
    "[x for x in range(0, 11, 2)]"
   ]
  },
  {
   "cell_type": "code",
   "execution_count": null,
   "id": "e663b1e8",
   "metadata": {},
   "outputs": [
    {
     "data": {
      "text/plain": [
       "['00', '22', '44', '66', '88', '1010']"
      ]
     },
     "metadata": {},
     "output_type": "display_data"
    }
   ],
   "source": [
    "[str(x) * 2 for x in range(0, 11, 2)]"
   ]
  },
  {
   "cell_type": "code",
   "execution_count": null,
   "id": "f8d7df20",
   "metadata": {},
   "outputs": [
    {
     "data": {
      "text/plain": [
       "[0, 1, 4, 9, 16, 25, 36, 49, 64, 81]"
      ]
     },
     "metadata": {},
     "output_type": "display_data"
    }
   ],
   "source": [
    "# Q. 리스트 컴프리헨션을 사용하여 다음을 출력해보세요!\n",
    "# [0, 1, 4, 9, 16, ..., 81]\n",
    "\n",
    "# [[YOUR CODE]]\n",
    "[x*x for x in range(10)]"
   ]
  },
  {
   "cell_type": "code",
   "execution_count": null,
   "id": "35501c5c",
   "metadata": {},
   "outputs": [
    {
     "name": "stdout",
     "output_type": "stream",
     "text": [
      "[0, 2, 4, 6, 8, 10]\n"
     ]
    }
   ],
   "source": [
    "# 반복문 + 조건문\n",
    "list_con = []\n",
    "for i in range(0, 11):\n",
    "    if i % 2 == 0:\n",
    "        list_con.append(i)\n",
    "\n",
    "print(list_con)"
   ]
  },
  {
   "cell_type": "code",
   "execution_count": null,
   "id": "f5b690f9",
   "metadata": {},
   "outputs": [
    {
     "data": {
      "text/plain": [
       "[2, 4, 6, 8, 10]"
      ]
     },
     "metadata": {},
     "output_type": "display_data"
    }
   ],
   "source": [
    "# 리스트 컴프리헨션 with 조건문\n",
    "[x for x in range(1, 11) if x % 2 == 0]"
   ]
  },
  {
   "cell_type": "code",
   "execution_count": null,
   "id": "2c3208e3",
   "metadata": {},
   "outputs": [
    {
     "name": "stdout",
     "output_type": "stream",
     "text": [
      "2500\n"
     ]
    }
   ],
   "source": [
    "# Q. 리스트 컴프리헨션을 사용하여 1 이상 100 이하 홀수들의 합을 계산해보세요!\n",
    "# [[YOUR CODE]]\n",
    "result = sum([x for x in range(1, 101) if x % 2 == 1])\n",
    "print(result)"
   ]
  },
  {
   "cell_type": "code",
   "execution_count": null,
   "id": "7896b623",
   "metadata": {},
   "outputs": [
    {
     "data": {
      "text/plain": [
       "[['아이스크림', '감자칩'],\n",
       " ['아이스크림', '팝콘'],\n",
       " ['아이스크림', '뿌셔뿌셔'],\n",
       " ['크림빵', '감자칩'],\n",
       " ['크림빵', '팝콘'],\n",
       " ['크림빵', '뿌셔뿌셔'],\n",
       " ['젤리', '감자칩'],\n",
       " ['젤리', '팝콘'],\n",
       " ['젤리', '뿌셔뿌셔']]"
      ]
     },
     "metadata": {},
     "output_type": "display_data"
    }
   ],
   "source": [
    "# 단짠단짠 조합\n",
    "sweetie = ['아이스크림', '크림빵', '젤리']\n",
    "savory = ['감자칩', '팝콘', '뿌셔뿌셔'] \n",
    "\n",
    "[[x, y] for x in sweetie for y in savory]"
   ]
  },
  {
   "cell_type": "code",
   "execution_count": null,
   "id": "48c15b7d",
   "metadata": {},
   "outputs": [
    {
     "data": {
      "text/plain": [
       "[['아이스크림', '감자칩'],\n",
       " ['아이스크림', '팝콘'],\n",
       " ['아이스크림', '뿌셔뿌셔'],\n",
       " ['크림빵', '감자칩'],\n",
       " ['크림빵', '팝콘'],\n",
       " ['크림빵', '뿌셔뿌셔'],\n",
       " ['젤리', '감자칩'],\n",
       " ['젤리', '팝콘'],\n",
       " ['젤리', '뿌셔뿌셔']]"
      ]
     },
     "metadata": {},
     "output_type": "display_data"
    }
   ],
   "source": [
    "sweetie = ['아이스크림', '크림빵', '젤리']\n",
    "savory = ['감자칩', '팝콘', '뿌셔뿌셔']\n",
    "\n",
    "sweet_savory = []\n",
    "for x in sweetie:\n",
    "    for y in savory:\n",
    "        sweet_savory.append([x, y])\n",
    "\n",
    "sweet_savory"
   ]
  },
  {
   "cell_type": "code",
   "execution_count": null,
   "id": "8a0c2663",
   "metadata": {},
   "outputs": [
    {
     "data": {
      "text/plain": [
       "[6, 12, 18, 24]"
      ]
     },
     "metadata": {},
     "output_type": "display_data"
    }
   ],
   "source": [
    "# 2와 3의 공배수\n",
    "[x for x in range(1, 30) if x % 2 == 0 if x % 3 == 0]"
   ]
  },
  {
   "cell_type": "code",
   "execution_count": null,
   "id": "c02956b1",
   "metadata": {},
   "outputs": [
    {
     "data": {
      "text/plain": [
       "[[1, 11],\n",
       " [2, 22],\n",
       " [3, 33],\n",
       " [4, 44],\n",
       " [5, 55],\n",
       " [6, 66],\n",
       " [7, 77],\n",
       " [8, 88],\n",
       " [9, 99]]"
      ]
     },
     "metadata": {},
     "output_type": "display_data"
    }
   ],
   "source": [
    "# Q. 리스트 컴프리헨션을 사용하여 다음을 출력해보세요!\n",
    "# [[1, 11], [2, 22], [3, 33], ..., [9, 99]]\n",
    "\n",
    "# [[YOUR CODE]]\n",
    "[[x, x * 11] for x in range(1, 10)]"
   ]
  },
  {
   "cell_type": "code",
   "execution_count": null,
   "id": "cbee1c30",
   "metadata": {},
   "outputs": [
    {
     "data": {
      "text/plain": [
       "{0, 2, 4, 6, 8, 10}"
      ]
     },
     "metadata": {},
     "output_type": "display_data"
    }
   ],
   "source": [
    "# 셋 컴프리헨션\n",
    "{x for x in range(0, 11, 2)}"
   ]
  },
  {
   "cell_type": "code",
   "execution_count": null,
   "id": "4c0ca5a0",
   "metadata": {},
   "outputs": [
    {
     "data": {
      "text/plain": [
       "set"
      ]
     },
     "metadata": {},
     "output_type": "display_data"
    }
   ],
   "source": [
    "type({x for x in range(0,11,2)})"
   ]
  },
  {
   "cell_type": "code",
   "execution_count": null,
   "id": "a00286b1",
   "metadata": {},
   "outputs": [
    {
     "data": {
      "text/plain": [
       "{3: 'minjae', 77: '크바라츠헬리아', 9: 'Osimhen', 99: 'Anguissa'}"
      ]
     },
     "metadata": {},
     "output_type": "display_data"
    }
   ],
   "source": [
    "# {나폴리 선수 번호:이름} 딕셔너리\n",
    "napoli_num = [3, 77, 9, 99]\n",
    "napoli_player = ['minjae', '크바라츠헬리아', 'Osimhen', 'Anguissa'] \n",
    "{k:v for k, v in zip(napoli_num, napoli_player)}"
   ]
  },
  {
   "cell_type": "code",
   "execution_count": null,
   "id": "18fdcb31",
   "metadata": {},
   "outputs": [
    {
     "data": {
      "text/plain": [
       "{3: 'minjae', 9: 'Osimhen'}"
      ]
     },
     "metadata": {},
     "output_type": "display_data"
    }
   ],
   "source": [
    "# 딕셔너리 컴프리헨션 with if문\n",
    "{k:v for k, v in zip(napoli_num, napoli_player) if k < 50}"
   ]
  }
 ],
 "metadata": {
  "language_info": {
   "name": "python"
  }
 },
 "nbformat": 4,
 "nbformat_minor": 5
}
