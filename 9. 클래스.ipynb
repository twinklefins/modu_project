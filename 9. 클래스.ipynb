{
 "cells": [
  {
   "cell_type": "code",
   "execution_count": 1,
   "id": "5f7d39ad",
   "metadata": {},
   "outputs": [],
   "source": [
    "class 클래스이름:\n",
    "    def 메서드이름(self):\n",
    "        명령블록"
   ]
  },
  {
   "cell_type": "code",
   "execution_count": 2,
   "id": "4c1e1feb",
   "metadata": {},
   "outputs": [],
   "source": [
    "# 첫 클래스 만들기\n",
    "class Aiffel:  # 클래스 이름은 대문자로 시작!\n",
    "    def cheer(self):\n",
    "        print('끝까지 화이팅!')"
   ]
  },
  {
   "cell_type": "code",
   "execution_count": 3,
   "id": "b7d9154f",
   "metadata": {},
   "outputs": [
    {
     "data": {
      "text/plain": [
       "__main__.Aiffel"
      ]
     },
     "execution_count": 3,
     "metadata": {},
     "output_type": "execute_result"
    }
   ],
   "source": [
    "# 응원 나와라, 얍!\n",
    "Aiffel"
   ]
  },
  {
   "cell_type": "code",
   "execution_count": null,
   "id": "37e11cfa",
   "metadata": {},
   "outputs": [],
   "source": [
    "객체 = 클래스이름()\n",
    "객체.메서드()"
   ]
  },
  {
   "cell_type": "code",
   "execution_count": 5,
   "id": "450bc9a0",
   "metadata": {},
   "outputs": [
    {
     "name": "stdout",
     "output_type": "stream",
     "text": [
      "끝까지 화이팅!\n"
     ]
    }
   ],
   "source": [
    "# 객체를 만들고 메서드 돌려보기\n",
    "python = Aiffel()\n",
    "python.cheer()"
   ]
  },
  {
   "cell_type": "code",
   "execution_count": 6,
   "id": "413cafbf",
   "metadata": {},
   "outputs": [],
   "source": [
    "class Aiffel:\n",
    "    def __init__(self, name):  # 생성자 안에 속성 \n",
    "        self.name = name\n",
    "    def cheer(self):\n",
    "        print(f\"{self.name}, 끝까지 화이팅!\")"
   ]
  },
  {
   "cell_type": "code",
   "execution_count": null,
   "id": "f5fe94c0",
   "metadata": {},
   "outputs": [],
   "source": [
    "class Aiffel: \n",
    "    def __init__(self, name): \n",
    "        self.new = name  # 속성과 속성값의 변수는 달라도 됩니다.\n",
    "    def cheer(self):\n",
    "        print(f\"{self.new}, 끝까지 화이팅!\")\n",
    "# Q. 각자의 이름을 넣어서 코드를 돌려주세요.\n",
    "python = Aiffel('[[YOUR NAME]]')  \n",
    "# Q. cheer 메서드를 호출해 보세요. \n",
    "# [[YOUR CODE]]"
   ]
  },
  {
   "cell_type": "code",
   "execution_count": 10,
   "id": "ea904390",
   "metadata": {},
   "outputs": [
    {
     "name": "stdout",
     "output_type": "stream",
     "text": [
      "이유주, 끝까지 화이팅!\n"
     ]
    }
   ],
   "source": [
    "class Aiffel: \n",
    "    def __init__(self, name): \n",
    "        self.new = name  # 속성과 속성값의 변수는 달라도 됩니다.\n",
    "    def cheer(self):\n",
    "        print(f\"{self.new}, 끝까지 화이팅!\")\n",
    "# Q. 각자의 이름을 넣어서 코드를 돌려주세요.\n",
    "python = Aiffel('이유주')  \n",
    "# Q. cheer 메서드를 호출해 보세요. \n",
    "python.cheer()\n"
   ]
  },
  {
   "cell_type": "code",
   "execution_count": 15,
   "id": "7219c944",
   "metadata": {},
   "outputs": [
    {
     "name": "stdout",
     "output_type": "stream",
     "text": [
      "알라딘\n"
     ]
    }
   ],
   "source": [
    "# [Playground] 좋아하는 영화의 주인공 이름을 넣어서 Aiffel 클래스의 객체를 만들어보세요!\n",
    "# [[YOUR CODE]]\n",
    "my_hero=Aiffel('알라딘')\n",
    "print(my_hero.new)"
   ]
  },
  {
   "cell_type": "code",
   "execution_count": null,
   "id": "543e6b16",
   "metadata": {},
   "outputs": [],
   "source": [
    "# 실습퀴즈1. 클래스1\n",
    "# 신발 클래스를 아래 조건에 맞추어서 작성하세요.\n",
    "\n",
    "class Shoes:\n",
    "    # 클래스 속성\n",
    "    brand = 'Python'\n",
    "    production_count = 0\n",
    "\n",
    "    def __init__(self, model, size, color):\n",
    "        # [[YOUR CODE]]\n",
    "\n",
    "    def __str__(self):\n",
    "        # [[YOUR CODE]]\n",
    "\n",
    "    def color_change(self, new_color):\n",
    "        # [[YOUR CODE]]"
   ]
  },
  {
   "cell_type": "code",
   "execution_count": 37,
   "id": "358e6478",
   "metadata": {},
   "outputs": [],
   "source": [
    "# 실습퀴즈1. 클래스1\n",
    "# 신발 클래스를 아래 조건에 맞추어서 작성하세요.\n",
    "\n",
    "class Shoes:\n",
    "    # 클래스 속성\n",
    "    brand = 'Python'\n",
    "    production_count = 0\n",
    "\n",
    "    def __init__(self, model, size, color):\n",
    "        self.model = model\n",
    "        self.size = size\n",
    "        self. color = color\n",
    "        Shoes.production_count += 1\n",
    "        print(f\"Shoes({self.model}, {self.size}, {self.color}를 생성하였습니다.)\")\n",
    "\n",
    "    def __str__(self):\n",
    "        return f\"Shoes({self.model}, {self.size}, {self.color})\"\n",
    "\n",
    "    def color_change(self, new_color):\n",
    "        self.color = new_color"
   ]
  },
  {
   "cell_type": "code",
   "execution_count": 38,
   "id": "46f51e18",
   "metadata": {},
   "outputs": [
    {
     "name": "stdout",
     "output_type": "stream",
     "text": [
      "Shoes(Snaeakers, 245, blue를 생성하였습니다.)\n",
      "Shoes(slippers, 275, beige를 생성하였습니다.)\n"
     ]
    }
   ],
   "source": [
    "# 실습퀴즈2. 클래스2\n",
    "# sneakers, slippers 객체 생성 후 color_change() 메서드를 사용해 보고, 총 신발 개수를 출력해 보세요!\n",
    "\n",
    "# 신발 두 켤레를 생성합니다. 크기와 색상은 자유롭게 지정해주세요.\n",
    "sneakers = Shoes('Snaeakers', 245, 'blue')  # model 속성: sneakers\n",
    "slippers = Shoes('slippers', 275, 'beige')  # model 속성: slippers"
   ]
  },
  {
   "cell_type": "code",
   "execution_count": 39,
   "id": "a124af77",
   "metadata": {},
   "outputs": [
    {
     "name": "stdout",
     "output_type": "stream",
     "text": [
      "Shoes(Snaeakers, 245, blue)\n",
      "Shoes(slippers, 275, beige)\n"
     ]
    }
   ],
   "source": [
    "# __str__() 메서드가 잘 구현되었는지 확인해봅시다.\n",
    "print(sneakers)\n",
    "print(slippers)"
   ]
  },
  {
   "cell_type": "code",
   "execution_count": 40,
   "id": "85f47617",
   "metadata": {},
   "outputs": [
    {
     "name": "stdout",
     "output_type": "stream",
     "text": [
      "red\n",
      "black\n"
     ]
    }
   ],
   "source": [
    "# 신발의 색상을 변경하고 바뀐 색상을 출력해봅시다.\n",
    "# [[YOUR CODE]]\n",
    "sneakers.color_change('red')\n",
    "slippers.color_change('black')\n",
    "\n",
    "print(sneakers.color)\n",
    "print(slippers.color)"
   ]
  },
  {
   "cell_type": "code",
   "execution_count": 42,
   "id": "80e5ee49",
   "metadata": {},
   "outputs": [],
   "source": [
    "# 클래스 속성 brand를 'Python'에서 'Aiffel'로 변경\n",
    "Shoes.brand = 'Aiffel'"
   ]
  },
  {
   "cell_type": "code",
   "execution_count": 43,
   "id": "0188323a",
   "metadata": {},
   "outputs": [
    {
     "name": "stdout",
     "output_type": "stream",
     "text": [
      "Aiffel\n",
      "Aiffel\n"
     ]
    }
   ],
   "source": [
    "# sneakers와 slippers의 brand 속성을 출력해봅시다.\n",
    "# 브랜드가 'Aiffel'로 바뀌었을까요?\n",
    "# [[YOUR CODE]]\n",
    "print(sneakers.brand)\n",
    "print(slippers.brand)"
   ]
  },
  {
   "cell_type": "code",
   "execution_count": 44,
   "id": "8993905a",
   "metadata": {},
   "outputs": [
    {
     "name": "stdout",
     "output_type": "stream",
     "text": [
      "2\n"
     ]
    }
   ],
   "source": [
    "# 신발의 총 개수를 출력해봅시다.\n",
    "# [[YOUR CODE]]\n",
    "print(Shoes.production_count)"
   ]
  },
  {
   "cell_type": "code",
   "execution_count": 45,
   "id": "e366a9e6",
   "metadata": {},
   "outputs": [],
   "source": [
    "class Parent: \n",
    "    # 속성\n",
    "    name = '모두연'\n",
    "    city = '서울'\n",
    "\n",
    "    # 메서드\n",
    "    def identify(self):\n",
    "         print('저를 소개하겠습니다:')\n",
    "\n",
    "class Child(Parent):\n",
    "    def __init__(self, name):\n",
    "         self.name = name\n",
    "    def identify_name(self):\n",
    "        print('이름은', self.name, '입니다.')\n",
    "    def identify_city(self):\n",
    "         print('고향은', self.city, '입니다.')"
   ]
  },
  {
   "cell_type": "code",
   "execution_count": 46,
   "id": "d873aef7",
   "metadata": {},
   "outputs": [
    {
     "name": "stdout",
     "output_type": "stream",
     "text": [
      "저를 소개하겠습니다:\n",
      "이름은 아이펠 입니다.\n",
      "고향은 서울 입니다.\n"
     ]
    }
   ],
   "source": [
    "c = Child('아이펠') \n",
    "c.identify()\n",
    "c.identify_name()\n",
    "c.identify_city()"
   ]
  },
  {
   "cell_type": "code",
   "execution_count": 47,
   "id": "264363f3",
   "metadata": {},
   "outputs": [],
   "source": [
    "# 자식 클래스는 부모 클래스의 속성과 메서드를 상속받으면 자유롭게 사용할 수 있으나, 부모 클래스의 인스턴스 속성은 상속되지 않음\n",
    "# 부모 클래스의 인스턴스 속성은 부모 클래스의 객체가 생성될 때 __init__()이 실행되면서 생성되는데,\n",
    "# 자식 클래스를 생성할 때에 부모 클래스의 __init__() 함수가 실행되지는 않기 때문에 인스턴스 속성은 자식 클래스에 상속되지 않음\n",
    "\n",
    "# 인스턴스 속성의 예\n",
    "class Parent:\n",
    "    # 인스턴스 속성\n",
    "    def __init__(self):\n",
    "         self.name = '모두연'\n",
    "         self.city = '서울'\n",
    "\n",
    "    # 메서드\n",
    "    def identify(self):\n",
    "         print('저를 소개하겠습니다:')"
   ]
  },
  {
   "cell_type": "code",
   "execution_count": 48,
   "id": "9ea7bf37",
   "metadata": {},
   "outputs": [],
   "source": [
    "# 부모 클래스의 인스턴스 속성을 자식 클래스에서도 사용하기를 원한다면 super().__init__() 함수를 사용하여 \n",
    "# 부모 클래스의 __init__()를 자식 클래스의 __init__()에서 실행시켜야 함\n",
    "\n",
    "class Parent:\n",
    "    # 인스턴스 속성\n",
    "    def __init__(self):\n",
    "        self.name = '모두연'\n",
    "        self.city = '서울'\n",
    "\n",
    "    # 메서드\n",
    "    def identify(self):\n",
    "         print('저를 소개하겠습니다:')\n",
    "\n",
    "class Child(Parent):\n",
    "    def __init__(self, name):\n",
    "        super().__init__()\n",
    "        self.name = name\n",
    "    def identify_name(self):\n",
    "        print('이름은', self.name, '입니다.')\n",
    "    def identify_city(self):\n",
    "        print('고향은', self.city, '입니다.')"
   ]
  },
  {
   "cell_type": "code",
   "execution_count": null,
   "id": "1b2e36a2",
   "metadata": {},
   "outputs": [],
   "source": [
    "# 실습퀴즈4. 클래스 3  \n",
    "# 모두의연구소를 소개하는 클래스를 만들어 보세요.\n",
    "\n",
    "class Modulabs:\n",
    "    def __init__(self, name, value):\n",
    "        self.name = # [[YOUR CODE]]\n",
    "        self.value = # [[YOUR CODE]]\n",
    "\n",
    "    def describe(self):\n",
    "        return f\"{self.name}은 {self.value}.\"\n",
    "\n",
    "class FlippedSchool(# [[YOUR CODE]]): \n",
    "    def __init__(self, name, value):\n",
    "        super().__init__(name, value)\n",
    "\n",
    "    def describe(self):\n",
    "        return f\"{super().describe()}\"\n",
    "\n",
    "class Aiffel(# [[YOUR CODE]]): \n",
    "    def __init__(self, name, value):\n",
    "        # [[YOUR CODE]]\n",
    "\n",
    "    def describe(self):\n",
    "        # [[YOUR CODE]]\n",
    "\n",
    "class Lab(# [[YOUR CODE]]): \n",
    "    def __init__(# [[YOUR CODE]]):\n",
    "        # [[YOUR CODE]]\n",
    "\n",
    "    def describe(self):\n",
    "        # [[YOUR CODE]]\n",
    "\n",
    "class Modu:\n",
    "    def __init__(self, name, modulabs):\n",
    "        self.name = # [[YOUR CODE]]\n",
    "        self.modulabs = # [[YOUR CODE]]\n",
    "\n",
    "    def describe(self):\n",
    "        modulabs_descriptions = # [[YOUR CODE]]\n",
    "        return f\"{self.name}에는 다음과 같은 프로그램들이 있습니다 :\\n\" + \"\\n\".join(modulabs_descriptions)"
   ]
  },
  {
   "cell_type": "code",
   "execution_count": 58,
   "id": "34c8e3f4",
   "metadata": {},
   "outputs": [
    {
     "name": "stdout",
     "output_type": "stream",
     "text": [
      "<__main__.Modulabs object at 0x103dee570>\n"
     ]
    }
   ],
   "source": [
    "# 실습퀴즈4. 클래스 3  \n",
    "# 모두의연구소를 소개하는 클래스를 만들어 보세요.\n",
    "\n",
    "class Modulabs:\n",
    "    def __init__(self, name, value):\n",
    "        self.name = name\n",
    "        self.value = value\n",
    "\n",
    "    def describe(self):\n",
    "        return f\"{self.name}은 {self.value}입니다.\"\n",
    "\n",
    "class FlippedSchool(Modulabs): \n",
    "    def __init__(self, name, value):\n",
    "        super().__init__(name, value)\n",
    "\n",
    "    def describe(self):\n",
    "        return f\"{super().describe()}\"\n",
    "\n",
    "class Aiffel(Modulabs): \n",
    "    def __init__(self, name, value):\n",
    "        super().__init__(name, value)\n",
    "\n",
    "    def describe(self):\n",
    "        return f\"{super().describe()}\"\n",
    "\n",
    "class Lab(Modulabs): \n",
    "    def __init__(self, name, value):\n",
    "        super().__init__(name, value)\n",
    "\n",
    "    def describe(self):\n",
    "        return f\"{super().describe()}\"\n",
    "\n",
    "class Modu:\n",
    "    def __init__(self, name, modulabs):\n",
    "        self.name = name\n",
    "        self.modulabs = modulabs\n",
    "\n",
    "    def describe(self):\n",
    "        modulabs_descriptions = [modulabs.describe() for modulabs in self.modulabs]\n",
    "        return f\"{self.name}에는 다음과 같은 프로그램들이 있습니다 :\\n\" + \"\\n\".join(modulabs_descriptions)\n",
    "    \n",
    "모두의연구소 = Modulabs('모두연', '코딩')\n",
    "print(모두의연구소)"
   ]
  },
  {
   "cell_type": "code",
   "execution_count": 59,
   "id": "d4ce8bd8",
   "metadata": {},
   "outputs": [
    {
     "name": "stdout",
     "output_type": "stream",
     "text": [
      "모두연에는 다음과 같은 프로그램들이 있습니다 :\n",
      "모두연은 지식을 공유하며 경험을 통해 배우는 열린 연구소입니다.\n",
      "풀잎스쿨은 함께 성장하는 플립 러닝 기반 스터디 모임입니다.\n",
      "아이펠은 함께 탐험하며 성장하는 AI 학교입니다.\n",
      "LAB은 연구하며 논문도 쓸 수 있는 연구 모임입니다.\n"
     ]
    }
   ],
   "source": [
    "# 결과 확인\n",
    "modulabs1 = Modulabs(\"모두연\", \"지식을 공유하며 경험을 통해 배우는 열린 연구소\")\n",
    "modulabs2 = FlippedSchool(\"풀잎스쿨\", \"함께 성장하는 플립 러닝 기반 스터디 모임\")\n",
    "modulabs3 = Aiffel(\"아이펠\", \"함께 탐험하며 성장하는 AI 학교\")\n",
    "modulabs4 = Lab(\"LAB\",\"연구하며 논문도 쓸 수 있는 연구 모임\")\n",
    "\n",
    "modu = Modu(\"모두연\", [modulabs1, modulabs2, modulabs3, modulabs4])\n",
    "print(modu.describe())"
   ]
  }
 ],
 "metadata": {
  "kernelspec": {
   "display_name": "Python 3",
   "language": "python",
   "name": "python3"
  },
  "language_info": {
   "codemirror_mode": {
    "name": "ipython",
    "version": 3
   },
   "file_extension": ".py",
   "mimetype": "text/x-python",
   "name": "python",
   "nbconvert_exporter": "python",
   "pygments_lexer": "ipython3",
   "version": "3.12.3"
  }
 },
 "nbformat": 4,
 "nbformat_minor": 5
}
