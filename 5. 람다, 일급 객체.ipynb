{
 "cells": [
  {
   "cell_type": "code",
   "execution_count": 1,
   "id": "c4570687",
   "metadata": {},
   "outputs": [
    {
     "data": {
      "text/plain": [
       "7"
      ]
     },
     "execution_count": 1,
     "metadata": {},
     "output_type": "execute_result"
    }
   ],
   "source": [
    "# 일반 함수\n",
    "def add_two(x):\n",
    "    return x + 2 \n",
    "\n",
    "add_two(5)"
   ]
  },
  {
   "cell_type": "code",
   "execution_count": 2,
   "id": "f572bb70",
   "metadata": {},
   "outputs": [
    {
     "data": {
      "text/plain": [
       "7"
      ]
     },
     "execution_count": 2,
     "metadata": {},
     "output_type": "execute_result"
    }
   ],
   "source": [
    "# 람다 함수\n",
    "(lambda x : x + 2)(5)"
   ]
  },
  {
   "cell_type": "code",
   "execution_count": 3,
   "id": "5ddeee79",
   "metadata": {},
   "outputs": [
    {
     "data": {
      "text/plain": [
       "5"
      ]
     },
     "execution_count": 3,
     "metadata": {},
     "output_type": "execute_result"
    }
   ],
   "source": [
    "# 변수에 할당된 람다 함수\n",
    "add = lambda x : x + 2\n",
    "add(3)"
   ]
  },
  {
   "cell_type": "code",
   "execution_count": 6,
   "id": "60dfdd91",
   "metadata": {},
   "outputs": [
    {
     "ename": "SyntaxError",
     "evalue": "invalid syntax (2537519879.py, line 2)",
     "output_type": "error",
     "traceback": [
      "  \u001b[36mCell\u001b[39m\u001b[36m \u001b[39m\u001b[32mIn[6]\u001b[39m\u001b[32m, line 2\u001b[39m\n\u001b[31m    \u001b[39m\u001b[31m(lambda x: y = 10; x + y)(1)  # 'y = 10' 이 새 변수를 만든 부분\u001b[39m\n                 ^\n\u001b[31mSyntaxError\u001b[39m\u001b[31m:\u001b[39m invalid syntax\n"
     ]
    }
   ],
   "source": [
    "# 람다 표현식 안에서 새 변수를 만들면 어떻게 될까요?\n",
    "(lambda x: y = 10; x + y)(1)  # 'y = 10' 이 새 변수를 만든 부분"
   ]
  },
  {
   "cell_type": "code",
   "execution_count": 7,
   "id": "be00bedf",
   "metadata": {},
   "outputs": [
    {
     "data": {
      "text/plain": [
       "'이탈리아 나폴리 '"
      ]
     },
     "execution_count": 7,
     "metadata": {},
     "output_type": "execute_result"
    }
   ],
   "source": [
    "# 람다 외부 변수 사용하기\n",
    "y = ' 나폴리 '\n",
    "(lambda x : x + y)('이탈리아')  # 인수를 x만 받기 때문에 '이탈리아'가 x에 할당됩니다."
   ]
  },
  {
   "cell_type": "code",
   "execution_count": 8,
   "id": "b0e6fbb0",
   "metadata": {},
   "outputs": [
    {
     "data": {
      "text/plain": [
       "<map at 0x10413a170>"
      ]
     },
     "execution_count": 8,
     "metadata": {},
     "output_type": "execute_result"
    }
   ],
   "source": [
    "# 일반 함수\n",
    "def second(x):\n",
    "    results = x * 2\n",
    "    return results\n",
    "\n",
    "# 리스트 \n",
    "two = [i for i in range(10)]\n",
    "\n",
    "# map() + 일반함수\n",
    "map(second, two)"
   ]
  },
  {
   "cell_type": "code",
   "execution_count": 9,
   "id": "897f3ada",
   "metadata": {},
   "outputs": [
    {
     "data": {
      "text/plain": [
       "[0, 2, 4, 6, 8, 10, 12, 14, 16, 18]"
      ]
     },
     "execution_count": 9,
     "metadata": {},
     "output_type": "execute_result"
    }
   ],
   "source": [
    "# 파이썬 3에서 map을 list로 리턴하기\n",
    "list(map(second, two))"
   ]
  },
  {
   "cell_type": "code",
   "execution_count": 11,
   "id": "6ccb642b",
   "metadata": {},
   "outputs": [
    {
     "data": {
      "text/plain": [
       "(0, 2, 4, 6, 8, 10, 12, 14, 16, 18)"
      ]
     },
     "execution_count": 11,
     "metadata": {},
     "output_type": "execute_result"
    }
   ],
   "source": [
    "# Q. 파이썬 3에서 map을 tuple로 리턴해 보세요. \n",
    "# [[YOUR CODE]]\n",
    "tuple(map(second, two))"
   ]
  },
  {
   "cell_type": "code",
   "execution_count": 12,
   "id": "444bd873",
   "metadata": {},
   "outputs": [
    {
     "data": {
      "text/plain": [
       "[0, 2, 4, 6, 8, 10, 12, 14, 16, 18]"
      ]
     },
     "execution_count": 12,
     "metadata": {},
     "output_type": "execute_result"
    }
   ],
   "source": [
    "# 리스트\n",
    "two = [i for i in range(10)]\n",
    "\n",
    "# map() + 람다 함수\n",
    "map(lambda x : x * 2, two)\n",
    "\n",
    "# 파이썬 3에서 map을 list로 리턴하기\n",
    "list(map(lambda x : x * 2, two))"
   ]
  },
  {
   "cell_type": "code",
   "execution_count": 16,
   "id": "d3c1c094",
   "metadata": {},
   "outputs": [
    {
     "data": {
      "text/plain": [
       "[1, 4, 9, 16, 25, 36, 49, 64, 81, 100]"
      ]
     },
     "execution_count": 16,
     "metadata": {},
     "output_type": "execute_result"
    }
   ],
   "source": [
    "# Q. 다음 리스트를 출력하는 코드를 람다 표현식과 리스트 컴프리헨션을 이용해 구현해보세요!\n",
    "# [1, 4, 9, 16, ..., 81, 100]\n",
    "\n",
    "# [[YOUR CODE]]\n",
    "list(map(lambda x : x**2, range(1,11)))"
   ]
  },
  {
   "cell_type": "code",
   "execution_count": 17,
   "id": "c7f43f1b",
   "metadata": {},
   "outputs": [
    {
     "data": {
      "text/plain": [
       "[1, 4, 9, 16, 25, 36, 49, 64, 81, 100]"
      ]
     },
     "execution_count": 17,
     "metadata": {},
     "output_type": "execute_result"
    }
   ],
   "source": [
    "[x**2 for x in range(1,11)]"
   ]
  },
  {
   "cell_type": "code",
   "execution_count": null,
   "id": "6914e69c",
   "metadata": {},
   "outputs": [],
   "source": [
    "# 일반 함수\n",
    "def odd(x):\n",
    "    if x % 2 == 1:\n",
    "        return x\n",
    "\n",
    "# 리스트\n",
    "two = [i for i in range(10)]\n",
    "\n",
    "# list(filter() + 일반 함수)\n",
    "list(filter(odd, two))"
   ]
  },
  {
   "cell_type": "code",
   "execution_count": 18,
   "id": "3be77e8d",
   "metadata": {},
   "outputs": [
    {
     "data": {
      "text/plain": [
       "[1, 3, 5, 7, 9]"
      ]
     },
     "execution_count": 18,
     "metadata": {},
     "output_type": "execute_result"
    }
   ],
   "source": [
    "# list(filter() + 람다 함수)\n",
    "list(filter(lambda x : x % 2 == 1, two))"
   ]
  },
  {
   "cell_type": "code",
   "execution_count": 19,
   "id": "e8c16aa5",
   "metadata": {},
   "outputs": [
    {
     "data": {
      "text/plain": [
       "[1, 3, 5, 7, 9]"
      ]
     },
     "execution_count": 19,
     "metadata": {},
     "output_type": "execute_result"
    }
   ],
   "source": [
    "# 파이썬은 조건이 없으면 True일 때만 통과\n",
    "list(filter(lambda x : x % 2, two))"
   ]
  },
  {
   "cell_type": "code",
   "execution_count": 20,
   "id": "1d9c2b09",
   "metadata": {},
   "outputs": [
    {
     "data": {
      "text/plain": [
       "[4, 5, 6]"
      ]
     },
     "execution_count": 20,
     "metadata": {},
     "output_type": "execute_result"
    }
   ],
   "source": [
    "# Q. 다음 리스트를 출력하는 코드를 filter() 함수와 람다 표현식을 이용해 구현해보세요!\n",
    "# [4, 5, 6]\n",
    "\n",
    "quiz_list = [i for i in range(10)]\n",
    "# [[YOUR CODE]]\n",
    "list(filter(lambda x : 4<=x<=6, quiz_list))"
   ]
  },
  {
   "cell_type": "code",
   "execution_count": 21,
   "id": "ed023333",
   "metadata": {},
   "outputs": [
    {
     "data": {
      "text/plain": [
       "120"
      ]
     },
     "execution_count": 21,
     "metadata": {},
     "output_type": "execute_result"
    }
   ],
   "source": [
    "# 모듈 import\n",
    "from functools import reduce\n",
    "\n",
    "# 일반 함수\n",
    "def f(x, y):\n",
    "    return x * y\n",
    "\n",
    "# 리스트\n",
    "a = [1, 2, 3, 4, 5]\n",
    "\n",
    "# reduce(일반 함수, 이터러블 객체)\n",
    "reduce(f, a)"
   ]
  },
  {
   "cell_type": "code",
   "execution_count": 22,
   "id": "d4b5f6df",
   "metadata": {},
   "outputs": [
    {
     "data": {
      "text/plain": [
       "120"
      ]
     },
     "execution_count": 22,
     "metadata": {},
     "output_type": "execute_result"
    }
   ],
   "source": [
    "# 리스트\n",
    "a = [1, 2, 3, 4, 5]\n",
    "\n",
    "# reduce(람다 함수, 이터러블 객체)\n",
    "reduce(lambda x, y : x * y, a)"
   ]
  },
  {
   "cell_type": "code",
   "execution_count": 29,
   "id": "6c5b2e68",
   "metadata": {},
   "outputs": [
    {
     "data": {
      "text/plain": [
       "5050"
      ]
     },
     "execution_count": 29,
     "metadata": {},
     "output_type": "execute_result"
    }
   ],
   "source": [
    "# Q. 리스트 컴프리헨션과 람다 표현식을 이용해 1부터 100까지의 합을 구하는 코드를 구현해보세요!\n",
    "\n",
    "# [[YOUR CODE]]\n",
    "reduce(lambda x,y : x+y, range(1,101))"
   ]
  },
  {
   "cell_type": "code",
   "execution_count": 30,
   "id": "f3074fb7",
   "metadata": {},
   "outputs": [
    {
     "data": {
      "text/plain": [
       "5050"
      ]
     },
     "execution_count": 30,
     "metadata": {},
     "output_type": "execute_result"
    }
   ],
   "source": [
    "sum([i for i in range(1, 101)])"
   ]
  },
  {
   "cell_type": "code",
   "execution_count": 32,
   "id": "7ef9905b",
   "metadata": {},
   "outputs": [
    {
     "data": {
      "text/plain": [
       "int"
      ]
     },
     "execution_count": 32,
     "metadata": {},
     "output_type": "execute_result"
    }
   ],
   "source": [
    "# 변수로 할당 \n",
    "x = 3\n",
    "type(x)"
   ]
  },
  {
   "cell_type": "code",
   "execution_count": 33,
   "id": "3073977f",
   "metadata": {},
   "outputs": [],
   "source": [
    "# 자료구조 안에 담기\n",
    "y = [1, 2, 3]"
   ]
  },
  {
   "cell_type": "code",
   "execution_count": 34,
   "id": "04b75331",
   "metadata": {},
   "outputs": [
    {
     "name": "stdout",
     "output_type": "stream",
     "text": [
      "4\n"
     ]
    }
   ],
   "source": [
    "# 매개변수로 전달 \n",
    "a, b = 3, 1\n",
    "def add(x, y):\n",
    "    print(x + y)\n",
    "\n",
    "add(a, b)"
   ]
  },
  {
   "cell_type": "code",
   "execution_count": 35,
   "id": "fc3c4bb0",
   "metadata": {},
   "outputs": [
    {
     "data": {
      "text/plain": [
       "3"
      ]
     },
     "execution_count": 35,
     "metadata": {},
     "output_type": "execute_result"
    }
   ],
   "source": [
    "# 리턴값으로 사용 \n",
    "def num():\n",
    "    return 3\n",
    "    \n",
    "num()"
   ]
  },
  {
   "cell_type": "code",
   "execution_count": 36,
   "id": "43f97724",
   "metadata": {},
   "outputs": [
    {
     "data": {
      "text/plain": [
       "function"
      ]
     },
     "execution_count": 36,
     "metadata": {},
     "output_type": "execute_result"
    }
   ],
   "source": [
    "# 함수의 타입\n",
    "type(num)"
   ]
  },
  {
   "cell_type": "code",
   "execution_count": 37,
   "id": "c93fe152",
   "metadata": {},
   "outputs": [
    {
     "name": "stdout",
     "output_type": "stream",
     "text": [
      "<function add at 0x104757920>\n",
      "<function add at 0x104757920>\n"
     ]
    }
   ],
   "source": [
    "# 두 수를 더한 값을 리턴하는 add 함수 선언 \n",
    "def add(a, b):   \n",
    "    return a + b  \n",
    "\n",
    "# f1이라는 변수에 add 함수 할당\n",
    "f1 = add         \n",
    "\n",
    "print(add)      \n",
    "print(f1)          # add함수와 f1의 메모리 주소 출력"
   ]
  },
  {
   "cell_type": "code",
   "execution_count": 38,
   "id": "7a81729d",
   "metadata": {},
   "outputs": [
    {
     "name": "stdout",
     "output_type": "stream",
     "text": [
      "True\n"
     ]
    }
   ],
   "source": [
    "# is 함수로 비교\n",
    "print(f1 is add)"
   ]
  },
  {
   "cell_type": "code",
   "execution_count": 39,
   "id": "872e60d9",
   "metadata": {},
   "outputs": [
    {
     "name": "stdout",
     "output_type": "stream",
     "text": [
      "3\n",
      "3\n"
     ]
    }
   ],
   "source": [
    "# 동일한 인수 전달\n",
    "print(f1(1, 2))   \n",
    "print(add(1, 2))"
   ]
  },
  {
   "cell_type": "code",
   "execution_count": 40,
   "id": "ef6e2c91",
   "metadata": {},
   "outputs": [
    {
     "name": "stdout",
     "output_type": "stream",
     "text": [
      "15\n",
      "5\n"
     ]
    }
   ],
   "source": [
    "def add(a, b): \n",
    "    return a + b\n",
    "\n",
    "def minus(a, b):\n",
    "    return a - b\n",
    "\n",
    "# 리스트에 함수 할당\n",
    "calc = [add, minus]\n",
    "\n",
    "for i in calc:\n",
    "    print(i(10, 5)) # 15와 5를 출력"
   ]
  },
  {
   "cell_type": "code",
   "execution_count": 41,
   "id": "884069fa",
   "metadata": {},
   "outputs": [
    {
     "data": {
      "text/plain": [
       "[1, 3, 5, 7, 9]"
      ]
     },
     "execution_count": 41,
     "metadata": {},
     "output_type": "execute_result"
    }
   ],
   "source": [
    "# 함수\n",
    "def odd(x):\n",
    "    if x % 2 == 1:\n",
    "        return x\n",
    "\n",
    "# 리스트\n",
    "two = [i for i in range(10)]\n",
    "\n",
    "# filter 함수에 odd 함수를 매개변수로 전달\n",
    "list(filter(odd, two))"
   ]
  },
  {
   "cell_type": "code",
   "execution_count": 42,
   "id": "8596695a",
   "metadata": {},
   "outputs": [
    {
     "name": "stdout",
     "output_type": "stream",
     "text": [
      "Hello AIFFEL!\n"
     ]
    }
   ],
   "source": [
    "# 위의 함수 구조와 비교해서 보기\n",
    "def hello(name): \n",
    "    def printer():\n",
    "        print(f\"Hello {name}!\") \n",
    "\n",
    "    return printer              \n",
    "\n",
    "func = hello(\"AIFFEL\")             \n",
    "func()"
   ]
  },
  {
   "cell_type": "code",
   "execution_count": 43,
   "id": "6b2bdb30",
   "metadata": {},
   "outputs": [
    {
     "name": "stdout",
     "output_type": "stream",
     "text": [
      "Hello 파이썬!\n"
     ]
    }
   ],
   "source": [
    "# \"인유\", \"파이썬\", \"AIFFEL\" 중에 어떤 이름이 나올까요?\n",
    "name = \"인유\"\n",
    "def hello(name): \n",
    "    def printer():\n",
    "        name = \"파이썬\"\n",
    "        print(f\"Hello {name}!\") \n",
    "\n",
    "    return printer              \n",
    "\n",
    "func = hello(\"AIFFEL\")             \n",
    "func()"
   ]
  },
  {
   "cell_type": "code",
   "execution_count": 44,
   "id": "7d70111f",
   "metadata": {},
   "outputs": [
    {
     "data": {
      "text/plain": [
       "0.6931471805599453"
      ]
     },
     "execution_count": 44,
     "metadata": {},
     "output_type": "execute_result"
    }
   ],
   "source": [
    "import math\n",
    "\n",
    "# log 2\n",
    "math.log(2)"
   ]
  },
  {
   "cell_type": "code",
   "execution_count": 45,
   "id": "63f55b65",
   "metadata": {},
   "outputs": [
    {
     "data": {
      "text/plain": [
       "[0.0,\n",
       " 0.6931471805599453,\n",
       " 1.0986122886681098,\n",
       " 1.3862943611198906,\n",
       " 1.6094379124341003,\n",
       " 1.791759469228055,\n",
       " 1.9459101490553132,\n",
       " 2.0794415416798357,\n",
       " 2.1972245773362196,\n",
       " 2.302585092994046]"
      ]
     },
     "execution_count": 45,
     "metadata": {},
     "output_type": "execute_result"
    }
   ],
   "source": [
    "# 실습퀴즈 1. map 함수\n",
    "# 변수 numbers 안에 있는 값들을 모두 로그 변환해 보세요.\n",
    "\n",
    "import math \n",
    "numbers = list(range(1, 11))\n",
    "log_transformed_numbers = list(map(math.log, numbers))\n",
    "log_transformed_numbers"
   ]
  },
  {
   "cell_type": "code",
   "execution_count": null,
   "id": "5cb22613",
   "metadata": {},
   "outputs": [],
   "source": [
    "# 실습퀴즈2. 람다 표현식\n",
    "# 100 이하의 자연수 중에서 3의 배수가 아닌 숫자만 리스트에 담으세요. \n",
    "\n",
    "numbers = list(range(1, 101))\n",
    "filtered_numbers = list(map(math.log, numbers))\n",
    "filtered_numbers"
   ]
  },
  {
   "cell_type": "code",
   "execution_count": 46,
   "id": "aabc451b",
   "metadata": {},
   "outputs": [
    {
     "data": {
      "text/plain": [
       "0.041666666666666664"
      ]
     },
     "execution_count": 46,
     "metadata": {},
     "output_type": "execute_result"
    }
   ],
   "source": [
    "# 실습퀴즈3. 일급 객체 \n",
    "# reduce 함수를 함께 사용하여 함수를 매개변수로 전달하는 코드를 자유롭게 작성해 보세요. \n",
    "\n",
    "# [[YOUR CODE]]\n",
    "from functools import reduce\n",
    "def div(x, y):\n",
    "    return x / y\n",
    "a=[i for i in range(1,5)]\n",
    "reduce(div, a)"
   ]
  }
 ],
 "metadata": {
  "kernelspec": {
   "display_name": "Python 3",
   "language": "python",
   "name": "python3"
  },
  "language_info": {
   "codemirror_mode": {
    "name": "ipython",
    "version": 3
   },
   "file_extension": ".py",
   "mimetype": "text/x-python",
   "name": "python",
   "nbconvert_exporter": "python",
   "pygments_lexer": "ipython3",
   "version": "3.12.3"
  }
 },
 "nbformat": 4,
 "nbformat_minor": 5
}
